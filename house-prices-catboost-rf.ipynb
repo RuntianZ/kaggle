{
 "cells": [
  {
   "cell_type": "code",
   "execution_count": 1,
   "metadata": {},
   "outputs": [],
   "source": [
    "# Random forest with catboost\n",
    "\n",
    "import pandas as pd\n",
    "from catboost import CatBoostRegressor\n",
    "from sklearn.model_selection import train_test_split\n",
    "from sklearn.metrics import mean_squared_error\n",
    "\n",
    "def prepare_dataset(df):\n",
    "    # For categorical features, replace NA with \"Missing\"\n",
    "    categorical_columns = df.select_dtypes(include=['object']).columns\n",
    "    for key in categorical_columns:\n",
    "        df[key] = df[key].astype('category').cat.add_categories(\"Missing\").fillna(\"Missing\")\n",
    "    categorical_columns = df.select_dtypes(include=['category']).columns\n",
    "    return df, categorical_columns"
   ]
  },
  {
   "cell_type": "code",
   "execution_count": 2,
   "metadata": {},
   "outputs": [
    {
     "name": "stdout",
     "output_type": "stream",
     "text": [
      "Full train dataset shape is (1460, 81)\n"
     ]
    },
    {
     "data": {
      "text/html": [
       "<div>\n",
       "<style scoped>\n",
       "    .dataframe tbody tr th:only-of-type {\n",
       "        vertical-align: middle;\n",
       "    }\n",
       "\n",
       "    .dataframe tbody tr th {\n",
       "        vertical-align: top;\n",
       "    }\n",
       "\n",
       "    .dataframe thead th {\n",
       "        text-align: right;\n",
       "    }\n",
       "</style>\n",
       "<table border=\"1\" class=\"dataframe\">\n",
       "  <thead>\n",
       "    <tr style=\"text-align: right;\">\n",
       "      <th></th>\n",
       "      <th>Id</th>\n",
       "      <th>MSSubClass</th>\n",
       "      <th>MSZoning</th>\n",
       "      <th>LotFrontage</th>\n",
       "      <th>LotArea</th>\n",
       "      <th>Street</th>\n",
       "      <th>Alley</th>\n",
       "      <th>LotShape</th>\n",
       "      <th>LandContour</th>\n",
       "      <th>Utilities</th>\n",
       "      <th>...</th>\n",
       "      <th>PoolArea</th>\n",
       "      <th>PoolQC</th>\n",
       "      <th>Fence</th>\n",
       "      <th>MiscFeature</th>\n",
       "      <th>MiscVal</th>\n",
       "      <th>MoSold</th>\n",
       "      <th>YrSold</th>\n",
       "      <th>SaleType</th>\n",
       "      <th>SaleCondition</th>\n",
       "      <th>SalePrice</th>\n",
       "    </tr>\n",
       "  </thead>\n",
       "  <tbody>\n",
       "    <tr>\n",
       "      <th>0</th>\n",
       "      <td>1</td>\n",
       "      <td>60</td>\n",
       "      <td>RL</td>\n",
       "      <td>65.0</td>\n",
       "      <td>8450</td>\n",
       "      <td>Pave</td>\n",
       "      <td>NaN</td>\n",
       "      <td>Reg</td>\n",
       "      <td>Lvl</td>\n",
       "      <td>AllPub</td>\n",
       "      <td>...</td>\n",
       "      <td>0</td>\n",
       "      <td>NaN</td>\n",
       "      <td>NaN</td>\n",
       "      <td>NaN</td>\n",
       "      <td>0</td>\n",
       "      <td>2</td>\n",
       "      <td>2008</td>\n",
       "      <td>WD</td>\n",
       "      <td>Normal</td>\n",
       "      <td>208500</td>\n",
       "    </tr>\n",
       "    <tr>\n",
       "      <th>1</th>\n",
       "      <td>2</td>\n",
       "      <td>20</td>\n",
       "      <td>RL</td>\n",
       "      <td>80.0</td>\n",
       "      <td>9600</td>\n",
       "      <td>Pave</td>\n",
       "      <td>NaN</td>\n",
       "      <td>Reg</td>\n",
       "      <td>Lvl</td>\n",
       "      <td>AllPub</td>\n",
       "      <td>...</td>\n",
       "      <td>0</td>\n",
       "      <td>NaN</td>\n",
       "      <td>NaN</td>\n",
       "      <td>NaN</td>\n",
       "      <td>0</td>\n",
       "      <td>5</td>\n",
       "      <td>2007</td>\n",
       "      <td>WD</td>\n",
       "      <td>Normal</td>\n",
       "      <td>181500</td>\n",
       "    </tr>\n",
       "    <tr>\n",
       "      <th>2</th>\n",
       "      <td>3</td>\n",
       "      <td>60</td>\n",
       "      <td>RL</td>\n",
       "      <td>68.0</td>\n",
       "      <td>11250</td>\n",
       "      <td>Pave</td>\n",
       "      <td>NaN</td>\n",
       "      <td>IR1</td>\n",
       "      <td>Lvl</td>\n",
       "      <td>AllPub</td>\n",
       "      <td>...</td>\n",
       "      <td>0</td>\n",
       "      <td>NaN</td>\n",
       "      <td>NaN</td>\n",
       "      <td>NaN</td>\n",
       "      <td>0</td>\n",
       "      <td>9</td>\n",
       "      <td>2008</td>\n",
       "      <td>WD</td>\n",
       "      <td>Normal</td>\n",
       "      <td>223500</td>\n",
       "    </tr>\n",
       "  </tbody>\n",
       "</table>\n",
       "<p>3 rows × 81 columns</p>\n",
       "</div>"
      ],
      "text/plain": [
       "   Id  MSSubClass MSZoning  LotFrontage  LotArea Street Alley LotShape  \\\n",
       "0   1          60       RL         65.0     8450   Pave   NaN      Reg   \n",
       "1   2          20       RL         80.0     9600   Pave   NaN      Reg   \n",
       "2   3          60       RL         68.0    11250   Pave   NaN      IR1   \n",
       "\n",
       "  LandContour Utilities  ... PoolArea PoolQC Fence MiscFeature MiscVal MoSold  \\\n",
       "0         Lvl    AllPub  ...        0    NaN   NaN         NaN       0      2   \n",
       "1         Lvl    AllPub  ...        0    NaN   NaN         NaN       0      5   \n",
       "2         Lvl    AllPub  ...        0    NaN   NaN         NaN       0      9   \n",
       "\n",
       "  YrSold  SaleType  SaleCondition  SalePrice  \n",
       "0   2008        WD         Normal     208500  \n",
       "1   2007        WD         Normal     181500  \n",
       "2   2008        WD         Normal     223500  \n",
       "\n",
       "[3 rows x 81 columns]"
      ]
     },
     "execution_count": 2,
     "metadata": {},
     "output_type": "execute_result"
    }
   ],
   "source": [
    "train_file_path = \"data/house-prices/train.csv\"\n",
    "dataset_df = pd.read_csv(train_file_path)\n",
    "print(\"Full train dataset shape is {}\".format(dataset_df.shape))\n",
    "dataset_df.head(3)"
   ]
  },
  {
   "cell_type": "code",
   "execution_count": 3,
   "metadata": {},
   "outputs": [
    {
     "data": {
      "text/html": [
       "<div>\n",
       "<style scoped>\n",
       "    .dataframe tbody tr th:only-of-type {\n",
       "        vertical-align: middle;\n",
       "    }\n",
       "\n",
       "    .dataframe tbody tr th {\n",
       "        vertical-align: top;\n",
       "    }\n",
       "\n",
       "    .dataframe thead th {\n",
       "        text-align: right;\n",
       "    }\n",
       "</style>\n",
       "<table border=\"1\" class=\"dataframe\">\n",
       "  <thead>\n",
       "    <tr style=\"text-align: right;\">\n",
       "      <th></th>\n",
       "      <th>MSZoning</th>\n",
       "      <th>Street</th>\n",
       "      <th>Alley</th>\n",
       "      <th>LotShape</th>\n",
       "      <th>LandContour</th>\n",
       "      <th>Utilities</th>\n",
       "      <th>LotConfig</th>\n",
       "      <th>LandSlope</th>\n",
       "      <th>Neighborhood</th>\n",
       "      <th>Condition1</th>\n",
       "      <th>...</th>\n",
       "      <th>GarageType</th>\n",
       "      <th>GarageFinish</th>\n",
       "      <th>GarageQual</th>\n",
       "      <th>GarageCond</th>\n",
       "      <th>PavedDrive</th>\n",
       "      <th>PoolQC</th>\n",
       "      <th>Fence</th>\n",
       "      <th>MiscFeature</th>\n",
       "      <th>SaleType</th>\n",
       "      <th>SaleCondition</th>\n",
       "    </tr>\n",
       "  </thead>\n",
       "  <tbody>\n",
       "    <tr>\n",
       "      <th>0</th>\n",
       "      <td>RL</td>\n",
       "      <td>Pave</td>\n",
       "      <td>Missing</td>\n",
       "      <td>Reg</td>\n",
       "      <td>Lvl</td>\n",
       "      <td>AllPub</td>\n",
       "      <td>Inside</td>\n",
       "      <td>Gtl</td>\n",
       "      <td>CollgCr</td>\n",
       "      <td>Norm</td>\n",
       "      <td>...</td>\n",
       "      <td>Attchd</td>\n",
       "      <td>RFn</td>\n",
       "      <td>TA</td>\n",
       "      <td>TA</td>\n",
       "      <td>Y</td>\n",
       "      <td>Missing</td>\n",
       "      <td>Missing</td>\n",
       "      <td>Missing</td>\n",
       "      <td>WD</td>\n",
       "      <td>Normal</td>\n",
       "    </tr>\n",
       "    <tr>\n",
       "      <th>1</th>\n",
       "      <td>RL</td>\n",
       "      <td>Pave</td>\n",
       "      <td>Missing</td>\n",
       "      <td>Reg</td>\n",
       "      <td>Lvl</td>\n",
       "      <td>AllPub</td>\n",
       "      <td>FR2</td>\n",
       "      <td>Gtl</td>\n",
       "      <td>Veenker</td>\n",
       "      <td>Feedr</td>\n",
       "      <td>...</td>\n",
       "      <td>Attchd</td>\n",
       "      <td>RFn</td>\n",
       "      <td>TA</td>\n",
       "      <td>TA</td>\n",
       "      <td>Y</td>\n",
       "      <td>Missing</td>\n",
       "      <td>Missing</td>\n",
       "      <td>Missing</td>\n",
       "      <td>WD</td>\n",
       "      <td>Normal</td>\n",
       "    </tr>\n",
       "    <tr>\n",
       "      <th>2</th>\n",
       "      <td>RL</td>\n",
       "      <td>Pave</td>\n",
       "      <td>Missing</td>\n",
       "      <td>IR1</td>\n",
       "      <td>Lvl</td>\n",
       "      <td>AllPub</td>\n",
       "      <td>Inside</td>\n",
       "      <td>Gtl</td>\n",
       "      <td>CollgCr</td>\n",
       "      <td>Norm</td>\n",
       "      <td>...</td>\n",
       "      <td>Attchd</td>\n",
       "      <td>RFn</td>\n",
       "      <td>TA</td>\n",
       "      <td>TA</td>\n",
       "      <td>Y</td>\n",
       "      <td>Missing</td>\n",
       "      <td>Missing</td>\n",
       "      <td>Missing</td>\n",
       "      <td>WD</td>\n",
       "      <td>Normal</td>\n",
       "    </tr>\n",
       "    <tr>\n",
       "      <th>3</th>\n",
       "      <td>RL</td>\n",
       "      <td>Pave</td>\n",
       "      <td>Missing</td>\n",
       "      <td>IR1</td>\n",
       "      <td>Lvl</td>\n",
       "      <td>AllPub</td>\n",
       "      <td>Corner</td>\n",
       "      <td>Gtl</td>\n",
       "      <td>Crawfor</td>\n",
       "      <td>Norm</td>\n",
       "      <td>...</td>\n",
       "      <td>Detchd</td>\n",
       "      <td>Unf</td>\n",
       "      <td>TA</td>\n",
       "      <td>TA</td>\n",
       "      <td>Y</td>\n",
       "      <td>Missing</td>\n",
       "      <td>Missing</td>\n",
       "      <td>Missing</td>\n",
       "      <td>WD</td>\n",
       "      <td>Abnorml</td>\n",
       "    </tr>\n",
       "    <tr>\n",
       "      <th>4</th>\n",
       "      <td>RL</td>\n",
       "      <td>Pave</td>\n",
       "      <td>Missing</td>\n",
       "      <td>IR1</td>\n",
       "      <td>Lvl</td>\n",
       "      <td>AllPub</td>\n",
       "      <td>FR2</td>\n",
       "      <td>Gtl</td>\n",
       "      <td>NoRidge</td>\n",
       "      <td>Norm</td>\n",
       "      <td>...</td>\n",
       "      <td>Attchd</td>\n",
       "      <td>RFn</td>\n",
       "      <td>TA</td>\n",
       "      <td>TA</td>\n",
       "      <td>Y</td>\n",
       "      <td>Missing</td>\n",
       "      <td>Missing</td>\n",
       "      <td>Missing</td>\n",
       "      <td>WD</td>\n",
       "      <td>Normal</td>\n",
       "    </tr>\n",
       "    <tr>\n",
       "      <th>5</th>\n",
       "      <td>RL</td>\n",
       "      <td>Pave</td>\n",
       "      <td>Missing</td>\n",
       "      <td>IR1</td>\n",
       "      <td>Lvl</td>\n",
       "      <td>AllPub</td>\n",
       "      <td>Inside</td>\n",
       "      <td>Gtl</td>\n",
       "      <td>Mitchel</td>\n",
       "      <td>Norm</td>\n",
       "      <td>...</td>\n",
       "      <td>Attchd</td>\n",
       "      <td>Unf</td>\n",
       "      <td>TA</td>\n",
       "      <td>TA</td>\n",
       "      <td>Y</td>\n",
       "      <td>Missing</td>\n",
       "      <td>MnPrv</td>\n",
       "      <td>Shed</td>\n",
       "      <td>WD</td>\n",
       "      <td>Normal</td>\n",
       "    </tr>\n",
       "    <tr>\n",
       "      <th>6</th>\n",
       "      <td>RL</td>\n",
       "      <td>Pave</td>\n",
       "      <td>Missing</td>\n",
       "      <td>Reg</td>\n",
       "      <td>Lvl</td>\n",
       "      <td>AllPub</td>\n",
       "      <td>Inside</td>\n",
       "      <td>Gtl</td>\n",
       "      <td>Somerst</td>\n",
       "      <td>Norm</td>\n",
       "      <td>...</td>\n",
       "      <td>Attchd</td>\n",
       "      <td>RFn</td>\n",
       "      <td>TA</td>\n",
       "      <td>TA</td>\n",
       "      <td>Y</td>\n",
       "      <td>Missing</td>\n",
       "      <td>Missing</td>\n",
       "      <td>Missing</td>\n",
       "      <td>WD</td>\n",
       "      <td>Normal</td>\n",
       "    </tr>\n",
       "    <tr>\n",
       "      <th>7</th>\n",
       "      <td>RL</td>\n",
       "      <td>Pave</td>\n",
       "      <td>Missing</td>\n",
       "      <td>IR1</td>\n",
       "      <td>Lvl</td>\n",
       "      <td>AllPub</td>\n",
       "      <td>Corner</td>\n",
       "      <td>Gtl</td>\n",
       "      <td>NWAmes</td>\n",
       "      <td>PosN</td>\n",
       "      <td>...</td>\n",
       "      <td>Attchd</td>\n",
       "      <td>RFn</td>\n",
       "      <td>TA</td>\n",
       "      <td>TA</td>\n",
       "      <td>Y</td>\n",
       "      <td>Missing</td>\n",
       "      <td>Missing</td>\n",
       "      <td>Shed</td>\n",
       "      <td>WD</td>\n",
       "      <td>Normal</td>\n",
       "    </tr>\n",
       "    <tr>\n",
       "      <th>8</th>\n",
       "      <td>RM</td>\n",
       "      <td>Pave</td>\n",
       "      <td>Missing</td>\n",
       "      <td>Reg</td>\n",
       "      <td>Lvl</td>\n",
       "      <td>AllPub</td>\n",
       "      <td>Inside</td>\n",
       "      <td>Gtl</td>\n",
       "      <td>OldTown</td>\n",
       "      <td>Artery</td>\n",
       "      <td>...</td>\n",
       "      <td>Detchd</td>\n",
       "      <td>Unf</td>\n",
       "      <td>Fa</td>\n",
       "      <td>TA</td>\n",
       "      <td>Y</td>\n",
       "      <td>Missing</td>\n",
       "      <td>Missing</td>\n",
       "      <td>Missing</td>\n",
       "      <td>WD</td>\n",
       "      <td>Abnorml</td>\n",
       "    </tr>\n",
       "    <tr>\n",
       "      <th>9</th>\n",
       "      <td>RL</td>\n",
       "      <td>Pave</td>\n",
       "      <td>Missing</td>\n",
       "      <td>Reg</td>\n",
       "      <td>Lvl</td>\n",
       "      <td>AllPub</td>\n",
       "      <td>Corner</td>\n",
       "      <td>Gtl</td>\n",
       "      <td>BrkSide</td>\n",
       "      <td>Artery</td>\n",
       "      <td>...</td>\n",
       "      <td>Attchd</td>\n",
       "      <td>RFn</td>\n",
       "      <td>Gd</td>\n",
       "      <td>TA</td>\n",
       "      <td>Y</td>\n",
       "      <td>Missing</td>\n",
       "      <td>Missing</td>\n",
       "      <td>Missing</td>\n",
       "      <td>WD</td>\n",
       "      <td>Normal</td>\n",
       "    </tr>\n",
       "  </tbody>\n",
       "</table>\n",
       "<p>10 rows × 43 columns</p>\n",
       "</div>"
      ],
      "text/plain": [
       "  MSZoning Street    Alley LotShape LandContour Utilities LotConfig LandSlope  \\\n",
       "0       RL   Pave  Missing      Reg         Lvl    AllPub    Inside       Gtl   \n",
       "1       RL   Pave  Missing      Reg         Lvl    AllPub       FR2       Gtl   \n",
       "2       RL   Pave  Missing      IR1         Lvl    AllPub    Inside       Gtl   \n",
       "3       RL   Pave  Missing      IR1         Lvl    AllPub    Corner       Gtl   \n",
       "4       RL   Pave  Missing      IR1         Lvl    AllPub       FR2       Gtl   \n",
       "5       RL   Pave  Missing      IR1         Lvl    AllPub    Inside       Gtl   \n",
       "6       RL   Pave  Missing      Reg         Lvl    AllPub    Inside       Gtl   \n",
       "7       RL   Pave  Missing      IR1         Lvl    AllPub    Corner       Gtl   \n",
       "8       RM   Pave  Missing      Reg         Lvl    AllPub    Inside       Gtl   \n",
       "9       RL   Pave  Missing      Reg         Lvl    AllPub    Corner       Gtl   \n",
       "\n",
       "  Neighborhood Condition1  ... GarageType GarageFinish GarageQual GarageCond  \\\n",
       "0      CollgCr       Norm  ...     Attchd          RFn         TA         TA   \n",
       "1      Veenker      Feedr  ...     Attchd          RFn         TA         TA   \n",
       "2      CollgCr       Norm  ...     Attchd          RFn         TA         TA   \n",
       "3      Crawfor       Norm  ...     Detchd          Unf         TA         TA   \n",
       "4      NoRidge       Norm  ...     Attchd          RFn         TA         TA   \n",
       "5      Mitchel       Norm  ...     Attchd          Unf         TA         TA   \n",
       "6      Somerst       Norm  ...     Attchd          RFn         TA         TA   \n",
       "7       NWAmes       PosN  ...     Attchd          RFn         TA         TA   \n",
       "8      OldTown     Artery  ...     Detchd          Unf         Fa         TA   \n",
       "9      BrkSide     Artery  ...     Attchd          RFn         Gd         TA   \n",
       "\n",
       "  PavedDrive   PoolQC    Fence MiscFeature SaleType SaleCondition  \n",
       "0          Y  Missing  Missing     Missing       WD        Normal  \n",
       "1          Y  Missing  Missing     Missing       WD        Normal  \n",
       "2          Y  Missing  Missing     Missing       WD        Normal  \n",
       "3          Y  Missing  Missing     Missing       WD       Abnorml  \n",
       "4          Y  Missing  Missing     Missing       WD        Normal  \n",
       "5          Y  Missing    MnPrv        Shed       WD        Normal  \n",
       "6          Y  Missing  Missing     Missing       WD        Normal  \n",
       "7          Y  Missing  Missing        Shed       WD        Normal  \n",
       "8          Y  Missing  Missing     Missing       WD       Abnorml  \n",
       "9          Y  Missing  Missing     Missing       WD        Normal  \n",
       "\n",
       "[10 rows x 43 columns]"
      ]
     },
     "execution_count": 3,
     "metadata": {},
     "output_type": "execute_result"
    }
   ],
   "source": [
    "dataset_df, categorical_columns = prepare_dataset(dataset_df)\n",
    "dataset_df[categorical_columns].head(10)"
   ]
  },
  {
   "cell_type": "code",
   "execution_count": 4,
   "metadata": {},
   "outputs": [],
   "source": [
    "# Prepare dataset\n",
    "target_column = 'SalePrice'\n",
    "y = dataset_df.pop(target_column)\n",
    "X = dataset_df.drop('Id', axis=1)"
   ]
  },
  {
   "cell_type": "code",
   "execution_count": 5,
   "metadata": {},
   "outputs": [],
   "source": [
    "X_train, X_test, y_train, y_test = train_test_split(X, y, test_size=0.2, random_state=42)"
   ]
  },
  {
   "cell_type": "code",
   "execution_count": 14,
   "metadata": {},
   "outputs": [
    {
     "name": "stderr",
     "output_type": "stream",
     "text": [
      "Warning: less than 75% gpu memory available for training. Free: 21746.3125 Total: 48676.75\n",
      "Warning: less than 75% gpu memory available for training. Free: 20077.125 Total: 48676.75\n",
      "Warning: less than 75% gpu memory available for training. Free: 31132.0625 Total: 48676.75\n",
      "Warning: less than 75% gpu memory available for training. Free: 19998.1875 Total: 48676.75\n",
      "Warning: less than 75% gpu memory available for training. Free: 20182.1875 Total: 48676.75\n",
      "Warning: less than 75% gpu memory available for training. Free: 34021.125 Total: 48676.75\n",
      "Warning: less than 75% gpu memory available for training. Free: 28893.125 Total: 48676.75\n"
     ]
    },
    {
     "name": "stdout",
     "output_type": "stream",
     "text": [
      "Learning rate set to 0.041224\n",
      "0:\tlearn: 75109.2652257\ttotal: 902ms\tremaining: 15m 1s\n",
      "100:\tlearn: 22358.7289466\ttotal: 1m 15s\tremaining: 11m 11s\n",
      "200:\tlearn: 17156.9700426\ttotal: 2m 34s\tremaining: 10m 13s\n",
      "300:\tlearn: 14535.6923694\ttotal: 3m 44s\tremaining: 8m 41s\n",
      "400:\tlearn: 12817.8538498\ttotal: 4m 59s\tremaining: 7m 27s\n",
      "500:\tlearn: 11495.0634217\ttotal: 6m 13s\tremaining: 6m 11s\n",
      "600:\tlearn: 10402.2674030\ttotal: 7m 31s\tremaining: 4m 59s\n",
      "700:\tlearn: 9377.4892454\ttotal: 8m 48s\tremaining: 3m 45s\n",
      "800:\tlearn: 8524.2766551\ttotal: 10m 3s\tremaining: 2m 29s\n",
      "900:\tlearn: 7751.2390030\ttotal: 11m 19s\tremaining: 1m 14s\n",
      "999:\tlearn: 7116.4676477\ttotal: 12m 35s\tremaining: 0us\n"
     ]
    },
    {
     "data": {
      "text/plain": [
       "<catboost.core.CatBoostRegressor at 0x7f32039af710>"
      ]
     },
     "execution_count": 14,
     "metadata": {},
     "output_type": "execute_result"
    }
   ],
   "source": [
    "# Initialize CatBoostRegressor\n",
    "model = CatBoostRegressor(\n",
    "    iterations=1000,                # Number of trees\n",
    "    depth=6,                       # Depth of each tree\n",
    "    boosting_type='Plain',         # Use random forest mode\n",
    "    bootstrap_type='Poisson',    # Random sampling of data points\n",
    "    task_type='GPU',               # needed for Poisson\n",
    "    subsample=0.66,                # Fraction of data to sample\n",
    "    random_seed=42,                # Seed for reproducibility\n",
    "    verbose=100,                    # Output training progress every 100 iterations\n",
    "    cat_features=categorical_columns.to_list()\n",
    ")\n",
    "\n",
    "# Train the model\n",
    "model.fit(X_train, y_train)"
   ]
  },
  {
   "cell_type": "code",
   "execution_count": 15,
   "metadata": {},
   "outputs": [
    {
     "name": "stdout",
     "output_type": "stream",
     "text": [
      "Mean Squared Error: 660696070.7809154\n"
     ]
    }
   ],
   "source": [
    "# Make predictions\n",
    "predictions = model.predict(X_test)\n",
    "\n",
    "# Calculate MSE\n",
    "mse = mean_squared_error(y_test, predictions)\n",
    "print(\"Mean Squared Error:\", mse)"
   ]
  },
  {
   "cell_type": "code",
   "execution_count": 16,
   "metadata": {},
   "outputs": [
    {
     "name": "stdout",
     "output_type": "stream",
     "text": [
      "         Feature  Importance\n",
      "16   OverallQual   22.378857\n",
      "45     GrLivArea   15.596854\n",
      "37   TotalBsmtSF    4.596000\n",
      "33    BsmtFinSF1    4.247072\n",
      "42      1stFlrSF    3.790216\n",
      "..           ...         ...\n",
      "73   MiscFeature    0.013882\n",
      "4         Street    0.009293\n",
      "8      Utilities    0.003388\n",
      "47  BsmtHalfBath    0.001965\n",
      "74       MiscVal    0.000061\n",
      "\n",
      "[79 rows x 2 columns]\n"
     ]
    }
   ],
   "source": [
    "feature_importances = model.get_feature_importance()\n",
    "print(pd.DataFrame({'Feature': X_train.columns, 'Importance': feature_importances}).sort_values(by='Importance', ascending=False))"
   ]
  },
  {
   "cell_type": "code",
   "execution_count": 18,
   "metadata": {},
   "outputs": [
    {
     "data": {
      "text/html": [
       "<div>\n",
       "<style scoped>\n",
       "    .dataframe tbody tr th:only-of-type {\n",
       "        vertical-align: middle;\n",
       "    }\n",
       "\n",
       "    .dataframe tbody tr th {\n",
       "        vertical-align: top;\n",
       "    }\n",
       "\n",
       "    .dataframe thead th {\n",
       "        text-align: right;\n",
       "    }\n",
       "</style>\n",
       "<table border=\"1\" class=\"dataframe\">\n",
       "  <thead>\n",
       "    <tr style=\"text-align: right;\">\n",
       "      <th></th>\n",
       "      <th>MSSubClass</th>\n",
       "      <th>MSZoning</th>\n",
       "      <th>LotFrontage</th>\n",
       "      <th>LotArea</th>\n",
       "      <th>Street</th>\n",
       "      <th>Alley</th>\n",
       "      <th>LotShape</th>\n",
       "      <th>LandContour</th>\n",
       "      <th>Utilities</th>\n",
       "      <th>LotConfig</th>\n",
       "      <th>...</th>\n",
       "      <th>ScreenPorch</th>\n",
       "      <th>PoolArea</th>\n",
       "      <th>PoolQC</th>\n",
       "      <th>Fence</th>\n",
       "      <th>MiscFeature</th>\n",
       "      <th>MiscVal</th>\n",
       "      <th>MoSold</th>\n",
       "      <th>YrSold</th>\n",
       "      <th>SaleType</th>\n",
       "      <th>SaleCondition</th>\n",
       "    </tr>\n",
       "  </thead>\n",
       "  <tbody>\n",
       "    <tr>\n",
       "      <th>0</th>\n",
       "      <td>20</td>\n",
       "      <td>RH</td>\n",
       "      <td>80.0</td>\n",
       "      <td>11622</td>\n",
       "      <td>Pave</td>\n",
       "      <td>Missing</td>\n",
       "      <td>Reg</td>\n",
       "      <td>Lvl</td>\n",
       "      <td>AllPub</td>\n",
       "      <td>Inside</td>\n",
       "      <td>...</td>\n",
       "      <td>120</td>\n",
       "      <td>0</td>\n",
       "      <td>Missing</td>\n",
       "      <td>MnPrv</td>\n",
       "      <td>Missing</td>\n",
       "      <td>0</td>\n",
       "      <td>6</td>\n",
       "      <td>2010</td>\n",
       "      <td>WD</td>\n",
       "      <td>Normal</td>\n",
       "    </tr>\n",
       "    <tr>\n",
       "      <th>1</th>\n",
       "      <td>20</td>\n",
       "      <td>RL</td>\n",
       "      <td>81.0</td>\n",
       "      <td>14267</td>\n",
       "      <td>Pave</td>\n",
       "      <td>Missing</td>\n",
       "      <td>IR1</td>\n",
       "      <td>Lvl</td>\n",
       "      <td>AllPub</td>\n",
       "      <td>Corner</td>\n",
       "      <td>...</td>\n",
       "      <td>0</td>\n",
       "      <td>0</td>\n",
       "      <td>Missing</td>\n",
       "      <td>Missing</td>\n",
       "      <td>Gar2</td>\n",
       "      <td>12500</td>\n",
       "      <td>6</td>\n",
       "      <td>2010</td>\n",
       "      <td>WD</td>\n",
       "      <td>Normal</td>\n",
       "    </tr>\n",
       "    <tr>\n",
       "      <th>2</th>\n",
       "      <td>60</td>\n",
       "      <td>RL</td>\n",
       "      <td>74.0</td>\n",
       "      <td>13830</td>\n",
       "      <td>Pave</td>\n",
       "      <td>Missing</td>\n",
       "      <td>IR1</td>\n",
       "      <td>Lvl</td>\n",
       "      <td>AllPub</td>\n",
       "      <td>Inside</td>\n",
       "      <td>...</td>\n",
       "      <td>0</td>\n",
       "      <td>0</td>\n",
       "      <td>Missing</td>\n",
       "      <td>MnPrv</td>\n",
       "      <td>Missing</td>\n",
       "      <td>0</td>\n",
       "      <td>3</td>\n",
       "      <td>2010</td>\n",
       "      <td>WD</td>\n",
       "      <td>Normal</td>\n",
       "    </tr>\n",
       "  </tbody>\n",
       "</table>\n",
       "<p>3 rows × 79 columns</p>\n",
       "</div>"
      ],
      "text/plain": [
       "   MSSubClass MSZoning  LotFrontage  LotArea Street    Alley LotShape  \\\n",
       "0          20       RH         80.0    11622   Pave  Missing      Reg   \n",
       "1          20       RL         81.0    14267   Pave  Missing      IR1   \n",
       "2          60       RL         74.0    13830   Pave  Missing      IR1   \n",
       "\n",
       "  LandContour Utilities LotConfig  ... ScreenPorch PoolArea   PoolQC    Fence  \\\n",
       "0         Lvl    AllPub    Inside  ...         120        0  Missing    MnPrv   \n",
       "1         Lvl    AllPub    Corner  ...           0        0  Missing  Missing   \n",
       "2         Lvl    AllPub    Inside  ...           0        0  Missing    MnPrv   \n",
       "\n",
       "  MiscFeature MiscVal  MoSold  YrSold  SaleType  SaleCondition  \n",
       "0     Missing       0       6    2010        WD         Normal  \n",
       "1        Gar2   12500       6    2010        WD         Normal  \n",
       "2     Missing       0       3    2010        WD         Normal  \n",
       "\n",
       "[3 rows x 79 columns]"
      ]
     },
     "execution_count": 18,
     "metadata": {},
     "output_type": "execute_result"
    }
   ],
   "source": [
    "test_file_path = \"data/house-prices/test.csv\"\n",
    "test_data = pd.read_csv(test_file_path)\n",
    "ids = test_data.pop('Id')\n",
    "\n",
    "test_data, _ = prepare_dataset(test_data)\n",
    "test_data.head(3)"
   ]
  },
  {
   "cell_type": "code",
   "execution_count": 19,
   "metadata": {},
   "outputs": [
    {
     "data": {
      "text/html": [
       "<div>\n",
       "<style scoped>\n",
       "    .dataframe tbody tr th:only-of-type {\n",
       "        vertical-align: middle;\n",
       "    }\n",
       "\n",
       "    .dataframe tbody tr th {\n",
       "        vertical-align: top;\n",
       "    }\n",
       "\n",
       "    .dataframe thead th {\n",
       "        text-align: right;\n",
       "    }\n",
       "</style>\n",
       "<table border=\"1\" class=\"dataframe\">\n",
       "  <thead>\n",
       "    <tr style=\"text-align: right;\">\n",
       "      <th></th>\n",
       "      <th>Id</th>\n",
       "      <th>SalePrice</th>\n",
       "    </tr>\n",
       "  </thead>\n",
       "  <tbody>\n",
       "    <tr>\n",
       "      <th>0</th>\n",
       "      <td>1461</td>\n",
       "      <td>120546.779999</td>\n",
       "    </tr>\n",
       "    <tr>\n",
       "      <th>1</th>\n",
       "      <td>1462</td>\n",
       "      <td>167760.192834</td>\n",
       "    </tr>\n",
       "    <tr>\n",
       "      <th>2</th>\n",
       "      <td>1463</td>\n",
       "      <td>187146.883549</td>\n",
       "    </tr>\n",
       "    <tr>\n",
       "      <th>3</th>\n",
       "      <td>1464</td>\n",
       "      <td>195195.432913</td>\n",
       "    </tr>\n",
       "    <tr>\n",
       "      <th>4</th>\n",
       "      <td>1465</td>\n",
       "      <td>187951.324836</td>\n",
       "    </tr>\n",
       "  </tbody>\n",
       "</table>\n",
       "</div>"
      ],
      "text/plain": [
       "     Id      SalePrice\n",
       "0  1461  120546.779999\n",
       "1  1462  167760.192834\n",
       "2  1463  187146.883549\n",
       "3  1464  195195.432913\n",
       "4  1465  187951.324836"
      ]
     },
     "execution_count": 19,
     "metadata": {},
     "output_type": "execute_result"
    }
   ],
   "source": [
    "preds = model.predict(test_data)\n",
    "output = pd.DataFrame({'Id': ids,\n",
    "                       'SalePrice': preds.squeeze()})\n",
    "\n",
    "output.head()"
   ]
  },
  {
   "cell_type": "code",
   "execution_count": 20,
   "metadata": {},
   "outputs": [
    {
     "data": {
      "text/html": [
       "<div>\n",
       "<style scoped>\n",
       "    .dataframe tbody tr th:only-of-type {\n",
       "        vertical-align: middle;\n",
       "    }\n",
       "\n",
       "    .dataframe tbody tr th {\n",
       "        vertical-align: top;\n",
       "    }\n",
       "\n",
       "    .dataframe thead th {\n",
       "        text-align: right;\n",
       "    }\n",
       "</style>\n",
       "<table border=\"1\" class=\"dataframe\">\n",
       "  <thead>\n",
       "    <tr style=\"text-align: right;\">\n",
       "      <th></th>\n",
       "      <th>Id</th>\n",
       "      <th>SalePrice</th>\n",
       "    </tr>\n",
       "  </thead>\n",
       "  <tbody>\n",
       "    <tr>\n",
       "      <th>0</th>\n",
       "      <td>1461</td>\n",
       "      <td>120546.779999</td>\n",
       "    </tr>\n",
       "    <tr>\n",
       "      <th>1</th>\n",
       "      <td>1462</td>\n",
       "      <td>167760.192834</td>\n",
       "    </tr>\n",
       "    <tr>\n",
       "      <th>2</th>\n",
       "      <td>1463</td>\n",
       "      <td>187146.883549</td>\n",
       "    </tr>\n",
       "    <tr>\n",
       "      <th>3</th>\n",
       "      <td>1464</td>\n",
       "      <td>195195.432913</td>\n",
       "    </tr>\n",
       "    <tr>\n",
       "      <th>4</th>\n",
       "      <td>1465</td>\n",
       "      <td>187951.324836</td>\n",
       "    </tr>\n",
       "  </tbody>\n",
       "</table>\n",
       "</div>"
      ],
      "text/plain": [
       "     Id      SalePrice\n",
       "0  1461  120546.779999\n",
       "1  1462  167760.192834\n",
       "2  1463  187146.883549\n",
       "3  1464  195195.432913\n",
       "4  1465  187951.324836"
      ]
     },
     "execution_count": 20,
     "metadata": {},
     "output_type": "execute_result"
    }
   ],
   "source": [
    "sample_submission_df = pd.read_csv('data/house-prices/sample_submission.csv')\n",
    "sample_submission_df['SalePrice'] = model.predict(test_data)\n",
    "sample_submission_df.to_csv('working/catboost-rf-poisson.csv', index=False)\n",
    "sample_submission_df.head()"
   ]
  },
  {
   "cell_type": "markdown",
   "metadata": {},
   "source": [
    "# Cross Validation"
   ]
  },
  {
   "cell_type": "code",
   "execution_count": 22,
   "metadata": {},
   "outputs": [
    {
     "name": "stdout",
     "output_type": "stream",
     "text": [
      "Fitting 5 folds for each of 90 candidates, totalling 450 fits\n"
     ]
    },
    {
     "name": "stderr",
     "output_type": "stream",
     "text": [
      "Warning: less than 75% gpu memory available for training. Free: 19916.3125 Total: 48676.75\n",
      "Warning: less than 75% gpu memory available for training. Free: 31128.0625 Total: 48676.75\n",
      "Warning: less than 75% gpu memory available for training. Free: 34145.125 Total: 48676.75\n",
      "Warning: less than 75% gpu memory available for training. Free: 34017.125 Total: 48676.75\n",
      "Warning: less than 75% gpu memory available for training. Free: 28889.125 Total: 48676.75\n"
     ]
    },
    {
     "name": "stdout",
     "output_type": "stream",
     "text": [
      "Learning rate set to 0.162985\n",
      "0:\tlearn: 72759.3167914\ttotal: 718ms\tremaining: 1m 11s\n",
      "99:\tlearn: 19310.8573166\ttotal: 1m 5s\tremaining: 0us\n",
      "[CV] END bootstrap_type=Bernoulli, depth=4, iterations=100, subsample=0.4; total time= 1.2min\n"
     ]
    },
    {
     "name": "stderr",
     "output_type": "stream",
     "text": [
      "Warning: less than 75% gpu memory available for training. Free: 27871.25 Total: 48676.75\n",
      "Warning: less than 75% gpu memory available for training. Free: 31126.0625 Total: 48676.75\n",
      "Warning: less than 75% gpu memory available for training. Free: 34145.125 Total: 48676.75\n",
      "Warning: less than 75% gpu memory available for training. Free: 34017.125 Total: 48676.75\n",
      "Warning: less than 75% gpu memory available for training. Free: 28889.125 Total: 48676.75\n"
     ]
    },
    {
     "name": "stdout",
     "output_type": "stream",
     "text": [
      "Learning rate set to 0.162985\n",
      "0:\tlearn: 71331.5113844\ttotal: 690ms\tremaining: 1m 8s\n",
      "99:\tlearn: 19189.7601918\ttotal: 1m 8s\tremaining: 0us\n",
      "[CV] END bootstrap_type=Bernoulli, depth=4, iterations=100, subsample=0.4; total time= 1.2min\n"
     ]
    },
    {
     "name": "stderr",
     "output_type": "stream",
     "text": [
      "Warning: less than 75% gpu memory available for training. Free: 27871.25 Total: 48676.75\n",
      "Warning: less than 75% gpu memory available for training. Free: 31126.0625 Total: 48676.75\n",
      "Warning: less than 75% gpu memory available for training. Free: 34145.125 Total: 48676.75\n",
      "Warning: less than 75% gpu memory available for training. Free: 34017.125 Total: 48676.75\n",
      "Warning: less than 75% gpu memory available for training. Free: 28889.125 Total: 48676.75\n"
     ]
    },
    {
     "name": "stdout",
     "output_type": "stream",
     "text": [
      "Learning rate set to 0.162985\n",
      "0:\tlearn: 69033.9702061\ttotal: 661ms\tremaining: 1m 5s\n",
      "99:\tlearn: 18521.0883553\ttotal: 1m 7s\tremaining: 0us\n",
      "[CV] END bootstrap_type=Bernoulli, depth=4, iterations=100, subsample=0.4; total time= 1.2min\n"
     ]
    },
    {
     "name": "stderr",
     "output_type": "stream",
     "text": [
      "Warning: less than 75% gpu memory available for training. Free: 27871.25 Total: 48676.75\n",
      "Warning: less than 75% gpu memory available for training. Free: 31128.0625 Total: 48676.75\n",
      "Warning: less than 75% gpu memory available for training. Free: 34145.125 Total: 48676.75\n",
      "Warning: less than 75% gpu memory available for training. Free: 34017.125 Total: 48676.75\n",
      "Warning: less than 75% gpu memory available for training. Free: 28889.125 Total: 48676.75\n"
     ]
    },
    {
     "name": "stdout",
     "output_type": "stream",
     "text": [
      "Learning rate set to 0.162985\n",
      "0:\tlearn: 73149.3211077\ttotal: 613ms\tremaining: 1m\n",
      "99:\tlearn: 19603.7933819\ttotal: 1m 6s\tremaining: 0us\n",
      "[CV] END bootstrap_type=Bernoulli, depth=4, iterations=100, subsample=0.4; total time= 1.2min\n"
     ]
    },
    {
     "name": "stderr",
     "output_type": "stream",
     "text": [
      "Warning: less than 75% gpu memory available for training. Free: 27871.25 Total: 48676.75\n",
      "Warning: less than 75% gpu memory available for training. Free: 31128.0625 Total: 48676.75\n",
      "Warning: less than 75% gpu memory available for training. Free: 34145.125 Total: 48676.75\n",
      "Warning: less than 75% gpu memory available for training. Free: 34017.125 Total: 48676.75\n",
      "Warning: less than 75% gpu memory available for training. Free: 28889.125 Total: 48676.75\n"
     ]
    },
    {
     "name": "stdout",
     "output_type": "stream",
     "text": [
      "Learning rate set to 0.162985\n",
      "0:\tlearn: 70420.0786311\ttotal: 707ms\tremaining: 1m 9s\n",
      "99:\tlearn: 19237.6616926\ttotal: 1m 7s\tremaining: 0us\n",
      "[CV] END bootstrap_type=Bernoulli, depth=4, iterations=100, subsample=0.4; total time= 1.2min\n"
     ]
    },
    {
     "name": "stderr",
     "output_type": "stream",
     "text": [
      "Warning: less than 75% gpu memory available for training. Free: 27871.25 Total: 48676.75\n",
      "Warning: less than 75% gpu memory available for training. Free: 31126.0625 Total: 48676.75\n",
      "Warning: less than 75% gpu memory available for training. Free: 34145.125 Total: 48676.75\n",
      "Warning: less than 75% gpu memory available for training. Free: 34017.125 Total: 48676.75\n",
      "Warning: less than 75% gpu memory available for training. Free: 28889.125 Total: 48676.75\n"
     ]
    },
    {
     "name": "stdout",
     "output_type": "stream",
     "text": [
      "Learning rate set to 0.162985\n",
      "0:\tlearn: 72806.5030845\ttotal: 660ms\tremaining: 1m 5s\n",
      "99:\tlearn: 18246.7970993\ttotal: 1m 6s\tremaining: 0us\n",
      "[CV] END bootstrap_type=Bernoulli, depth=4, iterations=100, subsample=0.5; total time= 1.2min\n"
     ]
    },
    {
     "name": "stderr",
     "output_type": "stream",
     "text": [
      "Warning: less than 75% gpu memory available for training. Free: 27871.25 Total: 48676.75\n",
      "Warning: less than 75% gpu memory available for training. Free: 31126.0625 Total: 48676.75\n",
      "Warning: less than 75% gpu memory available for training. Free: 34145.125 Total: 48676.75\n",
      "Warning: less than 75% gpu memory available for training. Free: 34017.125 Total: 48676.75\n",
      "Warning: less than 75% gpu memory available for training. Free: 28889.125 Total: 48676.75\n"
     ]
    },
    {
     "name": "stdout",
     "output_type": "stream",
     "text": [
      "Learning rate set to 0.162985\n",
      "0:\tlearn: 71261.5952993\ttotal: 695ms\tremaining: 1m 8s\n",
      "99:\tlearn: 18299.7715204\ttotal: 1m 7s\tremaining: 0us\n",
      "[CV] END bootstrap_type=Bernoulli, depth=4, iterations=100, subsample=0.5; total time= 1.2min\n"
     ]
    },
    {
     "name": "stderr",
     "output_type": "stream",
     "text": [
      "Warning: less than 75% gpu memory available for training. Free: 27871.25 Total: 48676.75\n",
      "Warning: less than 75% gpu memory available for training. Free: 31126.0625 Total: 48676.75\n",
      "Warning: less than 75% gpu memory available for training. Free: 34145.125 Total: 48676.75\n",
      "Warning: less than 75% gpu memory available for training. Free: 34017.125 Total: 48676.75\n",
      "Warning: less than 75% gpu memory available for training. Free: 28889.125 Total: 48676.75\n"
     ]
    },
    {
     "name": "stdout",
     "output_type": "stream",
     "text": [
      "Learning rate set to 0.162985\n",
      "0:\tlearn: 69033.9702061\ttotal: 766ms\tremaining: 1m 15s\n",
      "99:\tlearn: 17493.5480553\ttotal: 1m 7s\tremaining: 0us\n",
      "[CV] END bootstrap_type=Bernoulli, depth=4, iterations=100, subsample=0.5; total time= 1.2min\n"
     ]
    },
    {
     "name": "stderr",
     "output_type": "stream",
     "text": [
      "Warning: less than 75% gpu memory available for training. Free: 27871.25 Total: 48676.75\n",
      "Warning: less than 75% gpu memory available for training. Free: 31126.0625 Total: 48676.75\n",
      "Warning: less than 75% gpu memory available for training. Free: 34145.125 Total: 48676.75\n",
      "Warning: less than 75% gpu memory available for training. Free: 34017.125 Total: 48676.75\n",
      "Warning: less than 75% gpu memory available for training. Free: 28889.125 Total: 48676.75\n"
     ]
    },
    {
     "name": "stdout",
     "output_type": "stream",
     "text": [
      "Learning rate set to 0.162985\n",
      "0:\tlearn: 72877.9705174\ttotal: 678ms\tremaining: 1m 7s\n",
      "99:\tlearn: 18905.7347710\ttotal: 1m 6s\tremaining: 0us\n",
      "[CV] END bootstrap_type=Bernoulli, depth=4, iterations=100, subsample=0.5; total time= 1.2min\n"
     ]
    },
    {
     "name": "stderr",
     "output_type": "stream",
     "text": [
      "Warning: less than 75% gpu memory available for training. Free: 27871.25 Total: 48676.75\n",
      "Warning: less than 75% gpu memory available for training. Free: 31126.0625 Total: 48676.75\n",
      "Warning: less than 75% gpu memory available for training. Free: 34145.125 Total: 48676.75\n",
      "Warning: less than 75% gpu memory available for training. Free: 34017.125 Total: 48676.75\n",
      "Warning: less than 75% gpu memory available for training. Free: 28889.125 Total: 48676.75\n"
     ]
    },
    {
     "name": "stdout",
     "output_type": "stream",
     "text": [
      "Learning rate set to 0.162985\n",
      "0:\tlearn: 70724.7757391\ttotal: 641ms\tremaining: 1m 3s\n",
      "99:\tlearn: 19066.1430742\ttotal: 1m 7s\tremaining: 0us\n",
      "[CV] END bootstrap_type=Bernoulli, depth=4, iterations=100, subsample=0.5; total time= 1.2min\n"
     ]
    },
    {
     "name": "stderr",
     "output_type": "stream",
     "text": [
      "Warning: less than 75% gpu memory available for training. Free: 27871.25 Total: 48676.75\n",
      "Warning: less than 75% gpu memory available for training. Free: 31126.0625 Total: 48676.75\n",
      "Warning: less than 75% gpu memory available for training. Free: 34145.125 Total: 48676.75\n",
      "Warning: less than 75% gpu memory available for training. Free: 34017.125 Total: 48676.75\n",
      "Warning: less than 75% gpu memory available for training. Free: 28889.125 Total: 48676.75\n"
     ]
    },
    {
     "name": "stdout",
     "output_type": "stream",
     "text": [
      "Learning rate set to 0.162985\n",
      "0:\tlearn: 72124.8909882\ttotal: 724ms\tremaining: 1m 11s\n",
      "99:\tlearn: 17863.8070035\ttotal: 1m 6s\tremaining: 0us\n",
      "[CV] END bootstrap_type=Bernoulli, depth=4, iterations=100, subsample=0.6; total time= 1.2min\n"
     ]
    },
    {
     "name": "stderr",
     "output_type": "stream",
     "text": [
      "Warning: less than 75% gpu memory available for training. Free: 27871.25 Total: 48676.75\n",
      "Warning: less than 75% gpu memory available for training. Free: 31128.0625 Total: 48676.75\n",
      "Warning: less than 75% gpu memory available for training. Free: 34145.125 Total: 48676.75\n",
      "Warning: less than 75% gpu memory available for training. Free: 34017.125 Total: 48676.75\n",
      "Warning: less than 75% gpu memory available for training. Free: 28889.125 Total: 48676.75\n"
     ]
    },
    {
     "name": "stdout",
     "output_type": "stream",
     "text": [
      "Learning rate set to 0.162985\n",
      "0:\tlearn: 71154.2866457\ttotal: 709ms\tremaining: 1m 10s\n",
      "99:\tlearn: 17736.1480706\ttotal: 1m 7s\tremaining: 0us\n",
      "[CV] END bootstrap_type=Bernoulli, depth=4, iterations=100, subsample=0.6; total time= 1.2min\n"
     ]
    },
    {
     "name": "stderr",
     "output_type": "stream",
     "text": [
      "Warning: less than 75% gpu memory available for training. Free: 27871.25 Total: 48676.75\n",
      "Warning: less than 75% gpu memory available for training. Free: 31128.0625 Total: 48676.75\n",
      "Warning: less than 75% gpu memory available for training. Free: 34145.125 Total: 48676.75\n",
      "Warning: less than 75% gpu memory available for training. Free: 34017.125 Total: 48676.75\n",
      "Warning: less than 75% gpu memory available for training. Free: 28889.125 Total: 48676.75\n"
     ]
    },
    {
     "name": "stdout",
     "output_type": "stream",
     "text": [
      "Learning rate set to 0.162985\n",
      "0:\tlearn: 69519.2737828\ttotal: 696ms\tremaining: 1m 8s\n",
      "99:\tlearn: 17089.6039471\ttotal: 1m 7s\tremaining: 0us\n",
      "[CV] END bootstrap_type=Bernoulli, depth=4, iterations=100, subsample=0.6; total time= 1.2min\n"
     ]
    },
    {
     "name": "stderr",
     "output_type": "stream",
     "text": [
      "Warning: less than 75% gpu memory available for training. Free: 27871.25 Total: 48676.75\n",
      "Warning: less than 75% gpu memory available for training. Free: 31126.0625 Total: 48676.75\n",
      "Warning: less than 75% gpu memory available for training. Free: 34145.125 Total: 48676.75\n",
      "Warning: less than 75% gpu memory available for training. Free: 34017.125 Total: 48676.75\n",
      "Warning: less than 75% gpu memory available for training. Free: 28889.125 Total: 48676.75\n"
     ]
    },
    {
     "name": "stdout",
     "output_type": "stream",
     "text": [
      "Learning rate set to 0.162985\n",
      "0:\tlearn: 73071.8258619\ttotal: 661ms\tremaining: 1m 5s\n",
      "99:\tlearn: 18018.1250845\ttotal: 1m 5s\tremaining: 0us\n",
      "[CV] END bootstrap_type=Bernoulli, depth=4, iterations=100, subsample=0.6; total time= 1.2min\n"
     ]
    },
    {
     "name": "stderr",
     "output_type": "stream",
     "text": [
      "Warning: less than 75% gpu memory available for training. Free: 27871.25 Total: 48676.75\n",
      "Warning: less than 75% gpu memory available for training. Free: 31126.0625 Total: 48676.75\n",
      "Warning: less than 75% gpu memory available for training. Free: 34145.125 Total: 48676.75\n",
      "Warning: less than 75% gpu memory available for training. Free: 34017.125 Total: 48676.75\n",
      "Warning: less than 75% gpu memory available for training. Free: 28889.125 Total: 48676.75\n"
     ]
    },
    {
     "name": "stdout",
     "output_type": "stream",
     "text": [
      "Learning rate set to 0.162985\n",
      "0:\tlearn: 71120.4082519\ttotal: 659ms\tremaining: 1m 5s\n",
      "99:\tlearn: 18023.9661212\ttotal: 1m 8s\tremaining: 0us\n",
      "[CV] END bootstrap_type=Bernoulli, depth=4, iterations=100, subsample=0.6; total time= 1.2min\n"
     ]
    },
    {
     "name": "stderr",
     "output_type": "stream",
     "text": [
      "Warning: less than 75% gpu memory available for training. Free: 27871.25 Total: 48676.75\n",
      "Warning: less than 75% gpu memory available for training. Free: 31126.0625 Total: 48676.75\n",
      "Warning: less than 75% gpu memory available for training. Free: 34145.125 Total: 48676.75\n",
      "Warning: less than 75% gpu memory available for training. Free: 34017.125 Total: 48676.75\n",
      "Warning: less than 75% gpu memory available for training. Free: 28889.125 Total: 48676.75\n"
     ]
    },
    {
     "name": "stdout",
     "output_type": "stream",
     "text": [
      "Learning rate set to 0.162985\n",
      "0:\tlearn: 72134.5804877\ttotal: 713ms\tremaining: 1m 10s\n",
      "99:\tlearn: 17316.7600880\ttotal: 1m 6s\tremaining: 0us\n",
      "[CV] END bootstrap_type=Bernoulli, depth=4, iterations=100, subsample=0.7; total time= 1.2min\n"
     ]
    },
    {
     "name": "stderr",
     "output_type": "stream",
     "text": [
      "Warning: less than 75% gpu memory available for training. Free: 27871.25 Total: 48676.75\n",
      "Warning: less than 75% gpu memory available for training. Free: 31126.0625 Total: 48676.75\n",
      "Warning: less than 75% gpu memory available for training. Free: 34145.125 Total: 48676.75\n",
      "Warning: less than 75% gpu memory available for training. Free: 34017.125 Total: 48676.75\n",
      "Warning: less than 75% gpu memory available for training. Free: 28889.125 Total: 48676.75\n"
     ]
    },
    {
     "name": "stdout",
     "output_type": "stream",
     "text": [
      "Learning rate set to 0.162985\n",
      "0:\tlearn: 70742.2082777\ttotal: 728ms\tremaining: 1m 12s\n",
      "99:\tlearn: 17589.1158375\ttotal: 1m 7s\tremaining: 0us\n",
      "[CV] END bootstrap_type=Bernoulli, depth=4, iterations=100, subsample=0.7; total time= 1.2min\n"
     ]
    },
    {
     "name": "stderr",
     "output_type": "stream",
     "text": [
      "Warning: less than 75% gpu memory available for training. Free: 27871.25 Total: 48676.75\n",
      "Warning: less than 75% gpu memory available for training. Free: 31128.0625 Total: 48676.75\n",
      "Warning: less than 75% gpu memory available for training. Free: 34145.125 Total: 48676.75\n",
      "Warning: less than 75% gpu memory available for training. Free: 34017.125 Total: 48676.75\n",
      "Warning: less than 75% gpu memory available for training. Free: 28889.125 Total: 48676.75\n"
     ]
    },
    {
     "name": "stdout",
     "output_type": "stream",
     "text": [
      "Learning rate set to 0.162985\n",
      "0:\tlearn: 69463.0666316\ttotal: 723ms\tremaining: 1m 11s\n",
      "99:\tlearn: 16853.0803981\ttotal: 1m 8s\tremaining: 0us\n",
      "[CV] END bootstrap_type=Bernoulli, depth=4, iterations=100, subsample=0.7; total time= 1.2min\n"
     ]
    },
    {
     "name": "stderr",
     "output_type": "stream",
     "text": [
      "Warning: less than 75% gpu memory available for training. Free: 27871.25 Total: 48676.75\n",
      "Warning: less than 75% gpu memory available for training. Free: 31126.0625 Total: 48676.75\n",
      "Warning: less than 75% gpu memory available for training. Free: 34145.125 Total: 48676.75\n",
      "Warning: less than 75% gpu memory available for training. Free: 34017.125 Total: 48676.75\n",
      "Warning: less than 75% gpu memory available for training. Free: 28889.125 Total: 48676.75\n"
     ]
    },
    {
     "name": "stdout",
     "output_type": "stream",
     "text": [
      "Learning rate set to 0.162985\n",
      "0:\tlearn: 72674.1516966\ttotal: 647ms\tremaining: 1m 4s\n",
      "99:\tlearn: 16960.7981203\ttotal: 1m 6s\tremaining: 0us\n",
      "[CV] END bootstrap_type=Bernoulli, depth=4, iterations=100, subsample=0.7; total time= 1.2min\n"
     ]
    },
    {
     "name": "stderr",
     "output_type": "stream",
     "text": [
      "Warning: less than 75% gpu memory available for training. Free: 27871.25 Total: 48676.75\n",
      "Warning: less than 75% gpu memory available for training. Free: 31126.0625 Total: 48676.75\n",
      "Warning: less than 75% gpu memory available for training. Free: 34145.125 Total: 48676.75\n",
      "Warning: less than 75% gpu memory available for training. Free: 34017.125 Total: 48676.75\n",
      "Warning: less than 75% gpu memory available for training. Free: 28889.125 Total: 48676.75\n"
     ]
    },
    {
     "name": "stdout",
     "output_type": "stream",
     "text": [
      "Learning rate set to 0.162985\n",
      "0:\tlearn: 70346.4810768\ttotal: 681ms\tremaining: 1m 7s\n",
      "99:\tlearn: 16789.4105700\ttotal: 1m 7s\tremaining: 0us\n",
      "[CV] END bootstrap_type=Bernoulli, depth=4, iterations=100, subsample=0.7; total time= 1.2min\n"
     ]
    },
    {
     "name": "stderr",
     "output_type": "stream",
     "text": [
      "Warning: less than 75% gpu memory available for training. Free: 28688.1875 Total: 48676.75\n",
      "Warning: less than 75% gpu memory available for training. Free: 31126.0625 Total: 48676.75\n",
      "Warning: less than 75% gpu memory available for training. Free: 34145.125 Total: 48676.75\n",
      "Warning: less than 75% gpu memory available for training. Free: 34017.125 Total: 48676.75\n",
      "Warning: less than 75% gpu memory available for training. Free: 28889.125 Total: 48676.75\n"
     ]
    },
    {
     "name": "stdout",
     "output_type": "stream",
     "text": [
      "Learning rate set to 0.162985\n",
      "0:\tlearn: 72420.0761327\ttotal: 675ms\tremaining: 1m 6s\n",
      "99:\tlearn: 16981.4229134\ttotal: 1m 5s\tremaining: 0us\n",
      "[CV] END bootstrap_type=Bernoulli, depth=4, iterations=100, subsample=0.8; total time= 1.2min\n"
     ]
    },
    {
     "name": "stderr",
     "output_type": "stream",
     "text": [
      "Warning: less than 75% gpu memory available for training. Free: 28688.1875 Total: 48676.75\n",
      "Warning: less than 75% gpu memory available for training. Free: 31126.0625 Total: 48676.75\n",
      "Warning: less than 75% gpu memory available for training. Free: 34145.125 Total: 48676.75\n",
      "Warning: less than 75% gpu memory available for training. Free: 34017.125 Total: 48676.75\n",
      "Warning: less than 75% gpu memory available for training. Free: 28889.125 Total: 48676.75\n"
     ]
    },
    {
     "name": "stdout",
     "output_type": "stream",
     "text": [
      "Learning rate set to 0.162985\n",
      "0:\tlearn: 70742.2082777\ttotal: 697ms\tremaining: 1m 9s\n",
      "99:\tlearn: 17268.9133384\ttotal: 1m 6s\tremaining: 0us\n",
      "[CV] END bootstrap_type=Bernoulli, depth=4, iterations=100, subsample=0.8; total time= 1.2min\n"
     ]
    },
    {
     "name": "stderr",
     "output_type": "stream",
     "text": [
      "Warning: less than 75% gpu memory available for training. Free: 28688.1875 Total: 48676.75\n",
      "Warning: less than 75% gpu memory available for training. Free: 31126.0625 Total: 48676.75\n",
      "Warning: less than 75% gpu memory available for training. Free: 34145.125 Total: 48676.75\n",
      "Warning: less than 75% gpu memory available for training. Free: 34017.125 Total: 48676.75\n",
      "Warning: less than 75% gpu memory available for training. Free: 28889.125 Total: 48676.75\n"
     ]
    },
    {
     "name": "stdout",
     "output_type": "stream",
     "text": [
      "Learning rate set to 0.162985\n",
      "0:\tlearn: 69423.0288964\ttotal: 700ms\tremaining: 1m 9s\n",
      "99:\tlearn: 16533.0260098\ttotal: 1m 7s\tremaining: 0us\n",
      "[CV] END bootstrap_type=Bernoulli, depth=4, iterations=100, subsample=0.8; total time= 1.2min\n"
     ]
    },
    {
     "name": "stderr",
     "output_type": "stream",
     "text": [
      "Warning: less than 75% gpu memory available for training. Free: 28688.1875 Total: 48676.75\n",
      "Warning: less than 75% gpu memory available for training. Free: 31126.0625 Total: 48676.75\n",
      "Warning: less than 75% gpu memory available for training. Free: 34145.125 Total: 48676.75\n",
      "Warning: less than 75% gpu memory available for training. Free: 34017.125 Total: 48676.75\n",
      "Warning: less than 75% gpu memory available for training. Free: 28889.125 Total: 48676.75\n"
     ]
    },
    {
     "name": "stdout",
     "output_type": "stream",
     "text": [
      "Learning rate set to 0.162985\n",
      "0:\tlearn: 72554.0912548\ttotal: 686ms\tremaining: 1m 7s\n",
      "99:\tlearn: 17624.0214651\ttotal: 1m 4s\tremaining: 0us\n",
      "[CV] END bootstrap_type=Bernoulli, depth=4, iterations=100, subsample=0.8; total time= 1.2min\n"
     ]
    },
    {
     "name": "stderr",
     "output_type": "stream",
     "text": [
      "Warning: less than 75% gpu memory available for training. Free: 28688.1875 Total: 48676.75\n",
      "Warning: less than 75% gpu memory available for training. Free: 31126.0625 Total: 48676.75\n",
      "Warning: less than 75% gpu memory available for training. Free: 34145.125 Total: 48676.75\n",
      "Warning: less than 75% gpu memory available for training. Free: 34017.125 Total: 48676.75\n",
      "Warning: less than 75% gpu memory available for training. Free: 28889.125 Total: 48676.75\n"
     ]
    },
    {
     "name": "stdout",
     "output_type": "stream",
     "text": [
      "Learning rate set to 0.162985\n",
      "0:\tlearn: 70553.8336199\ttotal: 669ms\tremaining: 1m 6s\n",
      "99:\tlearn: 16985.2330255\ttotal: 1m 6s\tremaining: 0us\n",
      "[CV] END bootstrap_type=Bernoulli, depth=4, iterations=100, subsample=0.8; total time= 1.2min\n"
     ]
    },
    {
     "name": "stderr",
     "output_type": "stream",
     "text": [
      "Warning: less than 75% gpu memory available for training. Free: 28688.1875 Total: 48676.75\n",
      "Warning: less than 75% gpu memory available for training. Free: 31126.0625 Total: 48676.75\n",
      "Warning: less than 75% gpu memory available for training. Free: 34145.125 Total: 48676.75\n",
      "Warning: less than 75% gpu memory available for training. Free: 34017.125 Total: 48676.75\n",
      "Warning: less than 75% gpu memory available for training. Free: 28889.125 Total: 48676.75\n"
     ]
    },
    {
     "name": "stdout",
     "output_type": "stream",
     "text": [
      "Learning rate set to 0.062354\n",
      "0:\tlearn: 77497.9760789\ttotal: 230ms\tremaining: 1m 54s\n",
      "200:\tlearn: 19911.9783155\ttotal: 51.5s\tremaining: 1m 16s\n",
      "400:\tlearn: 15666.0495952\ttotal: 1m 40s\tremaining: 24.9s\n",
      "499:\tlearn: 14469.5608173\ttotal: 2m 6s\tremaining: 0us\n",
      "[CV] END bootstrap_type=Bernoulli, depth=4, iterations=500, subsample=0.4; total time= 2.2min\n"
     ]
    },
    {
     "name": "stderr",
     "output_type": "stream",
     "text": [
      "Warning: less than 75% gpu memory available for training. Free: 28688.1875 Total: 48676.75\n",
      "Warning: less than 75% gpu memory available for training. Free: 31126.0625 Total: 48676.75\n",
      "Warning: less than 75% gpu memory available for training. Free: 34145.125 Total: 48676.75\n",
      "Warning: less than 75% gpu memory available for training. Free: 34017.125 Total: 48676.75\n",
      "Warning: less than 75% gpu memory available for training. Free: 28889.125 Total: 48676.75\n"
     ]
    },
    {
     "name": "stdout",
     "output_type": "stream",
     "text": [
      "Learning rate set to 0.062354\n",
      "0:\tlearn: 75893.0277361\ttotal: 230ms\tremaining: 1m 54s\n",
      "200:\tlearn: 19433.2859481\ttotal: 53.3s\tremaining: 1m 19s\n",
      "400:\tlearn: 16113.0620101\ttotal: 1m 43s\tremaining: 25.6s\n",
      "499:\tlearn: 14792.1149525\ttotal: 2m 9s\tremaining: 0us\n",
      "[CV] END bootstrap_type=Bernoulli, depth=4, iterations=500, subsample=0.4; total time= 2.2min\n"
     ]
    },
    {
     "name": "stderr",
     "output_type": "stream",
     "text": [
      "Warning: less than 75% gpu memory available for training. Free: 28688.1875 Total: 48676.75\n",
      "Warning: less than 75% gpu memory available for training. Free: 31128.0625 Total: 48676.75\n",
      "Warning: less than 75% gpu memory available for training. Free: 34145.125 Total: 48676.75\n",
      "Warning: less than 75% gpu memory available for training. Free: 34017.125 Total: 48676.75\n",
      "Warning: less than 75% gpu memory available for training. Free: 28889.125 Total: 48676.75\n"
     ]
    },
    {
     "name": "stdout",
     "output_type": "stream",
     "text": [
      "Learning rate set to 0.062354\n",
      "0:\tlearn: 74415.5008274\ttotal: 216ms\tremaining: 1m 47s\n",
      "200:\tlearn: 19243.1012111\ttotal: 51.1s\tremaining: 1m 16s\n",
      "400:\tlearn: 15121.3376229\ttotal: 1m 39s\tremaining: 24.5s\n",
      "499:\tlearn: 13810.9552862\ttotal: 2m 4s\tremaining: 0us\n",
      "[CV] END bootstrap_type=Bernoulli, depth=4, iterations=500, subsample=0.4; total time= 2.1min\n"
     ]
    },
    {
     "name": "stderr",
     "output_type": "stream",
     "text": [
      "Warning: less than 75% gpu memory available for training. Free: 28688.1875 Total: 48676.75\n",
      "Warning: less than 75% gpu memory available for training. Free: 31126.0625 Total: 48676.75\n",
      "Warning: less than 75% gpu memory available for training. Free: 34145.125 Total: 48676.75\n",
      "Warning: less than 75% gpu memory available for training. Free: 34017.125 Total: 48676.75\n",
      "Warning: less than 75% gpu memory available for training. Free: 28889.125 Total: 48676.75\n"
     ]
    },
    {
     "name": "stdout",
     "output_type": "stream",
     "text": [
      "Learning rate set to 0.062354\n",
      "0:\tlearn: 78103.3831593\ttotal: 216ms\tremaining: 1m 47s\n",
      "200:\tlearn: 20501.8048307\ttotal: 51.5s\tremaining: 1m 16s\n",
      "400:\tlearn: 16888.7298597\ttotal: 1m 43s\tremaining: 25.5s\n",
      "499:\tlearn: 15536.2608220\ttotal: 2m 9s\tremaining: 0us\n",
      "[CV] END bootstrap_type=Bernoulli, depth=4, iterations=500, subsample=0.4; total time= 2.2min\n"
     ]
    },
    {
     "name": "stderr",
     "output_type": "stream",
     "text": [
      "Warning: less than 75% gpu memory available for training. Free: 28688.1875 Total: 48676.75\n",
      "Warning: less than 75% gpu memory available for training. Free: 31126.0625 Total: 48676.75\n",
      "Warning: less than 75% gpu memory available for training. Free: 34145.125 Total: 48676.75\n",
      "Warning: less than 75% gpu memory available for training. Free: 34017.125 Total: 48676.75\n",
      "Warning: less than 75% gpu memory available for training. Free: 28889.125 Total: 48676.75\n"
     ]
    },
    {
     "name": "stdout",
     "output_type": "stream",
     "text": [
      "Learning rate set to 0.062354\n",
      "0:\tlearn: 75689.1171664\ttotal: 212ms\tremaining: 1m 45s\n",
      "200:\tlearn: 19693.1694437\ttotal: 52.8s\tremaining: 1m 18s\n",
      "400:\tlearn: 16202.7145231\ttotal: 1m 44s\tremaining: 25.8s\n",
      "499:\tlearn: 14966.8085598\ttotal: 2m 10s\tremaining: 0us\n",
      "[CV] END bootstrap_type=Bernoulli, depth=4, iterations=500, subsample=0.4; total time= 2.2min\n"
     ]
    },
    {
     "name": "stderr",
     "output_type": "stream",
     "text": [
      "Warning: less than 75% gpu memory available for training. Free: 28688.1875 Total: 48676.75\n",
      "Warning: less than 75% gpu memory available for training. Free: 31128.0625 Total: 48676.75\n",
      "Warning: less than 75% gpu memory available for training. Free: 34145.125 Total: 48676.75\n",
      "Warning: less than 75% gpu memory available for training. Free: 34017.125 Total: 48676.75\n",
      "Warning: less than 75% gpu memory available for training. Free: 28889.125 Total: 48676.75\n"
     ]
    },
    {
     "name": "stdout",
     "output_type": "stream",
     "text": [
      "Learning rate set to 0.062354\n",
      "0:\tlearn: 77500.8257441\ttotal: 214ms\tremaining: 1m 46s\n",
      "200:\tlearn: 19057.8364251\ttotal: 50.4s\tremaining: 1m 14s\n",
      "400:\tlearn: 15082.6256934\ttotal: 1m 40s\tremaining: 24.8s\n",
      "499:\tlearn: 13913.0470432\ttotal: 2m 7s\tremaining: 0us\n",
      "[CV] END bootstrap_type=Bernoulli, depth=4, iterations=500, subsample=0.5; total time= 2.2min\n"
     ]
    },
    {
     "name": "stderr",
     "output_type": "stream",
     "text": [
      "Warning: less than 75% gpu memory available for training. Free: 28688.1875 Total: 48676.75\n",
      "Warning: less than 75% gpu memory available for training. Free: 31126.0625 Total: 48676.75\n",
      "Warning: less than 75% gpu memory available for training. Free: 34145.125 Total: 48676.75\n",
      "Warning: less than 75% gpu memory available for training. Free: 34017.125 Total: 48676.75\n",
      "Warning: less than 75% gpu memory available for training. Free: 28889.125 Total: 48676.75\n"
     ]
    },
    {
     "name": "stdout",
     "output_type": "stream",
     "text": [
      "Learning rate set to 0.062354\n",
      "0:\tlearn: 75893.0277361\ttotal: 221ms\tremaining: 1m 50s\n",
      "200:\tlearn: 18583.1247531\ttotal: 51.2s\tremaining: 1m 16s\n",
      "400:\tlearn: 15262.1003384\ttotal: 1m 43s\tremaining: 25.5s\n",
      "499:\tlearn: 14192.2642715\ttotal: 2m 10s\tremaining: 0us\n",
      "[CV] END bootstrap_type=Bernoulli, depth=4, iterations=500, subsample=0.5; total time= 2.2min\n"
     ]
    },
    {
     "name": "stderr",
     "output_type": "stream",
     "text": [
      "Warning: less than 75% gpu memory available for training. Free: 28688.1875 Total: 48676.75\n",
      "Warning: less than 75% gpu memory available for training. Free: 31126.0625 Total: 48676.75\n",
      "Warning: less than 75% gpu memory available for training. Free: 34145.125 Total: 48676.75\n",
      "Warning: less than 75% gpu memory available for training. Free: 34017.125 Total: 48676.75\n",
      "Warning: less than 75% gpu memory available for training. Free: 28889.125 Total: 48676.75\n"
     ]
    },
    {
     "name": "stdout",
     "output_type": "stream",
     "text": [
      "Learning rate set to 0.062354\n",
      "0:\tlearn: 74421.7919713\ttotal: 215ms\tremaining: 1m 47s\n",
      "200:\tlearn: 18658.0822636\ttotal: 51.2s\tremaining: 1m 16s\n",
      "400:\tlearn: 14589.6667204\ttotal: 1m 40s\tremaining: 24.8s\n",
      "499:\tlearn: 13307.2019804\ttotal: 2m 6s\tremaining: 0us\n",
      "[CV] END bootstrap_type=Bernoulli, depth=4, iterations=500, subsample=0.5; total time= 2.2min\n"
     ]
    },
    {
     "name": "stderr",
     "output_type": "stream",
     "text": [
      "Warning: less than 75% gpu memory available for training. Free: 28688.1875 Total: 48676.75\n",
      "Warning: less than 75% gpu memory available for training. Free: 31128.0625 Total: 48676.75\n",
      "Warning: less than 75% gpu memory available for training. Free: 34145.125 Total: 48676.75\n",
      "Warning: less than 75% gpu memory available for training. Free: 34017.125 Total: 48676.75\n",
      "Warning: less than 75% gpu memory available for training. Free: 28889.125 Total: 48676.75\n"
     ]
    },
    {
     "name": "stdout",
     "output_type": "stream",
     "text": [
      "Learning rate set to 0.062354\n",
      "0:\tlearn: 78064.8960914\ttotal: 221ms\tremaining: 1m 50s\n",
      "200:\tlearn: 20225.3490100\ttotal: 51.2s\tremaining: 1m 16s\n",
      "400:\tlearn: 16473.3343615\ttotal: 1m 44s\tremaining: 25.8s\n",
      "499:\tlearn: 15157.2259290\ttotal: 2m 11s\tremaining: 0us\n",
      "[CV] END bootstrap_type=Bernoulli, depth=4, iterations=500, subsample=0.5; total time= 2.2min\n"
     ]
    },
    {
     "name": "stderr",
     "output_type": "stream",
     "text": [
      "Warning: less than 75% gpu memory available for training. Free: 28688.1875 Total: 48676.75\n",
      "Warning: less than 75% gpu memory available for training. Free: 31126.0625 Total: 48676.75\n",
      "Warning: less than 75% gpu memory available for training. Free: 34145.125 Total: 48676.75\n",
      "Warning: less than 75% gpu memory available for training. Free: 34017.125 Total: 48676.75\n",
      "Warning: less than 75% gpu memory available for training. Free: 28889.125 Total: 48676.75\n"
     ]
    },
    {
     "name": "stdout",
     "output_type": "stream",
     "text": [
      "Learning rate set to 0.062354\n",
      "0:\tlearn: 75700.2687098\ttotal: 218ms\tremaining: 1m 49s\n",
      "200:\tlearn: 19269.1838472\ttotal: 51.9s\tremaining: 1m 17s\n",
      "400:\tlearn: 15632.3902308\ttotal: 1m 43s\tremaining: 25.5s\n",
      "499:\tlearn: 14360.0781163\ttotal: 2m 10s\tremaining: 0us\n",
      "[CV] END bootstrap_type=Bernoulli, depth=4, iterations=500, subsample=0.5; total time= 2.2min\n"
     ]
    },
    {
     "name": "stderr",
     "output_type": "stream",
     "text": [
      "Warning: less than 75% gpu memory available for training. Free: 28688.1875 Total: 48676.75\n",
      "Warning: less than 75% gpu memory available for training. Free: 31126.0625 Total: 48676.75\n",
      "Warning: less than 75% gpu memory available for training. Free: 34145.125 Total: 48676.75\n",
      "Warning: less than 75% gpu memory available for training. Free: 34017.125 Total: 48676.75\n",
      "Warning: less than 75% gpu memory available for training. Free: 28889.125 Total: 48676.75\n"
     ]
    },
    {
     "name": "stdout",
     "output_type": "stream",
     "text": [
      "Learning rate set to 0.062354\n",
      "0:\tlearn: 77472.0404678\ttotal: 222ms\tremaining: 1m 50s\n",
      "200:\tlearn: 18686.3005420\ttotal: 49.6s\tremaining: 1m 13s\n",
      "400:\tlearn: 14775.4980001\ttotal: 1m 40s\tremaining: 24.8s\n",
      "499:\tlearn: 13443.7458576\ttotal: 2m 6s\tremaining: 0us\n",
      "[CV] END bootstrap_type=Bernoulli, depth=4, iterations=500, subsample=0.6; total time= 2.2min\n"
     ]
    },
    {
     "name": "stderr",
     "output_type": "stream",
     "text": [
      "Warning: less than 75% gpu memory available for training. Free: 28688.1875 Total: 48676.75\n",
      "Warning: less than 75% gpu memory available for training. Free: 31128.0625 Total: 48676.75\n",
      "Warning: less than 75% gpu memory available for training. Free: 34145.125 Total: 48676.75\n",
      "Warning: less than 75% gpu memory available for training. Free: 34017.125 Total: 48676.75\n",
      "Warning: less than 75% gpu memory available for training. Free: 28889.125 Total: 48676.75\n"
     ]
    },
    {
     "name": "stdout",
     "output_type": "stream",
     "text": [
      "Learning rate set to 0.062354\n",
      "0:\tlearn: 75892.3357251\ttotal: 222ms\tremaining: 1m 50s\n",
      "200:\tlearn: 18330.5893664\ttotal: 50.8s\tremaining: 1m 15s\n",
      "400:\tlearn: 14934.7559922\ttotal: 1m 43s\tremaining: 25.5s\n",
      "499:\tlearn: 13785.4230894\ttotal: 2m 11s\tremaining: 0us\n",
      "[CV] END bootstrap_type=Bernoulli, depth=4, iterations=500, subsample=0.6; total time= 2.2min\n"
     ]
    },
    {
     "name": "stderr",
     "output_type": "stream",
     "text": [
      "Warning: less than 75% gpu memory available for training. Free: 28688.1875 Total: 48676.75\n",
      "Warning: less than 75% gpu memory available for training. Free: 31126.0625 Total: 48676.75\n",
      "Warning: less than 75% gpu memory available for training. Free: 34145.125 Total: 48676.75\n",
      "Warning: less than 75% gpu memory available for training. Free: 34017.125 Total: 48676.75\n",
      "Warning: less than 75% gpu memory available for training. Free: 28889.125 Total: 48676.75\n"
     ]
    },
    {
     "name": "stdout",
     "output_type": "stream",
     "text": [
      "Learning rate set to 0.062354\n",
      "0:\tlearn: 74432.7142570\ttotal: 215ms\tremaining: 1m 47s\n",
      "200:\tlearn: 18191.4354679\ttotal: 50.2s\tremaining: 1m 14s\n",
      "400:\tlearn: 14223.1902015\ttotal: 1m 41s\tremaining: 25.2s\n",
      "499:\tlearn: 12867.4158894\ttotal: 2m 7s\tremaining: 0us\n",
      "[CV] END bootstrap_type=Bernoulli, depth=4, iterations=500, subsample=0.6; total time= 2.2min\n"
     ]
    },
    {
     "name": "stderr",
     "output_type": "stream",
     "text": [
      "Warning: less than 75% gpu memory available for training. Free: 28688.1875 Total: 48676.75\n",
      "Warning: less than 75% gpu memory available for training. Free: 31126.0625 Total: 48676.75\n",
      "Warning: less than 75% gpu memory available for training. Free: 34145.125 Total: 48676.75\n",
      "Warning: less than 75% gpu memory available for training. Free: 34017.125 Total: 48676.75\n",
      "Warning: less than 75% gpu memory available for training. Free: 28889.125 Total: 48676.75\n"
     ]
    },
    {
     "name": "stdout",
     "output_type": "stream",
     "text": [
      "Learning rate set to 0.062354\n",
      "0:\tlearn: 78155.3522770\ttotal: 215ms\tremaining: 1m 47s\n",
      "200:\tlearn: 19719.9521409\ttotal: 51.6s\tremaining: 1m 16s\n",
      "400:\tlearn: 15671.4712058\ttotal: 1m 44s\tremaining: 25.9s\n",
      "499:\tlearn: 14274.1139782\ttotal: 2m 11s\tremaining: 0us\n",
      "[CV] END bootstrap_type=Bernoulli, depth=4, iterations=500, subsample=0.6; total time= 2.2min\n"
     ]
    },
    {
     "name": "stderr",
     "output_type": "stream",
     "text": [
      "Warning: less than 75% gpu memory available for training. Free: 28690.1875 Total: 48676.75\n",
      "Warning: less than 75% gpu memory available for training. Free: 31128.0625 Total: 48676.75\n",
      "Warning: less than 75% gpu memory available for training. Free: 34145.125 Total: 48676.75\n",
      "Warning: less than 75% gpu memory available for training. Free: 34017.125 Total: 48676.75\n",
      "Warning: less than 75% gpu memory available for training. Free: 28889.125 Total: 48676.75\n"
     ]
    },
    {
     "name": "stdout",
     "output_type": "stream",
     "text": [
      "Learning rate set to 0.062354\n",
      "0:\tlearn: 75682.9135759\ttotal: 218ms\tremaining: 1m 48s\n",
      "200:\tlearn: 18703.5289206\ttotal: 51.9s\tremaining: 1m 17s\n",
      "400:\tlearn: 14958.9646701\ttotal: 1m 44s\tremaining: 25.8s\n",
      "499:\tlearn: 13787.9855582\ttotal: 2m 11s\tremaining: 0us\n",
      "[CV] END bootstrap_type=Bernoulli, depth=4, iterations=500, subsample=0.6; total time= 2.2min\n"
     ]
    },
    {
     "name": "stderr",
     "output_type": "stream",
     "text": [
      "Warning: less than 75% gpu memory available for training. Free: 28688.1875 Total: 48676.75\n",
      "Warning: less than 75% gpu memory available for training. Free: 31126.0625 Total: 48676.75\n",
      "Warning: less than 75% gpu memory available for training. Free: 34145.125 Total: 48676.75\n",
      "Warning: less than 75% gpu memory available for training. Free: 34017.125 Total: 48676.75\n",
      "Warning: less than 75% gpu memory available for training. Free: 28889.125 Total: 48676.75\n"
     ]
    },
    {
     "name": "stdout",
     "output_type": "stream",
     "text": [
      "Learning rate set to 0.062354\n",
      "0:\tlearn: 77472.0404678\ttotal: 214ms\tremaining: 1m 46s\n",
      "200:\tlearn: 17914.1321117\ttotal: 50.9s\tremaining: 1m 15s\n",
      "400:\tlearn: 14083.4830063\ttotal: 1m 43s\tremaining: 25.5s\n",
      "499:\tlearn: 12904.6951209\ttotal: 2m 9s\tremaining: 0us\n",
      "[CV] END bootstrap_type=Bernoulli, depth=4, iterations=500, subsample=0.7; total time= 2.2min\n"
     ]
    },
    {
     "name": "stderr",
     "output_type": "stream",
     "text": [
      "Warning: less than 75% gpu memory available for training. Free: 28688.1875 Total: 48676.75\n",
      "Warning: less than 75% gpu memory available for training. Free: 31126.0625 Total: 48676.75\n",
      "Warning: less than 75% gpu memory available for training. Free: 34145.125 Total: 48676.75\n",
      "Warning: less than 75% gpu memory available for training. Free: 34017.125 Total: 48676.75\n",
      "Warning: less than 75% gpu memory available for training. Free: 28889.125 Total: 48676.75\n"
     ]
    },
    {
     "name": "stdout",
     "output_type": "stream",
     "text": [
      "Learning rate set to 0.062354\n",
      "0:\tlearn: 76151.6670933\ttotal: 216ms\tremaining: 1m 47s\n",
      "200:\tlearn: 17798.0791822\ttotal: 51s\tremaining: 1m 15s\n",
      "400:\tlearn: 14553.2622074\ttotal: 1m 44s\tremaining: 25.7s\n",
      "499:\tlearn: 13408.3876101\ttotal: 2m 12s\tremaining: 0us\n",
      "[CV] END bootstrap_type=Bernoulli, depth=4, iterations=500, subsample=0.7; total time= 2.3min\n"
     ]
    },
    {
     "name": "stderr",
     "output_type": "stream",
     "text": [
      "Warning: less than 75% gpu memory available for training. Free: 28688.1875 Total: 48676.75\n",
      "Warning: less than 75% gpu memory available for training. Free: 32152.0625 Total: 48676.75\n",
      "Warning: less than 75% gpu memory available for training. Free: 34145.125 Total: 48676.75\n",
      "Warning: less than 75% gpu memory available for training. Free: 34017.125 Total: 48676.75\n",
      "Warning: less than 75% gpu memory available for training. Free: 28889.125 Total: 48676.75\n"
     ]
    },
    {
     "name": "stdout",
     "output_type": "stream",
     "text": [
      "Learning rate set to 0.062354\n",
      "0:\tlearn: 74433.1183087\ttotal: 214ms\tremaining: 1m 46s\n",
      "200:\tlearn: 17454.2954104\ttotal: 50.1s\tremaining: 1m 14s\n",
      "400:\tlearn: 13730.6625767\ttotal: 1m 41s\tremaining: 25.1s\n",
      "499:\tlearn: 12381.6375220\ttotal: 2m 7s\tremaining: 0us\n",
      "[CV] END bootstrap_type=Bernoulli, depth=4, iterations=500, subsample=0.7; total time= 2.2min\n"
     ]
    },
    {
     "name": "stderr",
     "output_type": "stream",
     "text": [
      "Warning: less than 75% gpu memory available for training. Free: 28688.1875 Total: 48676.75\n",
      "Warning: less than 75% gpu memory available for training. Free: 31126.0625 Total: 48676.75\n",
      "Warning: less than 75% gpu memory available for training. Free: 34145.125 Total: 48676.75\n",
      "Warning: less than 75% gpu memory available for training. Free: 34017.125 Total: 48676.75\n",
      "Warning: less than 75% gpu memory available for training. Free: 28889.125 Total: 48676.75\n"
     ]
    },
    {
     "name": "stdout",
     "output_type": "stream",
     "text": [
      "Learning rate set to 0.062354\n",
      "0:\tlearn: 78111.2162167\ttotal: 212ms\tremaining: 1m 45s\n",
      "200:\tlearn: 18973.2953789\ttotal: 51s\tremaining: 1m 15s\n",
      "400:\tlearn: 15180.1160788\ttotal: 1m 45s\tremaining: 26.1s\n",
      "499:\tlearn: 13897.6066768\ttotal: 2m 12s\tremaining: 0us\n",
      "[CV] END bootstrap_type=Bernoulli, depth=4, iterations=500, subsample=0.7; total time= 2.3min\n"
     ]
    },
    {
     "name": "stderr",
     "output_type": "stream",
     "text": [
      "Warning: less than 75% gpu memory available for training. Free: 28688.1875 Total: 48676.75\n",
      "Warning: less than 75% gpu memory available for training. Free: 31128.0625 Total: 48676.75\n",
      "Warning: less than 75% gpu memory available for training. Free: 34145.125 Total: 48676.75\n",
      "Warning: less than 75% gpu memory available for training. Free: 34017.125 Total: 48676.75\n",
      "Warning: less than 75% gpu memory available for training. Free: 28889.125 Total: 48676.75\n"
     ]
    },
    {
     "name": "stdout",
     "output_type": "stream",
     "text": [
      "Learning rate set to 0.062354\n",
      "0:\tlearn: 75663.4306400\ttotal: 212ms\tremaining: 1m 45s\n",
      "200:\tlearn: 17791.4701803\ttotal: 51.5s\tremaining: 1m 16s\n",
      "400:\tlearn: 14358.5986266\ttotal: 1m 46s\tremaining: 26.2s\n",
      "499:\tlearn: 13203.8169990\ttotal: 2m 14s\tremaining: 0us\n",
      "[CV] END bootstrap_type=Bernoulli, depth=4, iterations=500, subsample=0.7; total time= 2.3min\n"
     ]
    },
    {
     "name": "stderr",
     "output_type": "stream",
     "text": [
      "Warning: less than 75% gpu memory available for training. Free: 28688.1875 Total: 48676.75\n",
      "Warning: less than 75% gpu memory available for training. Free: 31126.0625 Total: 48676.75\n",
      "Warning: less than 75% gpu memory available for training. Free: 34145.125 Total: 48676.75\n",
      "Warning: less than 75% gpu memory available for training. Free: 34017.125 Total: 48676.75\n",
      "Warning: less than 75% gpu memory available for training. Free: 28889.125 Total: 48676.75\n"
     ]
    },
    {
     "name": "stdout",
     "output_type": "stream",
     "text": [
      "Learning rate set to 0.062354\n",
      "0:\tlearn: 77472.0404678\ttotal: 216ms\tremaining: 1m 47s\n",
      "200:\tlearn: 17544.6050280\ttotal: 51.7s\tremaining: 1m 16s\n",
      "400:\tlearn: 13835.3966214\ttotal: 1m 45s\tremaining: 26.1s\n",
      "499:\tlearn: 12682.2424360\ttotal: 2m 12s\tremaining: 0us\n",
      "[CV] END bootstrap_type=Bernoulli, depth=4, iterations=500, subsample=0.8; total time= 2.3min\n"
     ]
    },
    {
     "name": "stderr",
     "output_type": "stream",
     "text": [
      "Warning: less than 75% gpu memory available for training. Free: 28688.1875 Total: 48676.75\n",
      "Warning: less than 75% gpu memory available for training. Free: 31126.0625 Total: 48676.75\n",
      "Warning: less than 75% gpu memory available for training. Free: 34145.125 Total: 48676.75\n",
      "Warning: less than 75% gpu memory available for training. Free: 34017.125 Total: 48676.75\n",
      "Warning: less than 75% gpu memory available for training. Free: 28889.125 Total: 48676.75\n"
     ]
    },
    {
     "name": "stdout",
     "output_type": "stream",
     "text": [
      "Learning rate set to 0.062354\n",
      "0:\tlearn: 76174.0570428\ttotal: 218ms\tremaining: 1m 48s\n",
      "200:\tlearn: 17705.2755794\ttotal: 51.3s\tremaining: 1m 16s\n",
      "400:\tlearn: 14730.4439424\ttotal: 1m 45s\tremaining: 26s\n",
      "499:\tlearn: 13501.3612951\ttotal: 2m 12s\tremaining: 0us\n",
      "[CV] END bootstrap_type=Bernoulli, depth=4, iterations=500, subsample=0.8; total time= 2.3min\n"
     ]
    },
    {
     "name": "stderr",
     "output_type": "stream",
     "text": [
      "Warning: less than 75% gpu memory available for training. Free: 28688.1875 Total: 48676.75\n",
      "Warning: less than 75% gpu memory available for training. Free: 31126.0625 Total: 48676.75\n",
      "Warning: less than 75% gpu memory available for training. Free: 34145.125 Total: 48676.75\n",
      "Warning: less than 75% gpu memory available for training. Free: 34017.125 Total: 48676.75\n",
      "Warning: less than 75% gpu memory available for training. Free: 28889.125 Total: 48676.75\n"
     ]
    },
    {
     "name": "stdout",
     "output_type": "stream",
     "text": [
      "Learning rate set to 0.062354\n",
      "0:\tlearn: 74433.1183087\ttotal: 215ms\tremaining: 1m 47s\n",
      "200:\tlearn: 17297.1093380\ttotal: 50.2s\tremaining: 1m 14s\n",
      "400:\tlearn: 13589.4697025\ttotal: 1m 42s\tremaining: 25.4s\n",
      "499:\tlearn: 12274.3045826\ttotal: 2m 9s\tremaining: 0us\n",
      "[CV] END bootstrap_type=Bernoulli, depth=4, iterations=500, subsample=0.8; total time= 2.2min\n"
     ]
    },
    {
     "name": "stderr",
     "output_type": "stream",
     "text": [
      "Warning: less than 75% gpu memory available for training. Free: 28688.1875 Total: 48676.75\n",
      "Warning: less than 75% gpu memory available for training. Free: 31126.0625 Total: 48676.75\n",
      "Warning: less than 75% gpu memory available for training. Free: 34145.125 Total: 48676.75\n",
      "Warning: less than 75% gpu memory available for training. Free: 34017.125 Total: 48676.75\n",
      "Warning: less than 75% gpu memory available for training. Free: 28889.125 Total: 48676.75\n"
     ]
    },
    {
     "name": "stdout",
     "output_type": "stream",
     "text": [
      "Learning rate set to 0.062354\n",
      "0:\tlearn: 78111.2162167\ttotal: 215ms\tremaining: 1m 47s\n",
      "200:\tlearn: 18515.2405021\ttotal: 51.2s\tremaining: 1m 16s\n",
      "400:\tlearn: 14519.9132644\ttotal: 1m 45s\tremaining: 25.9s\n",
      "499:\tlearn: 13354.9948462\ttotal: 2m 12s\tremaining: 0us\n",
      "[CV] END bootstrap_type=Bernoulli, depth=4, iterations=500, subsample=0.8; total time= 2.3min\n"
     ]
    },
    {
     "name": "stderr",
     "output_type": "stream",
     "text": [
      "Warning: less than 75% gpu memory available for training. Free: 28688.1875 Total: 48676.75\n",
      "Warning: less than 75% gpu memory available for training. Free: 31126.0625 Total: 48676.75\n",
      "Warning: less than 75% gpu memory available for training. Free: 34145.125 Total: 48676.75\n",
      "Warning: less than 75% gpu memory available for training. Free: 34017.125 Total: 48676.75\n",
      "Warning: less than 75% gpu memory available for training. Free: 28889.125 Total: 48676.75\n"
     ]
    },
    {
     "name": "stdout",
     "output_type": "stream",
     "text": [
      "Learning rate set to 0.062354\n",
      "0:\tlearn: 75732.1279884\ttotal: 217ms\tremaining: 1m 48s\n",
      "200:\tlearn: 17505.6679980\ttotal: 51.1s\tremaining: 1m 16s\n",
      "400:\tlearn: 14053.4519330\ttotal: 1m 46s\tremaining: 26.2s\n",
      "499:\tlearn: 13000.2338441\ttotal: 2m 14s\tremaining: 0us\n",
      "[CV] END bootstrap_type=Bernoulli, depth=4, iterations=500, subsample=0.8; total time= 2.3min\n"
     ]
    },
    {
     "name": "stderr",
     "output_type": "stream",
     "text": [
      "Warning: less than 75% gpu memory available for training. Free: 28688.1875 Total: 48676.75\n",
      "Warning: less than 75% gpu memory available for training. Free: 31126.0625 Total: 48676.75\n",
      "Warning: less than 75% gpu memory available for training. Free: 34145.125 Total: 48676.75\n",
      "Warning: less than 75% gpu memory available for training. Free: 34017.125 Total: 48676.75\n",
      "Warning: less than 75% gpu memory available for training. Free: 28889.125 Total: 48676.75\n"
     ]
    },
    {
     "name": "stdout",
     "output_type": "stream",
     "text": [
      "Learning rate set to 0.041224\n",
      "0:\tlearn: 78549.9465375\ttotal: 228ms\tremaining: 3m 47s\n",
      "200:\tlearn: 22785.6573201\ttotal: 54.6s\tremaining: 3m 37s\n",
      "400:\tlearn: 18066.9730254\ttotal: 1m 41s\tremaining: 2m 31s\n",
      "600:\tlearn: 15773.3745349\ttotal: 2m 32s\tremaining: 1m 41s\n",
      "800:\tlearn: 14106.3966759\ttotal: 3m 24s\tremaining: 50.9s\n",
      "999:\tlearn: 12791.8691984\ttotal: 4m 16s\tremaining: 0us\n",
      "[CV] END bootstrap_type=Bernoulli, depth=4, iterations=1000, subsample=0.4; total time= 4.3min\n"
     ]
    },
    {
     "name": "stderr",
     "output_type": "stream",
     "text": [
      "Warning: less than 75% gpu memory available for training. Free: 28688.1875 Total: 48676.75\n",
      "Warning: less than 75% gpu memory available for training. Free: 31128.0625 Total: 48676.75\n",
      "Warning: less than 75% gpu memory available for training. Free: 34145.125 Total: 48676.75\n",
      "Warning: less than 75% gpu memory available for training. Free: 34017.125 Total: 48676.75\n",
      "Warning: less than 75% gpu memory available for training. Free: 28889.125 Total: 48676.75\n"
     ]
    },
    {
     "name": "stdout",
     "output_type": "stream",
     "text": [
      "Learning rate set to 0.041224\n",
      "0:\tlearn: 76935.5136850\ttotal: 220ms\tremaining: 3m 39s\n",
      "200:\tlearn: 21639.7217312\ttotal: 55.9s\tremaining: 3m 42s\n",
      "400:\tlearn: 17641.2042704\ttotal: 1m 43s\tremaining: 2m 34s\n",
      "600:\tlearn: 15539.3095525\ttotal: 2m 35s\tremaining: 1m 43s\n",
      "800:\tlearn: 14115.0115135\ttotal: 3m 30s\tremaining: 52.2s\n",
      "999:\tlearn: 12925.6007539\ttotal: 4m 25s\tremaining: 0us\n",
      "[CV] END bootstrap_type=Bernoulli, depth=4, iterations=1000, subsample=0.4; total time= 4.5min\n"
     ]
    },
    {
     "name": "stderr",
     "output_type": "stream",
     "text": [
      "Warning: less than 75% gpu memory available for training. Free: 28688.1875 Total: 48676.75\n",
      "Warning: less than 75% gpu memory available for training. Free: 31126.0625 Total: 48676.75\n",
      "Warning: less than 75% gpu memory available for training. Free: 34145.125 Total: 48676.75\n",
      "Warning: less than 75% gpu memory available for training. Free: 34017.125 Total: 48676.75\n",
      "Warning: less than 75% gpu memory available for training. Free: 28889.125 Total: 48676.75\n"
     ]
    },
    {
     "name": "stdout",
     "output_type": "stream",
     "text": [
      "Learning rate set to 0.041224\n",
      "0:\tlearn: 75407.0395493\ttotal: 215ms\tremaining: 3m 34s\n",
      "200:\tlearn: 22133.1765456\ttotal: 55.7s\tremaining: 3m 41s\n",
      "400:\tlearn: 17285.3170917\ttotal: 1m 42s\tremaining: 2m 32s\n",
      "600:\tlearn: 15029.6848334\ttotal: 2m 31s\tremaining: 1m 40s\n",
      "800:\tlearn: 13355.0321335\ttotal: 3m 22s\tremaining: 50.4s\n",
      "999:\tlearn: 12077.5796541\ttotal: 4m 14s\tremaining: 0us\n",
      "[CV] END bootstrap_type=Bernoulli, depth=4, iterations=1000, subsample=0.4; total time= 4.3min\n"
     ]
    },
    {
     "name": "stderr",
     "output_type": "stream",
     "text": [
      "Warning: less than 75% gpu memory available for training. Free: 28688.1875 Total: 48676.75\n",
      "Warning: less than 75% gpu memory available for training. Free: 31126.0625 Total: 48676.75\n",
      "Warning: less than 75% gpu memory available for training. Free: 34145.125 Total: 48676.75\n",
      "Warning: less than 75% gpu memory available for training. Free: 34017.125 Total: 48676.75\n",
      "Warning: less than 75% gpu memory available for training. Free: 28889.125 Total: 48676.75\n"
     ]
    },
    {
     "name": "stdout",
     "output_type": "stream",
     "text": [
      "Learning rate set to 0.041224\n",
      "0:\tlearn: 79154.7167293\ttotal: 215ms\tremaining: 3m 34s\n",
      "200:\tlearn: 23260.2585976\ttotal: 54.7s\tremaining: 3m 37s\n",
      "400:\tlearn: 18926.6362482\ttotal: 1m 45s\tremaining: 2m 37s\n",
      "600:\tlearn: 16695.5053192\ttotal: 2m 38s\tremaining: 1m 45s\n",
      "800:\tlearn: 15038.4973892\ttotal: 3m 32s\tremaining: 52.9s\n",
      "999:\tlearn: 13711.6581853\ttotal: 4m 27s\tremaining: 0us\n",
      "[CV] END bootstrap_type=Bernoulli, depth=4, iterations=1000, subsample=0.4; total time= 4.5min\n"
     ]
    },
    {
     "name": "stderr",
     "output_type": "stream",
     "text": [
      "Warning: less than 75% gpu memory available for training. Free: 28688.1875 Total: 48676.75\n",
      "Warning: less than 75% gpu memory available for training. Free: 31128.0625 Total: 48676.75\n",
      "Warning: less than 75% gpu memory available for training. Free: 34145.125 Total: 48676.75\n",
      "Warning: less than 75% gpu memory available for training. Free: 34017.125 Total: 48676.75\n",
      "Warning: less than 75% gpu memory available for training. Free: 28889.125 Total: 48676.75\n"
     ]
    },
    {
     "name": "stdout",
     "output_type": "stream",
     "text": [
      "Learning rate set to 0.041224\n",
      "0:\tlearn: 76730.4803161\ttotal: 213ms\tremaining: 3m 32s\n",
      "200:\tlearn: 21913.0821601\ttotal: 58.4s\tremaining: 3m 52s\n",
      "400:\tlearn: 18056.0308568\ttotal: 1m 47s\tremaining: 2m 39s\n",
      "600:\tlearn: 16085.2418635\ttotal: 2m 38s\tremaining: 1m 45s\n",
      "800:\tlearn: 14625.7614718\ttotal: 3m 32s\tremaining: 52.8s\n",
      "999:\tlearn: 13380.4048590\ttotal: 4m 26s\tremaining: 0us\n",
      "[CV] END bootstrap_type=Bernoulli, depth=4, iterations=1000, subsample=0.4; total time= 4.5min\n"
     ]
    },
    {
     "name": "stderr",
     "output_type": "stream",
     "text": [
      "Warning: less than 75% gpu memory available for training. Free: 28688.1875 Total: 48676.75\n",
      "Warning: less than 75% gpu memory available for training. Free: 31126.0625 Total: 48676.75\n",
      "Warning: less than 75% gpu memory available for training. Free: 34145.125 Total: 48676.75\n",
      "Warning: less than 75% gpu memory available for training. Free: 34017.125 Total: 48676.75\n",
      "Warning: less than 75% gpu memory available for training. Free: 28889.125 Total: 48676.75\n"
     ]
    },
    {
     "name": "stdout",
     "output_type": "stream",
     "text": [
      "Learning rate set to 0.041224\n",
      "0:\tlearn: 78552.0237448\ttotal: 219ms\tremaining: 3m 39s\n",
      "200:\tlearn: 22188.8278540\ttotal: 53.3s\tremaining: 3m 31s\n",
      "400:\tlearn: 17382.8448387\ttotal: 1m 40s\tremaining: 2m 30s\n",
      "600:\tlearn: 15220.7150553\ttotal: 2m 32s\tremaining: 1m 41s\n",
      "800:\tlearn: 13567.3910435\ttotal: 3m 26s\tremaining: 51.3s\n",
      "999:\tlearn: 12208.7093638\ttotal: 4m 20s\tremaining: 0us\n",
      "[CV] END bootstrap_type=Bernoulli, depth=4, iterations=1000, subsample=0.5; total time= 4.4min\n"
     ]
    },
    {
     "name": "stderr",
     "output_type": "stream",
     "text": [
      "Warning: less than 75% gpu memory available for training. Free: 28688.1875 Total: 48676.75\n",
      "Warning: less than 75% gpu memory available for training. Free: 31126.0625 Total: 48676.75\n",
      "Warning: less than 75% gpu memory available for training. Free: 34145.125 Total: 48676.75\n",
      "Warning: less than 75% gpu memory available for training. Free: 34017.125 Total: 48676.75\n",
      "Warning: less than 75% gpu memory available for training. Free: 28889.125 Total: 48676.75\n"
     ]
    },
    {
     "name": "stdout",
     "output_type": "stream",
     "text": [
      "Learning rate set to 0.041224\n",
      "0:\tlearn: 76935.5136850\ttotal: 227ms\tremaining: 3m 46s\n",
      "200:\tlearn: 20841.6432870\ttotal: 53.3s\tremaining: 3m 31s\n",
      "400:\tlearn: 17183.6477605\ttotal: 1m 42s\tremaining: 2m 32s\n",
      "600:\tlearn: 15076.3750158\ttotal: 2m 34s\tremaining: 1m 42s\n",
      "800:\tlearn: 13668.6696971\ttotal: 3m 30s\tremaining: 52.2s\n",
      "999:\tlearn: 12463.5975105\ttotal: 4m 25s\tremaining: 0us\n",
      "[CV] END bootstrap_type=Bernoulli, depth=4, iterations=1000, subsample=0.5; total time= 4.5min\n"
     ]
    },
    {
     "name": "stderr",
     "output_type": "stream",
     "text": [
      "Warning: less than 75% gpu memory available for training. Free: 28688.1875 Total: 48676.75\n",
      "Warning: less than 75% gpu memory available for training. Free: 31128.0625 Total: 48676.75\n",
      "Warning: less than 75% gpu memory available for training. Free: 34145.125 Total: 48676.75\n",
      "Warning: less than 75% gpu memory available for training. Free: 34017.125 Total: 48676.75\n",
      "Warning: less than 75% gpu memory available for training. Free: 28889.125 Total: 48676.75\n"
     ]
    },
    {
     "name": "stdout",
     "output_type": "stream",
     "text": [
      "Learning rate set to 0.041224\n",
      "0:\tlearn: 75411.1974070\ttotal: 222ms\tremaining: 3m 41s\n",
      "200:\tlearn: 21666.1641541\ttotal: 54.1s\tremaining: 3m 34s\n",
      "400:\tlearn: 16926.6504887\ttotal: 1m 41s\tremaining: 2m 31s\n",
      "600:\tlearn: 14473.7966581\ttotal: 2m 31s\tremaining: 1m 40s\n",
      "800:\tlearn: 12837.7918811\ttotal: 3m 24s\tremaining: 50.8s\n",
      "999:\tlearn: 11534.3952677\ttotal: 4m 16s\tremaining: 0us\n",
      "[CV] END bootstrap_type=Bernoulli, depth=4, iterations=1000, subsample=0.5; total time= 4.3min\n"
     ]
    },
    {
     "name": "stderr",
     "output_type": "stream",
     "text": [
      "Warning: less than 75% gpu memory available for training. Free: 28688.1875 Total: 48676.75\n",
      "Warning: less than 75% gpu memory available for training. Free: 31126.0625 Total: 48676.75\n",
      "Warning: less than 75% gpu memory available for training. Free: 34145.125 Total: 48676.75\n",
      "Warning: less than 75% gpu memory available for training. Free: 34017.125 Total: 48676.75\n",
      "Warning: less than 75% gpu memory available for training. Free: 28889.125 Total: 48676.75\n"
     ]
    },
    {
     "name": "stdout",
     "output_type": "stream",
     "text": [
      "Learning rate set to 0.041224\n",
      "0:\tlearn: 79128.5753376\ttotal: 220ms\tremaining: 3m 39s\n",
      "200:\tlearn: 22742.1403988\ttotal: 52.6s\tremaining: 3m 29s\n",
      "400:\tlearn: 18420.0882362\ttotal: 1m 41s\tremaining: 2m 31s\n",
      "600:\tlearn: 16118.4020147\ttotal: 2m 35s\tremaining: 1m 43s\n",
      "800:\tlearn: 14522.6759903\ttotal: 3m 30s\tremaining: 52.4s\n",
      "999:\tlearn: 13189.3810006\ttotal: 4m 26s\tremaining: 0us\n",
      "[CV] END bootstrap_type=Bernoulli, depth=4, iterations=1000, subsample=0.5; total time= 4.5min\n"
     ]
    },
    {
     "name": "stderr",
     "output_type": "stream",
     "text": [
      "Warning: less than 75% gpu memory available for training. Free: 28688.1875 Total: 48676.75\n",
      "Warning: less than 75% gpu memory available for training. Free: 31126.0625 Total: 48676.75\n",
      "Warning: less than 75% gpu memory available for training. Free: 34145.125 Total: 48676.75\n",
      "Warning: less than 75% gpu memory available for training. Free: 34017.125 Total: 48676.75\n",
      "Warning: less than 75% gpu memory available for training. Free: 28889.125 Total: 48676.75\n"
     ]
    },
    {
     "name": "stdout",
     "output_type": "stream",
     "text": [
      "Learning rate set to 0.041224\n",
      "0:\tlearn: 76737.8363942\ttotal: 217ms\tremaining: 3m 36s\n",
      "200:\tlearn: 21096.5182870\ttotal: 54.9s\tremaining: 3m 38s\n",
      "400:\tlearn: 17352.0729329\ttotal: 1m 43s\tremaining: 2m 34s\n",
      "600:\tlearn: 15327.7680081\ttotal: 2m 36s\tremaining: 1m 44s\n",
      "800:\tlearn: 13864.7830684\ttotal: 3m 31s\tremaining: 52.5s\n",
      "999:\tlearn: 12688.9168941\ttotal: 4m 26s\tremaining: 0us\n",
      "[CV] END bootstrap_type=Bernoulli, depth=4, iterations=1000, subsample=0.5; total time= 4.5min\n"
     ]
    },
    {
     "name": "stderr",
     "output_type": "stream",
     "text": [
      "Warning: less than 75% gpu memory available for training. Free: 28688.1875 Total: 48676.75\n",
      "Warning: less than 75% gpu memory available for training. Free: 31128.0625 Total: 48676.75\n",
      "Warning: less than 75% gpu memory available for training. Free: 34145.125 Total: 48676.75\n",
      "Warning: less than 75% gpu memory available for training. Free: 34017.125 Total: 48676.75\n",
      "Warning: less than 75% gpu memory available for training. Free: 28889.125 Total: 48676.75\n"
     ]
    },
    {
     "name": "stdout",
     "output_type": "stream",
     "text": [
      "Learning rate set to 0.041224\n",
      "0:\tlearn: 78533.3183270\ttotal: 216ms\tremaining: 3m 35s\n",
      "200:\tlearn: 21296.4293772\ttotal: 52.2s\tremaining: 3m 27s\n",
      "400:\tlearn: 16766.2682364\ttotal: 1m 41s\tremaining: 2m 31s\n",
      "600:\tlearn: 14643.5331316\ttotal: 2m 33s\tremaining: 1m 41s\n",
      "800:\tlearn: 13079.4363919\ttotal: 3m 28s\tremaining: 51.7s\n",
      "999:\tlearn: 11837.3689783\ttotal: 4m 21s\tremaining: 0us\n",
      "[CV] END bootstrap_type=Bernoulli, depth=4, iterations=1000, subsample=0.6; total time= 4.4min\n"
     ]
    },
    {
     "name": "stderr",
     "output_type": "stream",
     "text": [
      "Warning: less than 75% gpu memory available for training. Free: 28688.1875 Total: 48676.75\n",
      "Warning: less than 75% gpu memory available for training. Free: 31126.0625 Total: 48676.75\n",
      "Warning: less than 75% gpu memory available for training. Free: 34145.125 Total: 48676.75\n",
      "Warning: less than 75% gpu memory available for training. Free: 34017.125 Total: 48676.75\n",
      "Warning: less than 75% gpu memory available for training. Free: 28889.125 Total: 48676.75\n"
     ]
    },
    {
     "name": "stdout",
     "output_type": "stream",
     "text": [
      "Learning rate set to 0.041224\n",
      "0:\tlearn: 76934.8835614\ttotal: 225ms\tremaining: 3m 44s\n",
      "200:\tlearn: 20504.3478557\ttotal: 51.8s\tremaining: 3m 26s\n",
      "400:\tlearn: 16921.5464820\ttotal: 1m 41s\tremaining: 2m 31s\n",
      "600:\tlearn: 14901.2502850\ttotal: 2m 34s\tremaining: 1m 42s\n",
      "800:\tlearn: 13338.8843386\ttotal: 3m 29s\tremaining: 52.1s\n",
      "999:\tlearn: 12112.5586451\ttotal: 4m 23s\tremaining: 0us\n",
      "[CV] END bootstrap_type=Bernoulli, depth=4, iterations=1000, subsample=0.6; total time= 4.4min\n"
     ]
    },
    {
     "name": "stderr",
     "output_type": "stream",
     "text": [
      "Warning: less than 75% gpu memory available for training. Free: 28688.1875 Total: 48676.75\n",
      "Warning: less than 75% gpu memory available for training. Free: 32406.0625 Total: 48676.75\n",
      "Warning: less than 75% gpu memory available for training. Free: 34145.125 Total: 48676.75\n",
      "Warning: less than 75% gpu memory available for training. Free: 34017.125 Total: 48676.75\n",
      "Warning: less than 75% gpu memory available for training. Free: 28889.125 Total: 48676.75\n"
     ]
    },
    {
     "name": "stdout",
     "output_type": "stream",
     "text": [
      "Learning rate set to 0.041224\n",
      "0:\tlearn: 75418.5333685\ttotal: 213ms\tremaining: 3m 32s\n",
      "200:\tlearn: 20924.1985572\ttotal: 53.3s\tremaining: 3m 31s\n",
      "400:\tlearn: 16436.6815702\ttotal: 1m 41s\tremaining: 2m 30s\n",
      "600:\tlearn: 14210.8544584\ttotal: 2m 32s\tremaining: 1m 41s\n",
      "800:\tlearn: 12391.1260514\ttotal: 3m 25s\tremaining: 51s\n",
      "999:\tlearn: 11150.1840073\ttotal: 4m 18s\tremaining: 0us\n",
      "[CV] END bootstrap_type=Bernoulli, depth=4, iterations=1000, subsample=0.6; total time= 4.4min\n"
     ]
    },
    {
     "name": "stderr",
     "output_type": "stream",
     "text": [
      "Warning: less than 75% gpu memory available for training. Free: 28688.1875 Total: 48676.75\n",
      "Warning: less than 75% gpu memory available for training. Free: 31128.0625 Total: 48676.75\n",
      "Warning: less than 75% gpu memory available for training. Free: 34145.125 Total: 48676.75\n",
      "Warning: less than 75% gpu memory available for training. Free: 34017.125 Total: 48676.75\n",
      "Warning: less than 75% gpu memory available for training. Free: 28889.125 Total: 48676.75\n"
     ]
    },
    {
     "name": "stdout",
     "output_type": "stream",
     "text": [
      "Learning rate set to 0.041224\n",
      "0:\tlearn: 79189.1683198\ttotal: 213ms\tremaining: 3m 32s\n",
      "200:\tlearn: 21891.5206653\ttotal: 52.4s\tremaining: 3m 28s\n",
      "400:\tlearn: 17720.8709270\ttotal: 1m 43s\tremaining: 2m 34s\n",
      "600:\tlearn: 15546.8985376\ttotal: 2m 38s\tremaining: 1m 44s\n",
      "800:\tlearn: 13817.6200397\ttotal: 3m 32s\tremaining: 52.9s\n",
      "999:\tlearn: 12446.8803948\ttotal: 4m 26s\tremaining: 0us\n",
      "[CV] END bootstrap_type=Bernoulli, depth=4, iterations=1000, subsample=0.6; total time= 4.5min\n"
     ]
    },
    {
     "name": "stderr",
     "output_type": "stream",
     "text": [
      "Warning: less than 75% gpu memory available for training. Free: 28688.1875 Total: 48676.75\n",
      "Warning: less than 75% gpu memory available for training. Free: 31126.0625 Total: 48676.75\n",
      "Warning: less than 75% gpu memory available for training. Free: 34145.125 Total: 48676.75\n",
      "Warning: less than 75% gpu memory available for training. Free: 34017.125 Total: 48676.75\n",
      "Warning: less than 75% gpu memory available for training. Free: 28889.125 Total: 48676.75\n"
     ]
    },
    {
     "name": "stdout",
     "output_type": "stream",
     "text": [
      "Learning rate set to 0.041224\n",
      "0:\tlearn: 76726.4173527\ttotal: 219ms\tremaining: 3m 38s\n",
      "200:\tlearn: 20689.5959719\ttotal: 52.9s\tremaining: 3m 30s\n",
      "400:\tlearn: 16943.4642574\ttotal: 1m 42s\tremaining: 2m 32s\n",
      "600:\tlearn: 14924.9799468\ttotal: 2m 35s\tremaining: 1m 43s\n",
      "800:\tlearn: 13339.3338972\ttotal: 3m 31s\tremaining: 52.4s\n",
      "999:\tlearn: 12230.2094248\ttotal: 4m 26s\tremaining: 0us\n",
      "[CV] END bootstrap_type=Bernoulli, depth=4, iterations=1000, subsample=0.6; total time= 4.5min\n"
     ]
    },
    {
     "name": "stderr",
     "output_type": "stream",
     "text": [
      "Warning: less than 75% gpu memory available for training. Free: 28688.1875 Total: 48676.75\n",
      "Warning: less than 75% gpu memory available for training. Free: 31126.0625 Total: 48676.75\n",
      "Warning: less than 75% gpu memory available for training. Free: 34145.125 Total: 48676.75\n",
      "Warning: less than 75% gpu memory available for training. Free: 34017.125 Total: 48676.75\n",
      "Warning: less than 75% gpu memory available for training. Free: 28889.125 Total: 48676.75\n"
     ]
    },
    {
     "name": "stdout",
     "output_type": "stream",
     "text": [
      "Learning rate set to 0.041224\n",
      "0:\tlearn: 78533.3183270\ttotal: 221ms\tremaining: 3m 40s\n",
      "200:\tlearn: 20572.8129789\ttotal: 52s\tremaining: 3m 26s\n",
      "400:\tlearn: 16377.2331917\ttotal: 1m 41s\tremaining: 2m 31s\n",
      "600:\tlearn: 14190.2315156\ttotal: 2m 34s\tremaining: 1m 42s\n",
      "800:\tlearn: 12514.2409092\ttotal: 3m 28s\tremaining: 51.9s\n",
      "999:\tlearn: 11177.8272891\ttotal: 4m 22s\tremaining: 0us\n",
      "[CV] END bootstrap_type=Bernoulli, depth=4, iterations=1000, subsample=0.7; total time= 4.4min\n"
     ]
    },
    {
     "name": "stderr",
     "output_type": "stream",
     "text": [
      "Warning: less than 75% gpu memory available for training. Free: 28688.1875 Total: 48676.75\n",
      "Warning: less than 75% gpu memory available for training. Free: 31128.0625 Total: 48676.75\n",
      "Warning: less than 75% gpu memory available for training. Free: 34145.125 Total: 48676.75\n",
      "Warning: less than 75% gpu memory available for training. Free: 34017.125 Total: 48676.75\n",
      "Warning: less than 75% gpu memory available for training. Free: 28889.125 Total: 48676.75\n"
     ]
    },
    {
     "name": "stdout",
     "output_type": "stream",
     "text": [
      "Learning rate set to 0.041224\n",
      "0:\tlearn: 77106.9606211\ttotal: 219ms\tremaining: 3m 38s\n",
      "200:\tlearn: 19932.7458370\ttotal: 52.4s\tremaining: 3m 28s\n",
      "400:\tlearn: 16535.6212057\ttotal: 1m 42s\tremaining: 2m 33s\n",
      "600:\tlearn: 14622.0426135\ttotal: 2m 37s\tremaining: 1m 44s\n",
      "800:\tlearn: 13183.0631400\ttotal: 3m 32s\tremaining: 52.8s\n",
      "999:\tlearn: 11878.7925774\ttotal: 4m 27s\tremaining: 0us\n",
      "[CV] END bootstrap_type=Bernoulli, depth=4, iterations=1000, subsample=0.7; total time= 4.5min\n"
     ]
    },
    {
     "name": "stderr",
     "output_type": "stream",
     "text": [
      "Warning: less than 75% gpu memory available for training. Free: 28688.1875 Total: 48676.75\n",
      "Warning: less than 75% gpu memory available for training. Free: 31128.0625 Total: 48676.75\n",
      "Warning: less than 75% gpu memory available for training. Free: 34145.125 Total: 48676.75\n",
      "Warning: less than 75% gpu memory available for training. Free: 34017.125 Total: 48676.75\n",
      "Warning: less than 75% gpu memory available for training. Free: 28889.125 Total: 48676.75\n"
     ]
    },
    {
     "name": "stdout",
     "output_type": "stream",
     "text": [
      "Learning rate set to 0.041224\n",
      "0:\tlearn: 75418.8875003\ttotal: 218ms\tremaining: 3m 37s\n",
      "200:\tlearn: 19949.4835117\ttotal: 52.2s\tremaining: 3m 27s\n",
      "400:\tlearn: 15848.4456245\ttotal: 1m 40s\tremaining: 2m 30s\n",
      "600:\tlearn: 13707.8361351\ttotal: 2m 32s\tremaining: 1m 41s\n",
      "800:\tlearn: 12061.4021403\ttotal: 3m 25s\tremaining: 51s\n",
      "999:\tlearn: 10826.4856363\ttotal: 4m 18s\tremaining: 0us\n",
      "[CV] END bootstrap_type=Bernoulli, depth=4, iterations=1000, subsample=0.7; total time= 4.4min\n"
     ]
    },
    {
     "name": "stderr",
     "output_type": "stream",
     "text": [
      "Warning: less than 75% gpu memory available for training. Free: 28688.1875 Total: 48676.75\n",
      "Warning: less than 75% gpu memory available for training. Free: 31126.0625 Total: 48676.75\n",
      "Warning: less than 75% gpu memory available for training. Free: 34145.125 Total: 48676.75\n",
      "Warning: less than 75% gpu memory available for training. Free: 34017.125 Total: 48676.75\n",
      "Warning: less than 75% gpu memory available for training. Free: 28889.125 Total: 48676.75\n"
     ]
    },
    {
     "name": "stdout",
     "output_type": "stream",
     "text": [
      "Learning rate set to 0.041224\n",
      "0:\tlearn: 79159.9961403\ttotal: 217ms\tremaining: 3m 36s\n",
      "200:\tlearn: 21601.6510784\ttotal: 51.6s\tremaining: 3m 25s\n",
      "400:\tlearn: 17396.4079051\ttotal: 1m 42s\tremaining: 2m 33s\n",
      "600:\tlearn: 15135.5352241\ttotal: 2m 37s\tremaining: 1m 44s\n",
      "800:\tlearn: 13454.2103610\ttotal: 3m 32s\tremaining: 52.7s\n",
      "999:\tlearn: 12159.6337364\ttotal: 4m 26s\tremaining: 0us\n",
      "[CV] END bootstrap_type=Bernoulli, depth=4, iterations=1000, subsample=0.7; total time= 4.5min\n"
     ]
    },
    {
     "name": "stderr",
     "output_type": "stream",
     "text": [
      "Warning: less than 75% gpu memory available for training. Free: 28688.1875 Total: 48676.75\n",
      "Warning: less than 75% gpu memory available for training. Free: 31126.0625 Total: 48676.75\n",
      "Warning: less than 75% gpu memory available for training. Free: 34145.125 Total: 48676.75\n",
      "Warning: less than 75% gpu memory available for training. Free: 34017.125 Total: 48676.75\n",
      "Warning: less than 75% gpu memory available for training. Free: 28889.125 Total: 48676.75\n"
     ]
    },
    {
     "name": "stdout",
     "output_type": "stream",
     "text": [
      "Learning rate set to 0.041224\n",
      "0:\tlearn: 76713.5659736\ttotal: 210ms\tremaining: 3m 29s\n",
      "200:\tlearn: 20370.9308010\ttotal: 53.1s\tremaining: 3m 31s\n",
      "400:\tlearn: 16507.4051162\ttotal: 1m 43s\tremaining: 2m 35s\n",
      "600:\tlearn: 14459.5905511\ttotal: 2m 40s\tremaining: 1m 46s\n",
      "800:\tlearn: 12914.7111954\ttotal: 3m 35s\tremaining: 53.5s\n",
      "999:\tlearn: 11703.3931996\ttotal: 4m 31s\tremaining: 0us\n",
      "[CV] END bootstrap_type=Bernoulli, depth=4, iterations=1000, subsample=0.7; total time= 4.6min\n"
     ]
    },
    {
     "name": "stderr",
     "output_type": "stream",
     "text": [
      "Warning: less than 75% gpu memory available for training. Free: 28688.1875 Total: 48676.75\n",
      "Warning: less than 75% gpu memory available for training. Free: 31128.0625 Total: 48676.75\n",
      "Warning: less than 75% gpu memory available for training. Free: 34145.125 Total: 48676.75\n",
      "Warning: less than 75% gpu memory available for training. Free: 34017.125 Total: 48676.75\n",
      "Warning: less than 75% gpu memory available for training. Free: 28889.125 Total: 48676.75\n"
     ]
    },
    {
     "name": "stdout",
     "output_type": "stream",
     "text": [
      "Learning rate set to 0.041224\n",
      "0:\tlearn: 78533.3183270\ttotal: 218ms\tremaining: 3m 37s\n",
      "200:\tlearn: 20078.2233564\ttotal: 52.2s\tremaining: 3m 27s\n",
      "400:\tlearn: 15922.3170614\ttotal: 1m 42s\tremaining: 2m 32s\n",
      "600:\tlearn: 13888.5610644\ttotal: 2m 37s\tremaining: 1m 44s\n",
      "800:\tlearn: 12259.7037216\ttotal: 3m 33s\tremaining: 53s\n",
      "999:\tlearn: 10974.5985766\ttotal: 4m 27s\tremaining: 0us\n",
      "[CV] END bootstrap_type=Bernoulli, depth=4, iterations=1000, subsample=0.8; total time= 4.5min\n"
     ]
    },
    {
     "name": "stderr",
     "output_type": "stream",
     "text": [
      "Warning: less than 75% gpu memory available for training. Free: 28688.1875 Total: 48676.75\n",
      "Warning: less than 75% gpu memory available for training. Free: 31128.0625 Total: 48676.75\n",
      "Warning: less than 75% gpu memory available for training. Free: 34145.125 Total: 48676.75\n",
      "Warning: less than 75% gpu memory available for training. Free: 34017.125 Total: 48676.75\n",
      "Warning: less than 75% gpu memory available for training. Free: 28889.125 Total: 48676.75\n"
     ]
    },
    {
     "name": "stdout",
     "output_type": "stream",
     "text": [
      "Learning rate set to 0.041224\n",
      "0:\tlearn: 77121.8767236\ttotal: 215ms\tremaining: 3m 34s\n",
      "200:\tlearn: 19492.8907645\ttotal: 51.7s\tremaining: 3m 25s\n",
      "400:\tlearn: 16271.1266047\ttotal: 1m 43s\tremaining: 2m 34s\n",
      "600:\tlearn: 14479.3663072\ttotal: 2m 38s\tremaining: 1m 45s\n",
      "800:\tlearn: 12966.0484448\ttotal: 3m 35s\tremaining: 53.5s\n",
      "999:\tlearn: 11679.7736139\ttotal: 4m 30s\tremaining: 0us\n",
      "[CV] END bootstrap_type=Bernoulli, depth=4, iterations=1000, subsample=0.8; total time= 4.6min\n"
     ]
    },
    {
     "name": "stderr",
     "output_type": "stream",
     "text": [
      "Warning: less than 75% gpu memory available for training. Free: 28688.1875 Total: 48676.75\n",
      "Warning: less than 75% gpu memory available for training. Free: 31126.0625 Total: 48676.75\n",
      "Warning: less than 75% gpu memory available for training. Free: 34145.125 Total: 48676.75\n",
      "Warning: less than 75% gpu memory available for training. Free: 34017.125 Total: 48676.75\n",
      "Warning: less than 75% gpu memory available for training. Free: 28889.125 Total: 48676.75\n"
     ]
    },
    {
     "name": "stdout",
     "output_type": "stream",
     "text": [
      "Learning rate set to 0.041224\n",
      "0:\tlearn: 75418.8875003\ttotal: 215ms\tremaining: 3m 35s\n",
      "200:\tlearn: 19986.7463811\ttotal: 50.7s\tremaining: 3m 21s\n",
      "400:\tlearn: 15847.2259151\ttotal: 1m 39s\tremaining: 2m 29s\n",
      "600:\tlearn: 13508.8558432\ttotal: 2m 32s\tremaining: 1m 41s\n",
      "800:\tlearn: 11903.7325055\ttotal: 3m 26s\tremaining: 51.3s\n",
      "999:\tlearn: 10667.1636779\ttotal: 4m 21s\tremaining: 0us\n",
      "[CV] END bootstrap_type=Bernoulli, depth=4, iterations=1000, subsample=0.8; total time= 4.4min\n"
     ]
    },
    {
     "name": "stderr",
     "output_type": "stream",
     "text": [
      "Warning: less than 75% gpu memory available for training. Free: 28688.1875 Total: 48676.75\n",
      "Warning: less than 75% gpu memory available for training. Free: 31126.0625 Total: 48676.75\n",
      "Warning: less than 75% gpu memory available for training. Free: 34145.125 Total: 48676.75\n",
      "Warning: less than 75% gpu memory available for training. Free: 34017.125 Total: 48676.75\n",
      "Warning: less than 75% gpu memory available for training. Free: 28889.125 Total: 48676.75\n"
     ]
    },
    {
     "name": "stdout",
     "output_type": "stream",
     "text": [
      "Learning rate set to 0.041224\n",
      "0:\tlearn: 79159.9961403\ttotal: 220ms\tremaining: 3m 39s\n",
      "200:\tlearn: 20920.1624133\ttotal: 52.6s\tremaining: 3m 29s\n",
      "400:\tlearn: 16945.5719451\ttotal: 1m 44s\tremaining: 2m 35s\n",
      "600:\tlearn: 14848.0571562\ttotal: 2m 40s\tremaining: 1m 46s\n",
      "800:\tlearn: 13276.3352593\ttotal: 3m 35s\tremaining: 53.5s\n",
      "999:\tlearn: 11986.1651024\ttotal: 4m 31s\tremaining: 0us\n",
      "[CV] END bootstrap_type=Bernoulli, depth=4, iterations=1000, subsample=0.8; total time= 4.6min\n"
     ]
    },
    {
     "name": "stderr",
     "output_type": "stream",
     "text": [
      "Warning: less than 75% gpu memory available for training. Free: 28688.1875 Total: 48676.75\n",
      "Warning: less than 75% gpu memory available for training. Free: 31126.0625 Total: 48676.75\n",
      "Warning: less than 75% gpu memory available for training. Free: 34145.125 Total: 48676.75\n",
      "Warning: less than 75% gpu memory available for training. Free: 34017.125 Total: 48676.75\n",
      "Warning: less than 75% gpu memory available for training. Free: 28889.125 Total: 48676.75\n"
     ]
    },
    {
     "name": "stdout",
     "output_type": "stream",
     "text": [
      "Learning rate set to 0.041224\n",
      "0:\tlearn: 76759.0904741\ttotal: 217ms\tremaining: 3m 36s\n",
      "200:\tlearn: 20014.7019716\ttotal: 52.4s\tremaining: 3m 28s\n",
      "400:\tlearn: 16256.0828387\ttotal: 1m 43s\tremaining: 2m 34s\n",
      "600:\tlearn: 14180.8097224\ttotal: 2m 38s\tremaining: 1m 45s\n",
      "800:\tlearn: 12674.5457523\ttotal: 3m 36s\tremaining: 53.7s\n",
      "999:\tlearn: 11503.3541839\ttotal: 4m 32s\tremaining: 0us\n",
      "[CV] END bootstrap_type=Bernoulli, depth=4, iterations=1000, subsample=0.8; total time= 4.6min\n"
     ]
    },
    {
     "name": "stderr",
     "output_type": "stream",
     "text": [
      "Warning: less than 75% gpu memory available for training. Free: 28688.1875 Total: 48676.75\n",
      "Warning: less than 75% gpu memory available for training. Free: 31126.0625 Total: 48676.75\n",
      "Warning: less than 75% gpu memory available for training. Free: 34145.125 Total: 48676.75\n",
      "Warning: less than 75% gpu memory available for training. Free: 34017.125 Total: 48676.75\n",
      "Warning: less than 75% gpu memory available for training. Free: 28889.125 Total: 48676.75\n"
     ]
    },
    {
     "name": "stdout",
     "output_type": "stream",
     "text": [
      "Learning rate set to 0.162985\n",
      "0:\tlearn: 72055.8475157\ttotal: 869ms\tremaining: 1m 26s\n",
      "99:\tlearn: 15872.0583295\ttotal: 1m 24s\tremaining: 0us\n",
      "[CV] END bootstrap_type=Bernoulli, depth=6, iterations=100, subsample=0.4; total time= 1.5min\n"
     ]
    },
    {
     "name": "stderr",
     "output_type": "stream",
     "text": [
      "Warning: less than 75% gpu memory available for training. Free: 28688.1875 Total: 48676.75\n",
      "Warning: less than 75% gpu memory available for training. Free: 31126.0625 Total: 48676.75\n",
      "Warning: less than 75% gpu memory available for training. Free: 34145.125 Total: 48676.75\n",
      "Warning: less than 75% gpu memory available for training. Free: 34017.125 Total: 48676.75\n",
      "Warning: less than 75% gpu memory available for training. Free: 28889.125 Total: 48676.75\n"
     ]
    },
    {
     "name": "stdout",
     "output_type": "stream",
     "text": [
      "Learning rate set to 0.162985\n",
      "0:\tlearn: 70775.8396049\ttotal: 873ms\tremaining: 1m 26s\n",
      "99:\tlearn: 15575.9171185\ttotal: 1m 27s\tremaining: 0us\n",
      "[CV] END bootstrap_type=Bernoulli, depth=6, iterations=100, subsample=0.4; total time= 1.5min\n"
     ]
    },
    {
     "name": "stderr",
     "output_type": "stream",
     "text": [
      "Warning: less than 75% gpu memory available for training. Free: 28688.1875 Total: 48676.75\n",
      "Warning: less than 75% gpu memory available for training. Free: 31126.0625 Total: 48676.75\n",
      "Warning: less than 75% gpu memory available for training. Free: 34145.125 Total: 48676.75\n",
      "Warning: less than 75% gpu memory available for training. Free: 34017.125 Total: 48676.75\n",
      "Warning: less than 75% gpu memory available for training. Free: 28889.125 Total: 48676.75\n"
     ]
    },
    {
     "name": "stdout",
     "output_type": "stream",
     "text": [
      "Learning rate set to 0.162985\n",
      "0:\tlearn: 69038.3395854\ttotal: 873ms\tremaining: 1m 26s\n",
      "99:\tlearn: 14022.3582251\ttotal: 1m 27s\tremaining: 0us\n",
      "[CV] END bootstrap_type=Bernoulli, depth=6, iterations=100, subsample=0.4; total time= 1.5min\n"
     ]
    },
    {
     "name": "stderr",
     "output_type": "stream",
     "text": [
      "Warning: less than 75% gpu memory available for training. Free: 28688.1875 Total: 48676.75\n",
      "Warning: less than 75% gpu memory available for training. Free: 31126.0625 Total: 48676.75\n",
      "Warning: less than 75% gpu memory available for training. Free: 34145.125 Total: 48676.75\n",
      "Warning: less than 75% gpu memory available for training. Free: 34017.125 Total: 48676.75\n",
      "Warning: less than 75% gpu memory available for training. Free: 28889.125 Total: 48676.75\n"
     ]
    },
    {
     "name": "stdout",
     "output_type": "stream",
     "text": [
      "Learning rate set to 0.162985\n",
      "0:\tlearn: 72317.9594815\ttotal: 879ms\tremaining: 1m 27s\n",
      "99:\tlearn: 15935.8274733\ttotal: 1m 26s\tremaining: 0us\n",
      "[CV] END bootstrap_type=Bernoulli, depth=6, iterations=100, subsample=0.4; total time= 1.5min\n"
     ]
    },
    {
     "name": "stderr",
     "output_type": "stream",
     "text": [
      "Warning: less than 75% gpu memory available for training. Free: 28688.1875 Total: 48676.75\n",
      "Warning: less than 75% gpu memory available for training. Free: 31126.0625 Total: 48676.75\n",
      "Warning: less than 75% gpu memory available for training. Free: 34145.125 Total: 48676.75\n",
      "Warning: less than 75% gpu memory available for training. Free: 34017.125 Total: 48676.75\n",
      "Warning: less than 75% gpu memory available for training. Free: 28889.125 Total: 48676.75\n"
     ]
    },
    {
     "name": "stdout",
     "output_type": "stream",
     "text": [
      "Learning rate set to 0.162985\n",
      "0:\tlearn: 69643.4575586\ttotal: 946ms\tremaining: 1m 33s\n",
      "99:\tlearn: 16030.3825504\ttotal: 1m 29s\tremaining: 0us\n",
      "[CV] END bootstrap_type=Bernoulli, depth=6, iterations=100, subsample=0.4; total time= 1.6min\n"
     ]
    },
    {
     "name": "stderr",
     "output_type": "stream",
     "text": [
      "Warning: less than 75% gpu memory available for training. Free: 28688.1875 Total: 48676.75\n",
      "Warning: less than 75% gpu memory available for training. Free: 31126.0625 Total: 48676.75\n",
      "Warning: less than 75% gpu memory available for training. Free: 34145.125 Total: 48676.75\n",
      "Warning: less than 75% gpu memory available for training. Free: 34017.125 Total: 48676.75\n",
      "Warning: less than 75% gpu memory available for training. Free: 28889.125 Total: 48676.75\n"
     ]
    },
    {
     "name": "stdout",
     "output_type": "stream",
     "text": [
      "Learning rate set to 0.162985\n",
      "0:\tlearn: 72139.2349675\ttotal: 856ms\tremaining: 1m 24s\n",
      "99:\tlearn: 14574.0095779\ttotal: 1m 23s\tremaining: 0us\n",
      "[CV] END bootstrap_type=Bernoulli, depth=6, iterations=100, subsample=0.5; total time= 1.5min\n"
     ]
    },
    {
     "name": "stderr",
     "output_type": "stream",
     "text": [
      "Warning: less than 75% gpu memory available for training. Free: 28688.1875 Total: 48676.75\n",
      "Warning: less than 75% gpu memory available for training. Free: 31126.0625 Total: 48676.75\n",
      "Warning: less than 75% gpu memory available for training. Free: 34145.125 Total: 48676.75\n",
      "Warning: less than 75% gpu memory available for training. Free: 34017.125 Total: 48676.75\n",
      "Warning: less than 75% gpu memory available for training. Free: 28889.125 Total: 48676.75\n"
     ]
    },
    {
     "name": "stdout",
     "output_type": "stream",
     "text": [
      "Learning rate set to 0.162985\n",
      "0:\tlearn: 70467.8025674\ttotal: 890ms\tremaining: 1m 28s\n",
      "99:\tlearn: 14652.9350148\ttotal: 1m 27s\tremaining: 0us\n",
      "[CV] END bootstrap_type=Bernoulli, depth=6, iterations=100, subsample=0.5; total time= 1.5min\n"
     ]
    },
    {
     "name": "stderr",
     "output_type": "stream",
     "text": [
      "Warning: less than 75% gpu memory available for training. Free: 28690.1875 Total: 48676.75\n",
      "Warning: less than 75% gpu memory available for training. Free: 31126.0625 Total: 48676.75\n",
      "Warning: less than 75% gpu memory available for training. Free: 34145.125 Total: 48676.75\n",
      "Warning: less than 75% gpu memory available for training. Free: 34017.125 Total: 48676.75\n",
      "Warning: less than 75% gpu memory available for training. Free: 28889.125 Total: 48676.75\n"
     ]
    },
    {
     "name": "stdout",
     "output_type": "stream",
     "text": [
      "Learning rate set to 0.162985\n",
      "0:\tlearn: 69038.3395854\ttotal: 812ms\tremaining: 1m 20s\n",
      "99:\tlearn: 13909.8990276\ttotal: 1m 27s\tremaining: 0us\n",
      "[CV] END bootstrap_type=Bernoulli, depth=6, iterations=100, subsample=0.5; total time= 1.5min\n"
     ]
    },
    {
     "name": "stderr",
     "output_type": "stream",
     "text": [
      "Warning: less than 75% gpu memory available for training. Free: 28690.1875 Total: 48676.75\n",
      "Warning: less than 75% gpu memory available for training. Free: 31126.0625 Total: 48676.75\n",
      "Warning: less than 75% gpu memory available for training. Free: 34145.125 Total: 48676.75\n",
      "Warning: less than 75% gpu memory available for training. Free: 34017.125 Total: 48676.75\n",
      "Warning: less than 75% gpu memory available for training. Free: 28889.125 Total: 48676.75\n"
     ]
    },
    {
     "name": "stdout",
     "output_type": "stream",
     "text": [
      "Learning rate set to 0.162985\n",
      "0:\tlearn: 72192.2673657\ttotal: 877ms\tremaining: 1m 26s\n",
      "99:\tlearn: 14700.8533011\ttotal: 1m 26s\tremaining: 0us\n",
      "[CV] END bootstrap_type=Bernoulli, depth=6, iterations=100, subsample=0.5; total time= 1.5min\n"
     ]
    },
    {
     "name": "stderr",
     "output_type": "stream",
     "text": [
      "Warning: less than 75% gpu memory available for training. Free: 28688.1875 Total: 48676.75\n",
      "Warning: less than 75% gpu memory available for training. Free: 31128.0625 Total: 48676.75\n",
      "Warning: less than 75% gpu memory available for training. Free: 34145.125 Total: 48676.75\n",
      "Warning: less than 75% gpu memory available for training. Free: 34017.125 Total: 48676.75\n",
      "Warning: less than 75% gpu memory available for training. Free: 28889.125 Total: 48676.75\n"
     ]
    },
    {
     "name": "stdout",
     "output_type": "stream",
     "text": [
      "Learning rate set to 0.162985\n",
      "0:\tlearn: 70292.0497385\ttotal: 915ms\tremaining: 1m 30s\n",
      "99:\tlearn: 14350.8421212\ttotal: 1m 29s\tremaining: 0us\n",
      "[CV] END bootstrap_type=Bernoulli, depth=6, iterations=100, subsample=0.5; total time= 1.6min\n"
     ]
    },
    {
     "name": "stderr",
     "output_type": "stream",
     "text": [
      "Warning: less than 75% gpu memory available for training. Free: 28688.1875 Total: 48676.75\n",
      "Warning: less than 75% gpu memory available for training. Free: 31126.0625 Total: 48676.75\n",
      "Warning: less than 75% gpu memory available for training. Free: 34145.125 Total: 48676.75\n",
      "Warning: less than 75% gpu memory available for training. Free: 34017.125 Total: 48676.75\n",
      "Warning: less than 75% gpu memory available for training. Free: 28889.125 Total: 48676.75\n"
     ]
    },
    {
     "name": "stdout",
     "output_type": "stream",
     "text": [
      "Learning rate set to 0.162985\n",
      "0:\tlearn: 71876.8053627\ttotal: 837ms\tremaining: 1m 22s\n",
      "99:\tlearn: 13302.8519674\ttotal: 1m 24s\tremaining: 0us\n",
      "[CV] END bootstrap_type=Bernoulli, depth=6, iterations=100, subsample=0.6; total time= 1.5min\n"
     ]
    },
    {
     "name": "stderr",
     "output_type": "stream",
     "text": [
      "Warning: less than 75% gpu memory available for training. Free: 28688.1875 Total: 48676.75\n",
      "Warning: less than 75% gpu memory available for training. Free: 31126.0625 Total: 48676.75\n",
      "Warning: less than 75% gpu memory available for training. Free: 34145.125 Total: 48676.75\n",
      "Warning: less than 75% gpu memory available for training. Free: 34017.125 Total: 48676.75\n",
      "Warning: less than 75% gpu memory available for training. Free: 28889.125 Total: 48676.75\n"
     ]
    },
    {
     "name": "stdout",
     "output_type": "stream",
     "text": [
      "Learning rate set to 0.162985\n",
      "0:\tlearn: 70468.8695268\ttotal: 907ms\tremaining: 1m 29s\n",
      "99:\tlearn: 14347.8991713\ttotal: 1m 27s\tremaining: 0us\n",
      "[CV] END bootstrap_type=Bernoulli, depth=6, iterations=100, subsample=0.6; total time= 1.5min\n"
     ]
    },
    {
     "name": "stderr",
     "output_type": "stream",
     "text": [
      "Warning: less than 75% gpu memory available for training. Free: 28688.1875 Total: 48676.75\n",
      "Warning: less than 75% gpu memory available for training. Free: 31128.0625 Total: 48676.75\n",
      "Warning: less than 75% gpu memory available for training. Free: 34145.125 Total: 48676.75\n",
      "Warning: less than 75% gpu memory available for training. Free: 34017.125 Total: 48676.75\n",
      "Warning: less than 75% gpu memory available for training. Free: 28889.125 Total: 48676.75\n"
     ]
    },
    {
     "name": "stdout",
     "output_type": "stream",
     "text": [
      "Learning rate set to 0.162985\n",
      "0:\tlearn: 68940.7168539\ttotal: 881ms\tremaining: 1m 27s\n",
      "99:\tlearn: 13760.8155222\ttotal: 1m 27s\tremaining: 0us\n",
      "[CV] END bootstrap_type=Bernoulli, depth=6, iterations=100, subsample=0.6; total time= 1.6min\n"
     ]
    },
    {
     "name": "stderr",
     "output_type": "stream",
     "text": [
      "Warning: less than 75% gpu memory available for training. Free: 28688.1875 Total: 48676.75\n",
      "Warning: less than 75% gpu memory available for training. Free: 31126.0625 Total: 48676.75\n",
      "Warning: less than 75% gpu memory available for training. Free: 34145.125 Total: 48676.75\n",
      "Warning: less than 75% gpu memory available for training. Free: 34017.125 Total: 48676.75\n",
      "Warning: less than 75% gpu memory available for training. Free: 28889.125 Total: 48676.75\n"
     ]
    },
    {
     "name": "stdout",
     "output_type": "stream",
     "text": [
      "Learning rate set to 0.162985\n",
      "0:\tlearn: 72607.3986826\ttotal: 876ms\tremaining: 1m 26s\n",
      "99:\tlearn: 14599.2613512\ttotal: 1m 26s\tremaining: 0us\n",
      "[CV] END bootstrap_type=Bernoulli, depth=6, iterations=100, subsample=0.6; total time= 1.5min\n"
     ]
    },
    {
     "name": "stderr",
     "output_type": "stream",
     "text": [
      "Warning: less than 75% gpu memory available for training. Free: 28688.1875 Total: 48676.75\n",
      "Warning: less than 75% gpu memory available for training. Free: 31128.0625 Total: 48676.75\n",
      "Warning: less than 75% gpu memory available for training. Free: 34145.125 Total: 48676.75\n",
      "Warning: less than 75% gpu memory available for training. Free: 34017.125 Total: 48676.75\n",
      "Warning: less than 75% gpu memory available for training. Free: 28889.125 Total: 48676.75\n"
     ]
    },
    {
     "name": "stdout",
     "output_type": "stream",
     "text": [
      "Learning rate set to 0.162985\n",
      "0:\tlearn: 69953.1353854\ttotal: 936ms\tremaining: 1m 32s\n",
      "99:\tlearn: 14475.8608176\ttotal: 1m 30s\tremaining: 0us\n",
      "[CV] END bootstrap_type=Bernoulli, depth=6, iterations=100, subsample=0.6; total time= 1.6min\n"
     ]
    },
    {
     "name": "stderr",
     "output_type": "stream",
     "text": [
      "Warning: less than 75% gpu memory available for training. Free: 28688.1875 Total: 48676.75\n",
      "Warning: less than 75% gpu memory available for training. Free: 31126.0625 Total: 48676.75\n",
      "Warning: less than 75% gpu memory available for training. Free: 34145.125 Total: 48676.75\n",
      "Warning: less than 75% gpu memory available for training. Free: 34017.125 Total: 48676.75\n",
      "Warning: less than 75% gpu memory available for training. Free: 28889.125 Total: 48676.75\n"
     ]
    },
    {
     "name": "stdout",
     "output_type": "stream",
     "text": [
      "Learning rate set to 0.162985\n",
      "0:\tlearn: 71846.1979326\ttotal: 871ms\tremaining: 1m 26s\n",
      "99:\tlearn: 13415.9142301\ttotal: 1m 24s\tremaining: 0us\n",
      "[CV] END bootstrap_type=Bernoulli, depth=6, iterations=100, subsample=0.7; total time= 1.5min\n"
     ]
    },
    {
     "name": "stderr",
     "output_type": "stream",
     "text": [
      "Warning: less than 75% gpu memory available for training. Free: 28688.1875 Total: 48676.75\n",
      "Warning: less than 75% gpu memory available for training. Free: 31128.0625 Total: 48676.75\n",
      "Warning: less than 75% gpu memory available for training. Free: 34145.125 Total: 48676.75\n",
      "Warning: less than 75% gpu memory available for training. Free: 34017.125 Total: 48676.75\n",
      "Warning: less than 75% gpu memory available for training. Free: 28889.125 Total: 48676.75\n"
     ]
    },
    {
     "name": "stdout",
     "output_type": "stream",
     "text": [
      "Learning rate set to 0.162985\n",
      "0:\tlearn: 70554.5270949\ttotal: 897ms\tremaining: 1m 28s\n",
      "99:\tlearn: 14165.6493335\ttotal: 1m 28s\tremaining: 0us\n",
      "[CV] END bootstrap_type=Bernoulli, depth=6, iterations=100, subsample=0.7; total time= 1.6min\n"
     ]
    },
    {
     "name": "stderr",
     "output_type": "stream",
     "text": [
      "Warning: less than 75% gpu memory available for training. Free: 28688.1875 Total: 48676.75\n",
      "Warning: less than 75% gpu memory available for training. Free: 31126.0625 Total: 48676.75\n",
      "Warning: less than 75% gpu memory available for training. Free: 34145.125 Total: 48676.75\n",
      "Warning: less than 75% gpu memory available for training. Free: 34017.125 Total: 48676.75\n",
      "Warning: less than 75% gpu memory available for training. Free: 28889.125 Total: 48676.75\n"
     ]
    },
    {
     "name": "stdout",
     "output_type": "stream",
     "text": [
      "Learning rate set to 0.162985\n",
      "0:\tlearn: 69286.3880632\ttotal: 890ms\tremaining: 1m 28s\n",
      "99:\tlearn: 12294.4446570\ttotal: 1m 27s\tremaining: 0us\n",
      "[CV] END bootstrap_type=Bernoulli, depth=6, iterations=100, subsample=0.7; total time= 1.5min\n"
     ]
    },
    {
     "name": "stderr",
     "output_type": "stream",
     "text": [
      "Warning: less than 75% gpu memory available for training. Free: 28688.1875 Total: 48676.75\n",
      "Warning: less than 75% gpu memory available for training. Free: 31126.0625 Total: 48676.75\n",
      "Warning: less than 75% gpu memory available for training. Free: 34145.125 Total: 48676.75\n",
      "Warning: less than 75% gpu memory available for training. Free: 34017.125 Total: 48676.75\n",
      "Warning: less than 75% gpu memory available for training. Free: 28889.125 Total: 48676.75\n"
     ]
    },
    {
     "name": "stdout",
     "output_type": "stream",
     "text": [
      "Learning rate set to 0.162985\n",
      "0:\tlearn: 72640.3611119\ttotal: 877ms\tremaining: 1m 26s\n",
      "99:\tlearn: 13578.3434340\ttotal: 1m 26s\tremaining: 0us\n",
      "[CV] END bootstrap_type=Bernoulli, depth=6, iterations=100, subsample=0.7; total time= 1.5min\n"
     ]
    },
    {
     "name": "stderr",
     "output_type": "stream",
     "text": [
      "Warning: less than 75% gpu memory available for training. Free: 28688.1875 Total: 48676.75\n",
      "Warning: less than 75% gpu memory available for training. Free: 31128.0625 Total: 48676.75\n",
      "Warning: less than 75% gpu memory available for training. Free: 34145.125 Total: 48676.75\n",
      "Warning: less than 75% gpu memory available for training. Free: 34017.125 Total: 48676.75\n",
      "Warning: less than 75% gpu memory available for training. Free: 28889.125 Total: 48676.75\n"
     ]
    },
    {
     "name": "stdout",
     "output_type": "stream",
     "text": [
      "Learning rate set to 0.162985\n",
      "0:\tlearn: 69877.4882957\ttotal: 873ms\tremaining: 1m 26s\n",
      "99:\tlearn: 14121.8173537\ttotal: 1m 29s\tremaining: 0us\n",
      "[CV] END bootstrap_type=Bernoulli, depth=6, iterations=100, subsample=0.7; total time= 1.6min\n"
     ]
    },
    {
     "name": "stderr",
     "output_type": "stream",
     "text": [
      "Warning: less than 75% gpu memory available for training. Free: 28688.1875 Total: 48676.75\n",
      "Warning: less than 75% gpu memory available for training. Free: 31126.0625 Total: 48676.75\n",
      "Warning: less than 75% gpu memory available for training. Free: 34145.125 Total: 48676.75\n",
      "Warning: less than 75% gpu memory available for training. Free: 34017.125 Total: 48676.75\n",
      "Warning: less than 75% gpu memory available for training. Free: 28889.125 Total: 48676.75\n"
     ]
    },
    {
     "name": "stdout",
     "output_type": "stream",
     "text": [
      "Learning rate set to 0.162985\n",
      "0:\tlearn: 71988.4245185\ttotal: 875ms\tremaining: 1m 26s\n",
      "99:\tlearn: 12976.2376885\ttotal: 1m 22s\tremaining: 0us\n",
      "[CV] END bootstrap_type=Bernoulli, depth=6, iterations=100, subsample=0.8; total time= 1.5min\n"
     ]
    },
    {
     "name": "stderr",
     "output_type": "stream",
     "text": [
      "Warning: less than 75% gpu memory available for training. Free: 28688.1875 Total: 48676.75\n",
      "Warning: less than 75% gpu memory available for training. Free: 31126.0625 Total: 48676.75\n",
      "Warning: less than 75% gpu memory available for training. Free: 34514.0625 Total: 48676.75\n",
      "Warning: less than 75% gpu memory available for training. Free: 34017.125 Total: 48676.75\n",
      "Warning: less than 75% gpu memory available for training. Free: 28889.125 Total: 48676.75\n"
     ]
    },
    {
     "name": "stdout",
     "output_type": "stream",
     "text": [
      "Learning rate set to 0.162985\n",
      "0:\tlearn: 70347.8561561\ttotal: 868ms\tremaining: 1m 25s\n",
      "99:\tlearn: 13471.9515829\ttotal: 1m 26s\tremaining: 0us\n",
      "[CV] END bootstrap_type=Bernoulli, depth=6, iterations=100, subsample=0.8; total time= 1.5min\n"
     ]
    },
    {
     "name": "stderr",
     "output_type": "stream",
     "text": [
      "Warning: less than 75% gpu memory available for training. Free: 28688.1875 Total: 48676.75\n",
      "Warning: less than 75% gpu memory available for training. Free: 31128.0625 Total: 48676.75\n",
      "Warning: less than 75% gpu memory available for training. Free: 34514.0625 Total: 48676.75\n",
      "Warning: less than 75% gpu memory available for training. Free: 34017.125 Total: 48676.75\n",
      "Warning: less than 75% gpu memory available for training. Free: 28889.125 Total: 48676.75\n"
     ]
    },
    {
     "name": "stdout",
     "output_type": "stream",
     "text": [
      "Learning rate set to 0.162985\n",
      "0:\tlearn: 69113.6938777\ttotal: 870ms\tremaining: 1m 26s\n",
      "99:\tlearn: 12533.5343538\ttotal: 1m 24s\tremaining: 0us\n",
      "[CV] END bootstrap_type=Bernoulli, depth=6, iterations=100, subsample=0.8; total time= 1.5min\n"
     ]
    },
    {
     "name": "stderr",
     "output_type": "stream",
     "text": [
      "Warning: less than 75% gpu memory available for training. Free: 28688.1875 Total: 48676.75\n",
      "Warning: less than 75% gpu memory available for training. Free: 31126.0625 Total: 48676.75\n",
      "Warning: less than 75% gpu memory available for training. Free: 34514.0625 Total: 48676.75\n",
      "Warning: less than 75% gpu memory available for training. Free: 34386.0625 Total: 48676.75\n",
      "Warning: less than 75% gpu memory available for training. Free: 28889.125 Total: 48676.75\n"
     ]
    },
    {
     "name": "stdout",
     "output_type": "stream",
     "text": [
      "Learning rate set to 0.162985\n",
      "0:\tlearn: 72028.6316283\ttotal: 850ms\tremaining: 1m 24s\n",
      "99:\tlearn: 13777.2502257\ttotal: 1m 22s\tremaining: 0us\n",
      "[CV] END bootstrap_type=Bernoulli, depth=6, iterations=100, subsample=0.8; total time= 1.5min\n"
     ]
    },
    {
     "name": "stderr",
     "output_type": "stream",
     "text": [
      "Warning: less than 75% gpu memory available for training. Free: 28688.1875 Total: 48676.75\n",
      "Warning: less than 75% gpu memory available for training. Free: 31126.0625 Total: 48676.75\n",
      "Warning: less than 75% gpu memory available for training. Free: 34514.0625 Total: 48676.75\n",
      "Warning: less than 75% gpu memory available for training. Free: 34386.0625 Total: 48676.75\n",
      "Warning: less than 75% gpu memory available for training. Free: 28889.125 Total: 48676.75\n"
     ]
    },
    {
     "name": "stdout",
     "output_type": "stream",
     "text": [
      "Learning rate set to 0.162985\n",
      "0:\tlearn: 69838.6265458\ttotal: 826ms\tremaining: 1m 21s\n",
      "99:\tlearn: 13303.8589437\ttotal: 1m 26s\tremaining: 0us\n",
      "[CV] END bootstrap_type=Bernoulli, depth=6, iterations=100, subsample=0.8; total time= 1.5min\n"
     ]
    },
    {
     "name": "stderr",
     "output_type": "stream",
     "text": [
      "Warning: less than 75% gpu memory available for training. Free: 28688.1875 Total: 48676.75\n",
      "Warning: less than 75% gpu memory available for training. Free: 31128.0625 Total: 48676.75\n",
      "Warning: less than 75% gpu memory available for training. Free: 34514.0625 Total: 48676.75\n",
      "Warning: less than 75% gpu memory available for training. Free: 34386.0625 Total: 48676.75\n",
      "Warning: less than 75% gpu memory available for training. Free: 28889.125 Total: 48676.75\n"
     ]
    },
    {
     "name": "stdout",
     "output_type": "stream",
     "text": [
      "Learning rate set to 0.062354\n",
      "0:\tlearn: 77452.9061588\ttotal: 338ms\tremaining: 2m 48s\n",
      "200:\tlearn: 16748.5538186\ttotal: 1m 19s\tremaining: 1m 58s\n",
      "400:\tlearn: 11660.8443408\ttotal: 2m 33s\tremaining: 37.8s\n",
      "499:\tlearn: 10048.2990968\ttotal: 3m 11s\tremaining: 0us\n",
      "[CV] END bootstrap_type=Bernoulli, depth=6, iterations=500, subsample=0.4; total time= 3.2min\n"
     ]
    },
    {
     "name": "stderr",
     "output_type": "stream",
     "text": [
      "Warning: less than 75% gpu memory available for training. Free: 28688.1875 Total: 48676.75\n",
      "Warning: less than 75% gpu memory available for training. Free: 31126.0625 Total: 48676.75\n",
      "Warning: less than 75% gpu memory available for training. Free: 34514.0625 Total: 48676.75\n",
      "Warning: less than 75% gpu memory available for training. Free: 34386.0625 Total: 48676.75\n",
      "Warning: less than 75% gpu memory available for training. Free: 28889.125 Total: 48676.75\n"
     ]
    },
    {
     "name": "stdout",
     "output_type": "stream",
     "text": [
      "Learning rate set to 0.062354\n",
      "0:\tlearn: 75759.1836209\ttotal: 403ms\tremaining: 3m 20s\n",
      "200:\tlearn: 16650.6579145\ttotal: 1m 20s\tremaining: 1m 59s\n",
      "400:\tlearn: 11848.2885464\ttotal: 2m 34s\tremaining: 38.2s\n",
      "499:\tlearn: 10202.6820003\ttotal: 3m 12s\tremaining: 0us\n",
      "[CV] END bootstrap_type=Bernoulli, depth=6, iterations=500, subsample=0.4; total time= 3.3min\n"
     ]
    },
    {
     "name": "stderr",
     "output_type": "stream",
     "text": [
      "Warning: less than 75% gpu memory available for training. Free: 28688.1875 Total: 48676.75\n",
      "Warning: less than 75% gpu memory available for training. Free: 31126.0625 Total: 48676.75\n",
      "Warning: less than 75% gpu memory available for training. Free: 34514.0625 Total: 48676.75\n",
      "Warning: less than 75% gpu memory available for training. Free: 34386.0625 Total: 48676.75\n",
      "Warning: less than 75% gpu memory available for training. Free: 28889.125 Total: 48676.75\n"
     ]
    },
    {
     "name": "stdout",
     "output_type": "stream",
     "text": [
      "Learning rate set to 0.062354\n",
      "0:\tlearn: 74305.6427791\ttotal: 462ms\tremaining: 3m 50s\n",
      "200:\tlearn: 16376.3175482\ttotal: 1m 17s\tremaining: 1m 55s\n",
      "400:\tlearn: 11278.4782419\ttotal: 2m 29s\tremaining: 36.9s\n",
      "499:\tlearn: 9635.7718915\ttotal: 3m 5s\tremaining: 0us\n",
      "[CV] END bootstrap_type=Bernoulli, depth=6, iterations=500, subsample=0.4; total time= 3.1min\n"
     ]
    },
    {
     "name": "stderr",
     "output_type": "stream",
     "text": [
      "Warning: less than 75% gpu memory available for training. Free: 28688.1875 Total: 48676.75\n",
      "Warning: less than 75% gpu memory available for training. Free: 31128.0625 Total: 48676.75\n",
      "Warning: less than 75% gpu memory available for training. Free: 34514.0625 Total: 48676.75\n",
      "Warning: less than 75% gpu memory available for training. Free: 34386.0625 Total: 48676.75\n",
      "Warning: less than 75% gpu memory available for training. Free: 28889.125 Total: 48676.75\n"
     ]
    },
    {
     "name": "stdout",
     "output_type": "stream",
     "text": [
      "Learning rate set to 0.062354\n",
      "0:\tlearn: 78195.4911414\ttotal: 459ms\tremaining: 3m 48s\n",
      "200:\tlearn: 17126.9446931\ttotal: 1m 20s\tremaining: 2m\n",
      "400:\tlearn: 12333.7936659\ttotal: 2m 36s\tremaining: 38.7s\n",
      "499:\tlearn: 10682.9984196\ttotal: 3m 14s\tremaining: 0us\n",
      "[CV] END bootstrap_type=Bernoulli, depth=6, iterations=500, subsample=0.4; total time= 3.3min\n"
     ]
    },
    {
     "name": "stderr",
     "output_type": "stream",
     "text": [
      "Warning: less than 75% gpu memory available for training. Free: 28688.1875 Total: 48676.75\n",
      "Warning: less than 75% gpu memory available for training. Free: 31126.0625 Total: 48676.75\n",
      "Warning: less than 75% gpu memory available for training. Free: 34514.0625 Total: 48676.75\n",
      "Warning: less than 75% gpu memory available for training. Free: 34386.0625 Total: 48676.75\n",
      "Warning: less than 75% gpu memory available for training. Free: 28889.125 Total: 48676.75\n"
     ]
    },
    {
     "name": "stdout",
     "output_type": "stream",
     "text": [
      "Learning rate set to 0.062354\n",
      "0:\tlearn: 75597.1647566\ttotal: 456ms\tremaining: 3m 47s\n",
      "200:\tlearn: 16664.6131981\ttotal: 1m 21s\tremaining: 2m\n",
      "400:\tlearn: 12020.7052787\ttotal: 2m 36s\tremaining: 38.7s\n",
      "499:\tlearn: 10540.1064589\ttotal: 3m 16s\tremaining: 0us\n",
      "[CV] END bootstrap_type=Bernoulli, depth=6, iterations=500, subsample=0.4; total time= 3.3min\n"
     ]
    },
    {
     "name": "stderr",
     "output_type": "stream",
     "text": [
      "Warning: less than 75% gpu memory available for training. Free: 28688.1875 Total: 48676.75\n",
      "Warning: less than 75% gpu memory available for training. Free: 31126.0625 Total: 48676.75\n",
      "Warning: less than 75% gpu memory available for training. Free: 34514.0625 Total: 48676.75\n",
      "Warning: less than 75% gpu memory available for training. Free: 34386.0625 Total: 48676.75\n",
      "Warning: less than 75% gpu memory available for training. Free: 28889.125 Total: 48676.75\n"
     ]
    },
    {
     "name": "stdout",
     "output_type": "stream",
     "text": [
      "Learning rate set to 0.062354\n",
      "0:\tlearn: 77582.1158095\ttotal: 399ms\tremaining: 3m 18s\n",
      "200:\tlearn: 16429.6444671\ttotal: 1m 17s\tremaining: 1m 55s\n",
      "400:\tlearn: 11283.9120390\ttotal: 2m 32s\tremaining: 37.6s\n",
      "499:\tlearn: 9745.6861577\ttotal: 3m 10s\tremaining: 0us\n",
      "[CV] END bootstrap_type=Bernoulli, depth=6, iterations=500, subsample=0.5; total time= 3.2min\n"
     ]
    },
    {
     "name": "stderr",
     "output_type": "stream",
     "text": [
      "Warning: less than 75% gpu memory available for training. Free: 28688.1875 Total: 48676.75\n",
      "Warning: less than 75% gpu memory available for training. Free: 31128.0625 Total: 48676.75\n",
      "Warning: less than 75% gpu memory available for training. Free: 34514.0625 Total: 48676.75\n",
      "Warning: less than 75% gpu memory available for training. Free: 34386.0625 Total: 48676.75\n",
      "Warning: less than 75% gpu memory available for training. Free: 28889.125 Total: 48676.75\n"
     ]
    },
    {
     "name": "stdout",
     "output_type": "stream",
     "text": [
      "Learning rate set to 0.062354\n",
      "0:\tlearn: 75749.8066539\ttotal: 401ms\tremaining: 3m 19s\n",
      "200:\tlearn: 16173.6540174\ttotal: 1m 19s\tremaining: 1m 58s\n",
      "400:\tlearn: 11262.8193653\ttotal: 2m 36s\tremaining: 38.7s\n",
      "499:\tlearn: 9652.2272481\ttotal: 3m 14s\tremaining: 0us\n",
      "[CV] END bootstrap_type=Bernoulli, depth=6, iterations=500, subsample=0.5; total time= 3.3min\n"
     ]
    },
    {
     "name": "stderr",
     "output_type": "stream",
     "text": [
      "Warning: less than 75% gpu memory available for training. Free: 28688.1875 Total: 48676.75\n",
      "Warning: less than 75% gpu memory available for training. Free: 31126.0625 Total: 48676.75\n",
      "Warning: less than 75% gpu memory available for training. Free: 34514.0625 Total: 48676.75\n",
      "Warning: less than 75% gpu memory available for training. Free: 34386.0625 Total: 48676.75\n",
      "Warning: less than 75% gpu memory available for training. Free: 28889.125 Total: 48676.75\n"
     ]
    },
    {
     "name": "stdout",
     "output_type": "stream",
     "text": [
      "Learning rate set to 0.062354\n",
      "0:\tlearn: 74307.7721837\ttotal: 461ms\tremaining: 3m 49s\n",
      "200:\tlearn: 15395.0303741\ttotal: 1m 17s\tremaining: 1m 54s\n",
      "400:\tlearn: 10385.7990294\ttotal: 2m 30s\tremaining: 37.2s\n",
      "499:\tlearn: 8904.1555206\ttotal: 3m 7s\tremaining: 0us\n",
      "[CV] END bootstrap_type=Bernoulli, depth=6, iterations=500, subsample=0.5; total time= 3.2min\n"
     ]
    },
    {
     "name": "stderr",
     "output_type": "stream",
     "text": [
      "Warning: less than 75% gpu memory available for training. Free: 28688.1875 Total: 48676.75\n",
      "Warning: less than 75% gpu memory available for training. Free: 31126.0625 Total: 48676.75\n",
      "Warning: less than 75% gpu memory available for training. Free: 34514.0625 Total: 48676.75\n",
      "Warning: less than 75% gpu memory available for training. Free: 34386.0625 Total: 48676.75\n",
      "Warning: less than 75% gpu memory available for training. Free: 28889.125 Total: 48676.75\n"
     ]
    },
    {
     "name": "stdout",
     "output_type": "stream",
     "text": [
      "Learning rate set to 0.062354\n",
      "0:\tlearn: 77956.9448462\ttotal: 343ms\tremaining: 2m 50s\n",
      "200:\tlearn: 16528.4700698\ttotal: 1m 20s\tremaining: 1m 59s\n",
      "400:\tlearn: 11960.9297114\ttotal: 2m 37s\tremaining: 38.8s\n",
      "499:\tlearn: 10280.5007287\ttotal: 3m 14s\tremaining: 0us\n",
      "[CV] END bootstrap_type=Bernoulli, depth=6, iterations=500, subsample=0.5; total time= 3.3min\n"
     ]
    },
    {
     "name": "stderr",
     "output_type": "stream",
     "text": [
      "Warning: less than 75% gpu memory available for training. Free: 28688.1875 Total: 48676.75\n",
      "Warning: less than 75% gpu memory available for training. Free: 31126.0625 Total: 48676.75\n",
      "Warning: less than 75% gpu memory available for training. Free: 34514.0625 Total: 48676.75\n",
      "Warning: less than 75% gpu memory available for training. Free: 34386.0625 Total: 48676.75\n",
      "Warning: less than 75% gpu memory available for training. Free: 28889.125 Total: 48676.75\n"
     ]
    },
    {
     "name": "stdout",
     "output_type": "stream",
     "text": [
      "Learning rate set to 0.062354\n",
      "0:\tlearn: 75604.3372127\ttotal: 465ms\tremaining: 3m 52s\n",
      "200:\tlearn: 16280.1339566\ttotal: 1m 20s\tremaining: 2m\n",
      "400:\tlearn: 11504.3339445\ttotal: 2m 36s\tremaining: 38.7s\n",
      "499:\tlearn: 9964.4268976\ttotal: 3m 15s\tremaining: 0us\n",
      "[CV] END bootstrap_type=Bernoulli, depth=6, iterations=500, subsample=0.5; total time= 3.3min\n"
     ]
    },
    {
     "name": "stderr",
     "output_type": "stream",
     "text": [
      "Warning: less than 75% gpu memory available for training. Free: 28688.1875 Total: 48676.75\n",
      "Warning: less than 75% gpu memory available for training. Free: 31126.0625 Total: 48676.75\n",
      "Warning: less than 75% gpu memory available for training. Free: 34514.0625 Total: 48676.75\n",
      "Warning: less than 75% gpu memory available for training. Free: 34386.0625 Total: 48676.75\n",
      "Warning: less than 75% gpu memory available for training. Free: 28889.125 Total: 48676.75\n"
     ]
    },
    {
     "name": "stdout",
     "output_type": "stream",
     "text": [
      "Learning rate set to 0.062354\n",
      "0:\tlearn: 77516.5607278\ttotal: 458ms\tremaining: 3m 48s\n",
      "200:\tlearn: 15390.1384686\ttotal: 1m 17s\tremaining: 1m 54s\n",
      "400:\tlearn: 10510.7854431\ttotal: 2m 31s\tremaining: 37.5s\n",
      "499:\tlearn: 8997.5896437\ttotal: 3m 10s\tremaining: 0us\n",
      "[CV] END bootstrap_type=Bernoulli, depth=6, iterations=500, subsample=0.6; total time= 3.2min\n"
     ]
    },
    {
     "name": "stderr",
     "output_type": "stream",
     "text": [
      "Warning: less than 75% gpu memory available for training. Free: 28688.1875 Total: 48676.75\n",
      "Warning: less than 75% gpu memory available for training. Free: 31126.0625 Total: 48676.75\n",
      "Warning: less than 75% gpu memory available for training. Free: 34514.0625 Total: 48676.75\n",
      "Warning: less than 75% gpu memory available for training. Free: 34386.0625 Total: 48676.75\n",
      "Warning: less than 75% gpu memory available for training. Free: 28889.125 Total: 48676.75\n"
     ]
    },
    {
     "name": "stdout",
     "output_type": "stream",
     "text": [
      "Learning rate set to 0.062354\n",
      "0:\tlearn: 75677.6318202\ttotal: 308ms\tremaining: 2m 33s\n",
      "200:\tlearn: 15508.4443352\ttotal: 1m 18s\tremaining: 1m 57s\n",
      "400:\tlearn: 10560.7634427\ttotal: 2m 36s\tremaining: 38.5s\n",
      "499:\tlearn: 9039.2522421\ttotal: 3m 14s\tremaining: 0us\n",
      "[CV] END bootstrap_type=Bernoulli, depth=6, iterations=500, subsample=0.6; total time= 3.3min\n"
     ]
    },
    {
     "name": "stderr",
     "output_type": "stream",
     "text": [
      "Warning: less than 75% gpu memory available for training. Free: 28688.1875 Total: 48676.75\n",
      "Warning: less than 75% gpu memory available for training. Free: 31126.0625 Total: 48676.75\n",
      "Warning: less than 75% gpu memory available for training. Free: 34514.0625 Total: 48676.75\n",
      "Warning: less than 75% gpu memory available for training. Free: 34386.0625 Total: 48676.75\n",
      "Warning: less than 75% gpu memory available for training. Free: 28889.125 Total: 48676.75\n"
     ]
    },
    {
     "name": "stdout",
     "output_type": "stream",
     "text": [
      "Learning rate set to 0.062354\n",
      "0:\tlearn: 74496.7501728\ttotal: 494ms\tremaining: 4m 6s\n",
      "200:\tlearn: 15028.2698646\ttotal: 1m 16s\tremaining: 1m 54s\n",
      "400:\tlearn: 10222.1790133\ttotal: 2m 30s\tremaining: 37.2s\n",
      "499:\tlearn: 8803.2352708\ttotal: 3m 8s\tremaining: 0us\n",
      "[CV] END bootstrap_type=Bernoulli, depth=6, iterations=500, subsample=0.6; total time= 3.2min\n"
     ]
    },
    {
     "name": "stderr",
     "output_type": "stream",
     "text": [
      "Warning: less than 75% gpu memory available for training. Free: 28688.1875 Total: 48676.75\n",
      "Warning: less than 75% gpu memory available for training. Free: 31126.0625 Total: 48676.75\n",
      "Warning: less than 75% gpu memory available for training. Free: 34514.0625 Total: 48676.75\n",
      "Warning: less than 75% gpu memory available for training. Free: 34386.0625 Total: 48676.75\n",
      "Warning: less than 75% gpu memory available for training. Free: 28889.125 Total: 48676.75\n"
     ]
    },
    {
     "name": "stdout",
     "output_type": "stream",
     "text": [
      "Learning rate set to 0.062354\n",
      "0:\tlearn: 78085.8493205\ttotal: 466ms\tremaining: 3m 52s\n",
      "200:\tlearn: 16242.0477284\ttotal: 1m 20s\tremaining: 1m 59s\n",
      "400:\tlearn: 11352.2081709\ttotal: 2m 36s\tremaining: 38.6s\n",
      "499:\tlearn: 9764.1997701\ttotal: 3m 15s\tremaining: 0us\n",
      "[CV] END bootstrap_type=Bernoulli, depth=6, iterations=500, subsample=0.6; total time= 3.3min\n"
     ]
    },
    {
     "name": "stderr",
     "output_type": "stream",
     "text": [
      "Warning: less than 75% gpu memory available for training. Free: 28688.1875 Total: 48676.75\n",
      "Warning: less than 75% gpu memory available for training. Free: 31126.0625 Total: 48676.75\n",
      "Warning: less than 75% gpu memory available for training. Free: 34514.0625 Total: 48676.75\n",
      "Warning: less than 75% gpu memory available for training. Free: 34386.0625 Total: 48676.75\n",
      "Warning: less than 75% gpu memory available for training. Free: 28889.125 Total: 48676.75\n"
     ]
    },
    {
     "name": "stdout",
     "output_type": "stream",
     "text": [
      "Learning rate set to 0.062354\n",
      "0:\tlearn: 75542.4702118\ttotal: 384ms\tremaining: 3m 11s\n",
      "200:\tlearn: 15609.6883719\ttotal: 1m 20s\tremaining: 2m\n",
      "400:\tlearn: 10806.8814606\ttotal: 2m 36s\tremaining: 38.7s\n",
      "499:\tlearn: 9385.4397289\ttotal: 3m 16s\tremaining: 0us\n",
      "[CV] END bootstrap_type=Bernoulli, depth=6, iterations=500, subsample=0.6; total time= 3.3min\n"
     ]
    },
    {
     "name": "stderr",
     "output_type": "stream",
     "text": [
      "Warning: less than 75% gpu memory available for training. Free: 28688.1875 Total: 48676.75\n",
      "Warning: less than 75% gpu memory available for training. Free: 31126.0625 Total: 48676.75\n",
      "Warning: less than 75% gpu memory available for training. Free: 34514.0625 Total: 48676.75\n",
      "Warning: less than 75% gpu memory available for training. Free: 34386.0625 Total: 48676.75\n",
      "Warning: less than 75% gpu memory available for training. Free: 28889.125 Total: 48676.75\n"
     ]
    },
    {
     "name": "stdout",
     "output_type": "stream",
     "text": [
      "Learning rate set to 0.062354\n",
      "0:\tlearn: 77319.7506774\ttotal: 339ms\tremaining: 2m 48s\n",
      "200:\tlearn: 14716.3802577\ttotal: 1m 18s\tremaining: 1m 56s\n",
      "400:\tlearn: 10002.9689839\ttotal: 2m 35s\tremaining: 38.4s\n",
      "499:\tlearn: 8595.1183342\ttotal: 3m 14s\tremaining: 0us\n",
      "[CV] END bootstrap_type=Bernoulli, depth=6, iterations=500, subsample=0.7; total time= 3.3min\n"
     ]
    },
    {
     "name": "stderr",
     "output_type": "stream",
     "text": [
      "Warning: less than 75% gpu memory available for training. Free: 28688.1875 Total: 48676.75\n",
      "Warning: less than 75% gpu memory available for training. Free: 31128.0625 Total: 48676.75\n",
      "Warning: less than 75% gpu memory available for training. Free: 34514.0625 Total: 48676.75\n",
      "Warning: less than 75% gpu memory available for training. Free: 34386.0625 Total: 48676.75\n",
      "Warning: less than 75% gpu memory available for training. Free: 28889.125 Total: 48676.75\n"
     ]
    },
    {
     "name": "stdout",
     "output_type": "stream",
     "text": [
      "Learning rate set to 0.062354\n",
      "0:\tlearn: 75971.0307643\ttotal: 409ms\tremaining: 3m 24s\n",
      "200:\tlearn: 14992.9037022\ttotal: 1m 19s\tremaining: 1m 58s\n",
      "400:\tlearn: 10474.9843064\ttotal: 2m 37s\tremaining: 38.8s\n",
      "499:\tlearn: 8930.8771325\ttotal: 3m 14s\tremaining: 0us\n",
      "[CV] END bootstrap_type=Bernoulli, depth=6, iterations=500, subsample=0.7; total time= 3.3min\n"
     ]
    },
    {
     "name": "stderr",
     "output_type": "stream",
     "text": [
      "Warning: less than 75% gpu memory available for training. Free: 28688.1875 Total: 48676.75\n",
      "Warning: less than 75% gpu memory available for training. Free: 31126.0625 Total: 48676.75\n",
      "Warning: less than 75% gpu memory available for training. Free: 34514.0625 Total: 48676.75\n",
      "Warning: less than 75% gpu memory available for training. Free: 34386.0625 Total: 48676.75\n",
      "Warning: less than 75% gpu memory available for training. Free: 28889.125 Total: 48676.75\n"
     ]
    },
    {
     "name": "stdout",
     "output_type": "stream",
     "text": [
      "Learning rate set to 0.062354\n",
      "0:\tlearn: 74231.1749124\ttotal: 340ms\tremaining: 2m 49s\n",
      "200:\tlearn: 14585.1601369\ttotal: 1m 16s\tremaining: 1m 53s\n",
      "400:\tlearn: 9734.1339709\ttotal: 2m 30s\tremaining: 37.1s\n",
      "499:\tlearn: 8332.4307559\ttotal: 3m 7s\tremaining: 0us\n",
      "[CV] END bootstrap_type=Bernoulli, depth=6, iterations=500, subsample=0.7; total time= 3.2min\n"
     ]
    },
    {
     "name": "stderr",
     "output_type": "stream",
     "text": [
      "Warning: less than 75% gpu memory available for training. Free: 28688.1875 Total: 48676.75\n",
      "Warning: less than 75% gpu memory available for training. Free: 31126.0625 Total: 48676.75\n",
      "Warning: less than 75% gpu memory available for training. Free: 34514.0625 Total: 48676.75\n",
      "Warning: less than 75% gpu memory available for training. Free: 34386.0625 Total: 48676.75\n",
      "Warning: less than 75% gpu memory available for training. Free: 28889.125 Total: 48676.75\n"
     ]
    },
    {
     "name": "stdout",
     "output_type": "stream",
     "text": [
      "Learning rate set to 0.062354\n",
      "0:\tlearn: 78017.2625562\ttotal: 418ms\tremaining: 3m 28s\n",
      "200:\tlearn: 16032.0083121\ttotal: 1m 19s\tremaining: 1m 58s\n",
      "400:\tlearn: 11302.9904250\ttotal: 2m 38s\tremaining: 39s\n",
      "499:\tlearn: 9649.7828835\ttotal: 3m 16s\tremaining: 0us\n",
      "[CV] END bootstrap_type=Bernoulli, depth=6, iterations=500, subsample=0.7; total time= 3.3min\n"
     ]
    },
    {
     "name": "stderr",
     "output_type": "stream",
     "text": [
      "Warning: less than 75% gpu memory available for training. Free: 28688.1875 Total: 48676.75\n",
      "Warning: less than 75% gpu memory available for training. Free: 34514.0625 Total: 48676.75\n",
      "Warning: less than 75% gpu memory available for training. Free: 34386.0625 Total: 48676.75\n",
      "Warning: less than 75% gpu memory available for training. Free: 28889.125 Total: 48676.75\n"
     ]
    },
    {
     "name": "stdout",
     "output_type": "stream",
     "text": [
      "Learning rate set to 0.062354\n",
      "0:\tlearn: 75588.7653492\ttotal: 455ms\tremaining: 3m 46s\n",
      "200:\tlearn: 15186.5780683\ttotal: 1m 17s\tremaining: 1m 55s\n",
      "400:\tlearn: 10699.8126830\ttotal: 2m 34s\tremaining: 38.2s\n",
      "499:\tlearn: 9173.9761058\ttotal: 3m 13s\tremaining: 0us\n",
      "[CV] END bootstrap_type=Bernoulli, depth=6, iterations=500, subsample=0.7; total time= 3.3min\n"
     ]
    },
    {
     "name": "stderr",
     "output_type": "stream",
     "text": [
      "Warning: less than 75% gpu memory available for training. Free: 28688.1875 Total: 48676.75\n",
      "Warning: less than 75% gpu memory available for training. Free: 34514.0625 Total: 48676.75\n",
      "Warning: less than 75% gpu memory available for training. Free: 34386.0625 Total: 48676.75\n",
      "Warning: less than 75% gpu memory available for training. Free: 28889.125 Total: 48676.75\n"
     ]
    },
    {
     "name": "stdout",
     "output_type": "stream",
     "text": [
      "Learning rate set to 0.062354\n",
      "0:\tlearn: 77326.5921093\ttotal: 332ms\tremaining: 2m 45s\n",
      "200:\tlearn: 14150.3314410\ttotal: 1m 15s\tremaining: 1m 52s\n",
      "400:\tlearn: 9748.0672619\ttotal: 2m 32s\tremaining: 37.6s\n",
      "499:\tlearn: 8359.7746840\ttotal: 3m 11s\tremaining: 0us\n",
      "[CV] END bootstrap_type=Bernoulli, depth=6, iterations=500, subsample=0.8; total time= 3.2min\n"
     ]
    },
    {
     "name": "stderr",
     "output_type": "stream",
     "text": [
      "Warning: less than 75% gpu memory available for training. Free: 28688.1875 Total: 48676.75\n",
      "Warning: less than 75% gpu memory available for training. Free: 34514.0625 Total: 48676.75\n",
      "Warning: less than 75% gpu memory available for training. Free: 34386.0625 Total: 48676.75\n",
      "Warning: less than 75% gpu memory available for training. Free: 28889.125 Total: 48676.75\n"
     ]
    },
    {
     "name": "stdout",
     "output_type": "stream",
     "text": [
      "Learning rate set to 0.062354\n",
      "0:\tlearn: 75995.7302910\ttotal: 410ms\tremaining: 3m 24s\n",
      "200:\tlearn: 14905.6678895\ttotal: 1m 17s\tremaining: 1m 54s\n",
      "400:\tlearn: 10351.8060578\ttotal: 2m 35s\tremaining: 38.4s\n",
      "499:\tlearn: 8979.4067718\ttotal: 3m 14s\tremaining: 0us\n",
      "[CV] END bootstrap_type=Bernoulli, depth=6, iterations=500, subsample=0.8; total time= 3.3min\n"
     ]
    },
    {
     "name": "stderr",
     "output_type": "stream",
     "text": [
      "Warning: less than 75% gpu memory available for training. Free: 28688.1875 Total: 48676.75\n",
      "Warning: less than 75% gpu memory available for training. Free: 34514.0625 Total: 48676.75\n",
      "Warning: less than 75% gpu memory available for training. Free: 34386.0625 Total: 48676.75\n",
      "Warning: less than 75% gpu memory available for training. Free: 28889.125 Total: 48676.75\n"
     ]
    },
    {
     "name": "stdout",
     "output_type": "stream",
     "text": [
      "Learning rate set to 0.062354\n",
      "0:\tlearn: 74240.9190307\ttotal: 330ms\tremaining: 2m 44s\n",
      "200:\tlearn: 14049.4448035\ttotal: 1m 16s\tremaining: 1m 54s\n",
      "400:\tlearn: 9413.7252172\ttotal: 2m 32s\tremaining: 37.7s\n",
      "499:\tlearn: 8021.6570419\ttotal: 3m 11s\tremaining: 0us\n",
      "[CV] END bootstrap_type=Bernoulli, depth=6, iterations=500, subsample=0.8; total time= 3.2min\n"
     ]
    },
    {
     "name": "stderr",
     "output_type": "stream",
     "text": [
      "Warning: less than 75% gpu memory available for training. Free: 28688.1875 Total: 48676.75\n",
      "Warning: less than 75% gpu memory available for training. Free: 34514.0625 Total: 48676.75\n",
      "Warning: less than 75% gpu memory available for training. Free: 34386.0625 Total: 48676.75\n",
      "Warning: less than 75% gpu memory available for training. Free: 28889.125 Total: 48676.75\n"
     ]
    },
    {
     "name": "stdout",
     "output_type": "stream",
     "text": [
      "Learning rate set to 0.062354\n",
      "0:\tlearn: 77968.7363548\ttotal: 329ms\tremaining: 2m 43s\n",
      "200:\tlearn: 15236.4197571\ttotal: 1m 19s\tremaining: 1m 58s\n",
      "400:\tlearn: 10585.0989396\ttotal: 2m 35s\tremaining: 38.5s\n",
      "499:\tlearn: 9279.5419821\ttotal: 3m 16s\tremaining: 0us\n",
      "[CV] END bootstrap_type=Bernoulli, depth=6, iterations=500, subsample=0.8; total time= 3.3min\n"
     ]
    },
    {
     "name": "stderr",
     "output_type": "stream",
     "text": [
      "Warning: less than 75% gpu memory available for training. Free: 28688.1875 Total: 48676.75\n",
      "Warning: less than 75% gpu memory available for training. Free: 34514.0625 Total: 48676.75\n",
      "Warning: less than 75% gpu memory available for training. Free: 34386.0625 Total: 48676.75\n",
      "Warning: less than 75% gpu memory available for training. Free: 28889.125 Total: 48676.75\n"
     ]
    },
    {
     "name": "stdout",
     "output_type": "stream",
     "text": [
      "Learning rate set to 0.062354\n",
      "0:\tlearn: 75613.4621108\ttotal: 333ms\tremaining: 2m 45s\n",
      "200:\tlearn: 14769.6069415\ttotal: 1m 18s\tremaining: 1m 56s\n",
      "400:\tlearn: 10400.2862764\ttotal: 2m 37s\tremaining: 38.9s\n",
      "499:\tlearn: 8932.0479850\ttotal: 3m 17s\tremaining: 0us\n",
      "[CV] END bootstrap_type=Bernoulli, depth=6, iterations=500, subsample=0.8; total time= 3.3min\n"
     ]
    },
    {
     "name": "stderr",
     "output_type": "stream",
     "text": [
      "Warning: less than 75% gpu memory available for training. Free: 28688.1875 Total: 48676.75\n",
      "Warning: less than 75% gpu memory available for training. Free: 34514.0625 Total: 48676.75\n",
      "Warning: less than 75% gpu memory available for training. Free: 34386.0625 Total: 48676.75\n",
      "Warning: less than 75% gpu memory available for training. Free: 28889.125 Total: 48676.75\n"
     ]
    },
    {
     "name": "stdout",
     "output_type": "stream",
     "text": [
      "Learning rate set to 0.041224\n",
      "0:\tlearn: 78521.1857132\ttotal: 337ms\tremaining: 5m 36s\n",
      "200:\tlearn: 19612.0669145\ttotal: 1m 24s\tremaining: 5m 33s\n",
      "400:\tlearn: 14494.0441996\ttotal: 2m 31s\tremaining: 3m 45s\n",
      "600:\tlearn: 11495.7077207\ttotal: 3m 42s\tremaining: 2m 28s\n",
      "800:\tlearn: 9275.2316517\ttotal: 4m 54s\tremaining: 1m 13s\n",
      "999:\tlearn: 7791.6046143\ttotal: 6m 7s\tremaining: 0us\n",
      "[CV] END bootstrap_type=Bernoulli, depth=6, iterations=1000, subsample=0.4; total time= 6.2min\n"
     ]
    },
    {
     "name": "stderr",
     "output_type": "stream",
     "text": [
      "Warning: less than 75% gpu memory available for training. Free: 34514.0625 Total: 48676.75\n",
      "Warning: less than 75% gpu memory available for training. Free: 34386.0625 Total: 48676.75\n",
      "Warning: less than 75% gpu memory available for training. Free: 28889.125 Total: 48676.75\n"
     ]
    },
    {
     "name": "stdout",
     "output_type": "stream",
     "text": [
      "Learning rate set to 0.041224\n",
      "0:\tlearn: 76848.1135134\ttotal: 385ms\tremaining: 6m 24s\n",
      "200:\tlearn: 19165.0362929\ttotal: 1m 20s\tremaining: 5m 20s\n",
      "400:\tlearn: 14659.2318026\ttotal: 2m 31s\tremaining: 3m 45s\n",
      "600:\tlearn: 11705.6319240\ttotal: 3m 43s\tremaining: 2m 28s\n",
      "800:\tlearn: 9613.5356631\ttotal: 4m 58s\tremaining: 1m 14s\n",
      "999:\tlearn: 8050.6299252\ttotal: 6m 12s\tremaining: 0us\n",
      "[CV] END bootstrap_type=Bernoulli, depth=6, iterations=1000, subsample=0.4; total time= 6.3min\n"
     ]
    },
    {
     "name": "stderr",
     "output_type": "stream",
     "text": [
      "Warning: less than 75% gpu memory available for training. Free: 34514.0625 Total: 48676.75\n",
      "Warning: less than 75% gpu memory available for training. Free: 34386.0625 Total: 48676.75\n",
      "Warning: less than 75% gpu memory available for training. Free: 28889.125 Total: 48676.75\n"
     ]
    },
    {
     "name": "stdout",
     "output_type": "stream",
     "text": [
      "Learning rate set to 0.041224\n",
      "0:\tlearn: 75334.9385196\ttotal: 450ms\tremaining: 7m 29s\n",
      "200:\tlearn: 19720.7509485\ttotal: 1m 21s\tremaining: 5m 22s\n",
      "400:\tlearn: 13889.0766580\ttotal: 2m 25s\tremaining: 3m 37s\n",
      "600:\tlearn: 10892.5696932\ttotal: 3m 35s\tremaining: 2m 23s\n",
      "800:\tlearn: 8891.4560190\ttotal: 4m 47s\tremaining: 1m 11s\n",
      "999:\tlearn: 7415.8554758\ttotal: 5m 59s\tremaining: 0us\n",
      "[CV] END bootstrap_type=Bernoulli, depth=6, iterations=1000, subsample=0.4; total time= 6.0min\n"
     ]
    },
    {
     "name": "stderr",
     "output_type": "stream",
     "text": [
      "Warning: less than 75% gpu memory available for training. Free: 34514.0625 Total: 48676.75\n",
      "Warning: less than 75% gpu memory available for training. Free: 34386.0625 Total: 48676.75\n",
      "Warning: less than 75% gpu memory available for training. Free: 28889.125 Total: 48676.75\n"
     ]
    },
    {
     "name": "stdout",
     "output_type": "stream",
     "text": [
      "Learning rate set to 0.041224\n",
      "0:\tlearn: 79088.9213806\ttotal: 396ms\tremaining: 6m 35s\n",
      "200:\tlearn: 20377.3785078\ttotal: 1m 22s\tremaining: 5m 27s\n",
      "400:\tlearn: 15346.5639865\ttotal: 2m 31s\tremaining: 3m 46s\n",
      "600:\tlearn: 12309.2618565\ttotal: 3m 44s\tremaining: 2m 28s\n",
      "800:\tlearn: 10233.5294625\ttotal: 4m 58s\tremaining: 1m 14s\n",
      "999:\tlearn: 8538.1631081\ttotal: 6m 11s\tremaining: 0us\n",
      "[CV] END bootstrap_type=Bernoulli, depth=6, iterations=1000, subsample=0.4; total time= 6.2min\n"
     ]
    },
    {
     "name": "stderr",
     "output_type": "stream",
     "text": [
      "Warning: less than 75% gpu memory available for training. Free: 34514.0625 Total: 48676.75\n",
      "Warning: less than 75% gpu memory available for training. Free: 34386.0625 Total: 48676.75\n",
      "Warning: less than 75% gpu memory available for training. Free: 28889.125 Total: 48676.75\n"
     ]
    },
    {
     "name": "stdout",
     "output_type": "stream",
     "text": [
      "Learning rate set to 0.041224\n",
      "0:\tlearn: 76670.1660539\ttotal: 448ms\tremaining: 7m 27s\n",
      "200:\tlearn: 19796.5395842\ttotal: 1m 24s\tremaining: 5m 34s\n",
      "400:\tlearn: 15181.7252507\ttotal: 2m 33s\tremaining: 3m 48s\n",
      "600:\tlearn: 12331.3538858\ttotal: 3m 45s\tremaining: 2m 29s\n",
      "800:\tlearn: 10219.9824893\ttotal: 5m\tremaining: 1m 14s\n",
      "999:\tlearn: 8653.9260676\ttotal: 6m 15s\tremaining: 0us\n",
      "[CV] END bootstrap_type=Bernoulli, depth=6, iterations=1000, subsample=0.4; total time= 6.3min\n"
     ]
    },
    {
     "name": "stderr",
     "output_type": "stream",
     "text": [
      "Warning: less than 75% gpu memory available for training. Free: 34514.0625 Total: 48676.75\n",
      "Warning: less than 75% gpu memory available for training. Free: 34386.0625 Total: 48676.75\n",
      "Warning: less than 75% gpu memory available for training. Free: 28889.125 Total: 48676.75\n"
     ]
    },
    {
     "name": "stdout",
     "output_type": "stream",
     "text": [
      "Learning rate set to 0.041224\n",
      "0:\tlearn: 78606.0975264\ttotal: 391ms\tremaining: 6m 30s\n",
      "200:\tlearn: 19379.8792085\ttotal: 1m 20s\tremaining: 5m 19s\n",
      "400:\tlearn: 14113.8810289\ttotal: 2m 28s\tremaining: 3m 42s\n",
      "600:\tlearn: 11154.6095491\ttotal: 3m 40s\tremaining: 2m 26s\n",
      "800:\tlearn: 9044.8987575\ttotal: 4m 54s\tremaining: 1m 13s\n",
      "999:\tlearn: 7530.1173561\ttotal: 6m 7s\tremaining: 0us\n",
      "[CV] END bootstrap_type=Bernoulli, depth=6, iterations=1000, subsample=0.5; total time= 6.2min\n"
     ]
    },
    {
     "name": "stderr",
     "output_type": "stream",
     "text": [
      "Warning: less than 75% gpu memory available for training. Free: 34514.0625 Total: 48676.75\n",
      "Warning: less than 75% gpu memory available for training. Free: 34386.0625 Total: 48676.75\n",
      "Warning: less than 75% gpu memory available for training. Free: 28889.125 Total: 48676.75\n"
     ]
    },
    {
     "name": "stdout",
     "output_type": "stream",
     "text": [
      "Learning rate set to 0.041224\n",
      "0:\tlearn: 76842.0881934\ttotal: 387ms\tremaining: 6m 26s\n",
      "200:\tlearn: 18639.0862966\ttotal: 1m 21s\tremaining: 5m 23s\n",
      "400:\tlearn: 13897.5072565\ttotal: 2m 31s\tremaining: 3m 46s\n",
      "600:\tlearn: 11144.2595727\ttotal: 3m 46s\tremaining: 2m 30s\n",
      "800:\tlearn: 9093.5533872\ttotal: 4m 58s\tremaining: 1m 14s\n",
      "999:\tlearn: 7501.1564551\ttotal: 6m 12s\tremaining: 0us\n",
      "[CV] END bootstrap_type=Bernoulli, depth=6, iterations=1000, subsample=0.5; total time= 6.3min\n"
     ]
    },
    {
     "name": "stderr",
     "output_type": "stream",
     "text": [
      "Warning: less than 75% gpu memory available for training. Free: 34514.0625 Total: 48676.75\n",
      "Warning: less than 75% gpu memory available for training. Free: 34386.0625 Total: 48676.75\n",
      "Warning: less than 75% gpu memory available for training. Free: 28889.125 Total: 48676.75\n"
     ]
    },
    {
     "name": "stdout",
     "output_type": "stream",
     "text": [
      "Learning rate set to 0.041224\n",
      "0:\tlearn: 75336.3446921\ttotal: 450ms\tremaining: 7m 30s\n",
      "200:\tlearn: 18709.6448119\ttotal: 1m 20s\tremaining: 5m 18s\n",
      "400:\tlearn: 13514.0493673\ttotal: 2m 25s\tremaining: 3m 38s\n",
      "600:\tlearn: 10486.5798021\ttotal: 3m 35s\tremaining: 2m 22s\n",
      "800:\tlearn: 8565.9925254\ttotal: 4m 46s\tremaining: 1m 11s\n",
      "999:\tlearn: 7100.9170158\ttotal: 5m 59s\tremaining: 0us\n",
      "[CV] END bootstrap_type=Bernoulli, depth=6, iterations=1000, subsample=0.5; total time= 6.0min\n"
     ]
    },
    {
     "name": "stderr",
     "output_type": "stream",
     "text": [
      "Warning: less than 75% gpu memory available for training. Free: 34514.0625 Total: 48676.75\n",
      "Warning: less than 75% gpu memory available for training. Free: 34386.0625 Total: 48676.75\n",
      "Warning: less than 75% gpu memory available for training. Free: 28889.125 Total: 48676.75\n"
     ]
    },
    {
     "name": "stdout",
     "output_type": "stream",
     "text": [
      "Learning rate set to 0.041224\n",
      "0:\tlearn: 79059.1075346\ttotal: 323ms\tremaining: 5m 22s\n",
      "200:\tlearn: 19502.8793547\ttotal: 1m 22s\tremaining: 5m 27s\n",
      "400:\tlearn: 14721.3821864\ttotal: 2m 33s\tremaining: 3m 48s\n",
      "600:\tlearn: 11801.4323347\ttotal: 3m 46s\tremaining: 2m 30s\n",
      "800:\tlearn: 9698.5458930\ttotal: 5m\tremaining: 1m 14s\n",
      "999:\tlearn: 8021.3641309\ttotal: 6m 15s\tremaining: 0us\n",
      "[CV] END bootstrap_type=Bernoulli, depth=6, iterations=1000, subsample=0.5; total time= 6.3min\n"
     ]
    },
    {
     "name": "stderr",
     "output_type": "stream",
     "text": [
      "Warning: less than 75% gpu memory available for training. Free: 34514.0625 Total: 48676.75\n",
      "Warning: less than 75% gpu memory available for training. Free: 34386.0625 Total: 48676.75\n",
      "Warning: less than 75% gpu memory available for training. Free: 28889.125 Total: 48676.75\n"
     ]
    },
    {
     "name": "stdout",
     "output_type": "stream",
     "text": [
      "Learning rate set to 0.041224\n",
      "0:\tlearn: 76674.8964623\ttotal: 451ms\tremaining: 7m 30s\n",
      "200:\tlearn: 19150.4236657\ttotal: 1m 21s\tremaining: 5m 24s\n",
      "400:\tlearn: 14460.9399115\ttotal: 2m 29s\tremaining: 3m 43s\n",
      "600:\tlearn: 11546.5617678\ttotal: 3m 44s\tremaining: 2m 28s\n",
      "800:\tlearn: 9463.1239419\ttotal: 4m 59s\tremaining: 1m 14s\n",
      "999:\tlearn: 7893.9620137\ttotal: 6m 12s\tremaining: 0us\n",
      "[CV] END bootstrap_type=Bernoulli, depth=6, iterations=1000, subsample=0.5; total time= 6.3min\n"
     ]
    },
    {
     "name": "stderr",
     "output_type": "stream",
     "text": [
      "Warning: less than 75% gpu memory available for training. Free: 34514.0625 Total: 48676.75\n",
      "Warning: less than 75% gpu memory available for training. Free: 34386.0625 Total: 48676.75\n",
      "Warning: less than 75% gpu memory available for training. Free: 28889.125 Total: 48676.75\n"
     ]
    },
    {
     "name": "stdout",
     "output_type": "stream",
     "text": [
      "Learning rate set to 0.041224\n",
      "0:\tlearn: 78476.1314450\ttotal: 398ms\tremaining: 6m 37s\n",
      "200:\tlearn: 18179.8452425\ttotal: 1m 19s\tremaining: 5m 14s\n",
      "400:\tlearn: 13274.3344905\ttotal: 2m 28s\tremaining: 3m 42s\n",
      "600:\tlearn: 10468.6730799\ttotal: 3m 41s\tremaining: 2m 26s\n",
      "800:\tlearn: 8526.7356229\ttotal: 4m 55s\tremaining: 1m 13s\n",
      "999:\tlearn: 7055.5991561\ttotal: 6m 9s\tremaining: 0us\n",
      "[CV] END bootstrap_type=Bernoulli, depth=6, iterations=1000, subsample=0.6; total time= 6.2min\n"
     ]
    },
    {
     "name": "stderr",
     "output_type": "stream",
     "text": [
      "Warning: less than 75% gpu memory available for training. Free: 34514.0625 Total: 48676.75\n",
      "Warning: less than 75% gpu memory available for training. Free: 34386.0625 Total: 48676.75\n",
      "Warning: less than 75% gpu memory available for training. Free: 28889.125 Total: 48676.75\n"
     ]
    },
    {
     "name": "stdout",
     "output_type": "stream",
     "text": [
      "Learning rate set to 0.041224\n",
      "0:\tlearn: 76794.4355975\ttotal: 293ms\tremaining: 4m 52s\n",
      "200:\tlearn: 18096.4456179\ttotal: 1m 21s\tremaining: 5m 22s\n",
      "400:\tlearn: 13578.6569675\ttotal: 2m 32s\tremaining: 3m 47s\n",
      "600:\tlearn: 10921.3942609\ttotal: 3m 46s\tremaining: 2m 30s\n",
      "800:\tlearn: 8800.9444076\ttotal: 5m\tremaining: 1m 14s\n",
      "999:\tlearn: 7243.7942378\ttotal: 6m 15s\tremaining: 0us\n",
      "[CV] END bootstrap_type=Bernoulli, depth=6, iterations=1000, subsample=0.6; total time= 6.3min\n"
     ]
    },
    {
     "name": "stderr",
     "output_type": "stream",
     "text": [
      "Warning: less than 75% gpu memory available for training. Free: 34514.0625 Total: 48676.75\n",
      "Warning: less than 75% gpu memory available for training. Free: 34386.0625 Total: 48676.75\n",
      "Warning: less than 75% gpu memory available for training. Free: 28889.125 Total: 48676.75\n"
     ]
    },
    {
     "name": "stdout",
     "output_type": "stream",
     "text": [
      "Learning rate set to 0.041224\n",
      "0:\tlearn: 75461.3355614\ttotal: 480ms\tremaining: 7m 59s\n",
      "200:\tlearn: 17933.8005568\ttotal: 1m 19s\tremaining: 5m 16s\n",
      "400:\tlearn: 12905.0000207\ttotal: 2m 26s\tremaining: 3m 38s\n",
      "600:\tlearn: 10045.7748169\ttotal: 3m 37s\tremaining: 2m 24s\n",
      "800:\tlearn: 8148.9579870\ttotal: 4m 49s\tremaining: 1m 12s\n",
      "999:\tlearn: 6750.7590887\ttotal: 6m 2s\tremaining: 0us\n",
      "[CV] END bootstrap_type=Bernoulli, depth=6, iterations=1000, subsample=0.6; total time= 6.1min\n"
     ]
    },
    {
     "name": "stderr",
     "output_type": "stream",
     "text": [
      "Warning: less than 75% gpu memory available for training. Free: 34514.0625 Total: 48676.75\n",
      "Warning: less than 75% gpu memory available for training. Free: 34386.0625 Total: 48676.75\n",
      "Warning: less than 75% gpu memory available for training. Free: 28889.125 Total: 48676.75\n"
     ]
    },
    {
     "name": "stdout",
     "output_type": "stream",
     "text": [
      "Learning rate set to 0.041224\n",
      "0:\tlearn: 79127.1344457\ttotal: 394ms\tremaining: 6m 33s\n",
      "200:\tlearn: 19153.2171596\ttotal: 1m 21s\tremaining: 5m 22s\n",
      "400:\tlearn: 14409.9151253\ttotal: 2m 32s\tremaining: 3m 48s\n",
      "600:\tlearn: 11442.6260038\ttotal: 3m 48s\tremaining: 2m 31s\n",
      "800:\tlearn: 9328.9321182\ttotal: 5m 1s\tremaining: 1m 14s\n",
      "999:\tlearn: 7743.1581111\ttotal: 6m 16s\tremaining: 0us\n",
      "[CV] END bootstrap_type=Bernoulli, depth=6, iterations=1000, subsample=0.6; total time= 6.3min\n"
     ]
    },
    {
     "name": "stderr",
     "output_type": "stream",
     "text": [
      "Warning: less than 75% gpu memory available for training. Free: 34514.0625 Total: 48676.75\n",
      "Warning: less than 75% gpu memory available for training. Free: 34386.0625 Total: 48676.75\n",
      "Warning: less than 75% gpu memory available for training. Free: 28889.125 Total: 48676.75\n"
     ]
    },
    {
     "name": "stdout",
     "output_type": "stream",
     "text": [
      "Learning rate set to 0.041224\n",
      "0:\tlearn: 76668.3657290\ttotal: 449ms\tremaining: 7m 28s\n",
      "200:\tlearn: 18259.3358699\ttotal: 1m 20s\tremaining: 5m 18s\n",
      "400:\tlearn: 13850.5169321\ttotal: 2m 31s\tremaining: 3m 45s\n",
      "600:\tlearn: 10993.8054389\ttotal: 3m 45s\tremaining: 2m 29s\n",
      "800:\tlearn: 8916.8813763\ttotal: 5m 1s\tremaining: 1m 14s\n",
      "999:\tlearn: 7481.8595593\ttotal: 6m 17s\tremaining: 0us\n",
      "[CV] END bootstrap_type=Bernoulli, depth=6, iterations=1000, subsample=0.6; total time= 6.3min\n"
     ]
    },
    {
     "name": "stderr",
     "output_type": "stream",
     "text": [
      "Warning: less than 75% gpu memory available for training. Free: 34514.0625 Total: 48676.75\n",
      "Warning: less than 75% gpu memory available for training. Free: 34386.0625 Total: 48676.75\n",
      "Warning: less than 75% gpu memory available for training. Free: 28889.125 Total: 48676.75\n"
     ]
    },
    {
     "name": "stdout",
     "output_type": "stream",
     "text": [
      "Learning rate set to 0.041224\n",
      "0:\tlearn: 78433.5065107\ttotal: 321ms\tremaining: 5m 20s\n",
      "200:\tlearn: 17642.8247109\ttotal: 1m 17s\tremaining: 5m 9s\n",
      "400:\tlearn: 12764.9965225\ttotal: 2m 29s\tremaining: 3m 42s\n",
      "600:\tlearn: 10008.3629688\ttotal: 3m 42s\tremaining: 2m 28s\n",
      "800:\tlearn: 8165.0309498\ttotal: 4m 58s\tremaining: 1m 14s\n",
      "999:\tlearn: 6762.3635327\ttotal: 6m 13s\tremaining: 0us\n",
      "[CV] END bootstrap_type=Bernoulli, depth=6, iterations=1000, subsample=0.7; total time= 6.3min\n"
     ]
    },
    {
     "name": "stderr",
     "output_type": "stream",
     "text": [
      "Warning: less than 75% gpu memory available for training. Free: 34514.0625 Total: 48676.75\n",
      "Warning: less than 75% gpu memory available for training. Free: 34386.0625 Total: 48676.75\n",
      "Warning: less than 75% gpu memory available for training. Free: 28889.125 Total: 48676.75\n"
     ]
    },
    {
     "name": "stdout",
     "output_type": "stream",
     "text": [
      "Learning rate set to 0.041224\n",
      "0:\tlearn: 77007.1041334\ttotal: 320ms\tremaining: 5m 19s\n",
      "200:\tlearn: 17486.4413197\ttotal: 1m 18s\tremaining: 5m 12s\n",
      "400:\tlearn: 13163.9565689\ttotal: 2m 30s\tremaining: 3m 45s\n",
      "600:\tlearn: 10529.8628489\ttotal: 3m 46s\tremaining: 2m 30s\n",
      "800:\tlearn: 8599.8180803\ttotal: 5m 2s\tremaining: 1m 15s\n",
      "999:\tlearn: 7106.2802708\ttotal: 6m 18s\tremaining: 0us\n",
      "[CV] END bootstrap_type=Bernoulli, depth=6, iterations=1000, subsample=0.7; total time= 6.4min\n"
     ]
    },
    {
     "name": "stderr",
     "output_type": "stream",
     "text": [
      "Warning: less than 75% gpu memory available for training. Free: 34514.0625 Total: 48676.75\n",
      "Warning: less than 75% gpu memory available for training. Free: 34386.0625 Total: 48676.75\n",
      "Warning: less than 75% gpu memory available for training. Free: 28889.125 Total: 48676.75\n"
     ]
    },
    {
     "name": "stdout",
     "output_type": "stream",
     "text": [
      "Learning rate set to 0.041224\n",
      "0:\tlearn: 75286.3319772\ttotal: 320ms\tremaining: 5m 19s\n",
      "200:\tlearn: 17664.1731181\ttotal: 1m 18s\tremaining: 5m 13s\n",
      "400:\tlearn: 12595.9895509\ttotal: 2m 27s\tremaining: 3m 39s\n",
      "600:\tlearn: 9777.4937764\ttotal: 3m 39s\tremaining: 2m 25s\n",
      "800:\tlearn: 7879.8121388\ttotal: 4m 54s\tremaining: 1m 13s\n",
      "999:\tlearn: 6477.7775319\ttotal: 6m 7s\tremaining: 0us\n",
      "[CV] END bootstrap_type=Bernoulli, depth=6, iterations=1000, subsample=0.7; total time= 6.2min\n"
     ]
    },
    {
     "name": "stderr",
     "output_type": "stream",
     "text": [
      "Warning: less than 75% gpu memory available for training. Free: 34514.0625 Total: 48676.75\n",
      "Warning: less than 75% gpu memory available for training. Free: 34386.0625 Total: 48676.75\n",
      "Warning: less than 75% gpu memory available for training. Free: 28889.125 Total: 48676.75\n"
     ]
    },
    {
     "name": "stdout",
     "output_type": "stream",
     "text": [
      "Learning rate set to 0.041224\n",
      "0:\tlearn: 79098.4671559\ttotal: 398ms\tremaining: 6m 37s\n",
      "200:\tlearn: 18536.6087838\ttotal: 1m 20s\tremaining: 5m 20s\n",
      "400:\tlearn: 13935.7094791\ttotal: 2m 33s\tremaining: 3m 49s\n",
      "600:\tlearn: 11028.0085759\ttotal: 3m 48s\tremaining: 2m 31s\n",
      "800:\tlearn: 8958.4808888\ttotal: 5m 3s\tremaining: 1m 15s\n",
      "999:\tlearn: 7392.2246304\ttotal: 6m 19s\tremaining: 0us\n",
      "[CV] END bootstrap_type=Bernoulli, depth=6, iterations=1000, subsample=0.7; total time= 6.4min\n"
     ]
    },
    {
     "name": "stderr",
     "output_type": "stream",
     "text": [
      "Warning: less than 75% gpu memory available for training. Free: 34514.0625 Total: 48676.75\n",
      "Warning: less than 75% gpu memory available for training. Free: 34386.0625 Total: 48676.75\n",
      "Warning: less than 75% gpu memory available for training. Free: 28889.125 Total: 48676.75\n"
     ]
    },
    {
     "name": "stdout",
     "output_type": "stream",
     "text": [
      "Learning rate set to 0.041224\n",
      "0:\tlearn: 76664.6624888\ttotal: 448ms\tremaining: 7m 27s\n",
      "200:\tlearn: 17915.2048379\ttotal: 1m 19s\tremaining: 5m 16s\n",
      "400:\tlearn: 13526.1276865\ttotal: 2m 31s\tremaining: 3m 46s\n",
      "600:\tlearn: 10822.6608330\ttotal: 3m 48s\tremaining: 2m 31s\n",
      "800:\tlearn: 8868.1361202\ttotal: 5m 6s\tremaining: 1m 16s\n",
      "999:\tlearn: 7350.9352159\ttotal: 6m 22s\tremaining: 0us\n",
      "[CV] END bootstrap_type=Bernoulli, depth=6, iterations=1000, subsample=0.7; total time= 6.4min\n"
     ]
    },
    {
     "name": "stderr",
     "output_type": "stream",
     "text": [
      "Warning: less than 75% gpu memory available for training. Free: 34514.0625 Total: 48676.75\n",
      "Warning: less than 75% gpu memory available for training. Free: 34386.0625 Total: 48676.75\n",
      "Warning: less than 75% gpu memory available for training. Free: 28889.125 Total: 48676.75\n"
     ]
    },
    {
     "name": "stdout",
     "output_type": "stream",
     "text": [
      "Learning rate set to 0.041224\n",
      "0:\tlearn: 78438.0504588\ttotal: 322ms\tremaining: 5m 21s\n",
      "200:\tlearn: 16788.4321818\ttotal: 1m 16s\tremaining: 5m 3s\n",
      "400:\tlearn: 12305.4470888\ttotal: 2m 27s\tremaining: 3m 40s\n",
      "600:\tlearn: 9714.6306834\ttotal: 3m 42s\tremaining: 2m 27s\n",
      "800:\tlearn: 7892.9730635\ttotal: 4m 59s\tremaining: 1m 14s\n",
      "999:\tlearn: 6532.8402684\ttotal: 6m 15s\tremaining: 0us\n",
      "[CV] END bootstrap_type=Bernoulli, depth=6, iterations=1000, subsample=0.8; total time= 6.3min\n"
     ]
    },
    {
     "name": "stderr",
     "output_type": "stream",
     "text": [
      "Warning: less than 75% gpu memory available for training. Free: 34514.0625 Total: 48676.75\n",
      "Warning: less than 75% gpu memory available for training. Free: 34386.0625 Total: 48676.75\n",
      "Warning: less than 75% gpu memory available for training. Free: 28889.125 Total: 48676.75\n"
     ]
    },
    {
     "name": "stdout",
     "output_type": "stream",
     "text": [
      "Learning rate set to 0.041224\n",
      "0:\tlearn: 77004.7025356\ttotal: 400ms\tremaining: 6m 39s\n",
      "200:\tlearn: 17017.4613048\ttotal: 1m 17s\tremaining: 5m 8s\n",
      "400:\tlearn: 12938.1893929\ttotal: 2m 30s\tremaining: 3m 44s\n",
      "600:\tlearn: 10361.3210349\ttotal: 3m 46s\tremaining: 2m 30s\n",
      "800:\tlearn: 8442.2678768\ttotal: 5m 3s\tremaining: 1m 15s\n",
      "999:\tlearn: 6857.1289811\ttotal: 6m 18s\tremaining: 0us\n",
      "[CV] END bootstrap_type=Bernoulli, depth=6, iterations=1000, subsample=0.8; total time= 6.4min\n"
     ]
    },
    {
     "name": "stderr",
     "output_type": "stream",
     "text": [
      "Warning: less than 75% gpu memory available for training. Free: 34514.0625 Total: 48676.75\n",
      "Warning: less than 75% gpu memory available for training. Free: 34386.0625 Total: 48676.75\n",
      "Warning: less than 75% gpu memory available for training. Free: 28889.125 Total: 48676.75\n"
     ]
    },
    {
     "name": "stdout",
     "output_type": "stream",
     "text": [
      "Learning rate set to 0.041224\n",
      "0:\tlearn: 75292.7947900\ttotal: 321ms\tremaining: 5m 20s\n",
      "200:\tlearn: 17256.5003071\ttotal: 1m 18s\tremaining: 5m 13s\n",
      "400:\tlearn: 12248.9734141\ttotal: 2m 28s\tremaining: 3m 42s\n",
      "600:\tlearn: 9483.0102613\ttotal: 3m 42s\tremaining: 2m 27s\n",
      "800:\tlearn: 7720.1861856\ttotal: 4m 57s\tremaining: 1m 13s\n",
      "999:\tlearn: 6357.7972924\ttotal: 6m 12s\tremaining: 0us\n",
      "[CV] END bootstrap_type=Bernoulli, depth=6, iterations=1000, subsample=0.8; total time= 6.3min\n"
     ]
    },
    {
     "name": "stderr",
     "output_type": "stream",
     "text": [
      "Warning: less than 75% gpu memory available for training. Free: 34514.0625 Total: 48676.75\n",
      "Warning: less than 75% gpu memory available for training. Free: 34386.0625 Total: 48676.75\n",
      "Warning: less than 75% gpu memory available for training. Free: 28889.125 Total: 48676.75\n"
     ]
    },
    {
     "name": "stdout",
     "output_type": "stream",
     "text": [
      "Learning rate set to 0.041224\n",
      "0:\tlearn: 79066.9651302\ttotal: 321ms\tremaining: 5m 20s\n",
      "200:\tlearn: 18200.4797528\ttotal: 1m 18s\tremaining: 5m 13s\n",
      "400:\tlearn: 13509.6102090\ttotal: 2m 33s\tremaining: 3m 49s\n",
      "600:\tlearn: 10704.2756891\ttotal: 3m 49s\tremaining: 2m 32s\n",
      "800:\tlearn: 8683.0380139\ttotal: 5m 3s\tremaining: 1m 15s\n",
      "999:\tlearn: 7167.6232778\ttotal: 6m 19s\tremaining: 0us\n",
      "[CV] END bootstrap_type=Bernoulli, depth=6, iterations=1000, subsample=0.8; total time= 6.4min\n"
     ]
    },
    {
     "name": "stderr",
     "output_type": "stream",
     "text": [
      "Warning: less than 75% gpu memory available for training. Free: 34514.0625 Total: 48676.75\n",
      "Warning: less than 75% gpu memory available for training. Free: 34386.0625 Total: 48676.75\n",
      "Warning: less than 75% gpu memory available for training. Free: 28889.125 Total: 48676.75\n"
     ]
    },
    {
     "name": "stdout",
     "output_type": "stream",
     "text": [
      "Learning rate set to 0.041224\n",
      "0:\tlearn: 76681.7544507\ttotal: 321ms\tremaining: 5m 20s\n",
      "200:\tlearn: 17388.0264140\ttotal: 1m 18s\tremaining: 5m 13s\n",
      "400:\tlearn: 13042.9652902\ttotal: 2m 31s\tremaining: 3m 46s\n",
      "600:\tlearn: 10522.5031243\ttotal: 3m 50s\tremaining: 2m 32s\n",
      "800:\tlearn: 8721.0369121\ttotal: 5m 7s\tremaining: 1m 16s\n",
      "999:\tlearn: 7253.0712550\ttotal: 6m 24s\tremaining: 0us\n",
      "[CV] END bootstrap_type=Bernoulli, depth=6, iterations=1000, subsample=0.8; total time= 6.5min\n"
     ]
    },
    {
     "name": "stderr",
     "output_type": "stream",
     "text": [
      "Warning: less than 75% gpu memory available for training. Free: 34514.0625 Total: 48676.75\n",
      "Warning: less than 75% gpu memory available for training. Free: 34386.0625 Total: 48676.75\n",
      "Warning: less than 75% gpu memory available for training. Free: 28889.125 Total: 48676.75\n"
     ]
    },
    {
     "name": "stdout",
     "output_type": "stream",
     "text": [
      "Learning rate set to 0.162985\n",
      "0:\tlearn: 71828.7208646\ttotal: 944ms\tremaining: 1m 33s\n",
      "99:\tlearn: 12465.3767506\ttotal: 1m 34s\tremaining: 0us\n",
      "[CV] END bootstrap_type=Bernoulli, depth=8, iterations=100, subsample=0.4; total time= 1.7min\n"
     ]
    },
    {
     "name": "stderr",
     "output_type": "stream",
     "text": [
      "Warning: less than 75% gpu memory available for training. Free: 34514.0625 Total: 48676.75\n",
      "Warning: less than 75% gpu memory available for training. Free: 34386.0625 Total: 48676.75\n",
      "Warning: less than 75% gpu memory available for training. Free: 28889.125 Total: 48676.75\n"
     ]
    },
    {
     "name": "stdout",
     "output_type": "stream",
     "text": [
      "Learning rate set to 0.162985\n",
      "0:\tlearn: 70611.1781597\ttotal: 962ms\tremaining: 1m 35s\n",
      "99:\tlearn: 11479.1103851\ttotal: 1m 35s\tremaining: 0us\n",
      "[CV] END bootstrap_type=Bernoulli, depth=8, iterations=100, subsample=0.4; total time= 1.7min\n"
     ]
    },
    {
     "name": "stderr",
     "output_type": "stream",
     "text": [
      "Warning: less than 75% gpu memory available for training. Free: 34514.0625 Total: 48676.75\n",
      "Warning: less than 75% gpu memory available for training. Free: 34386.0625 Total: 48676.75\n",
      "Warning: less than 75% gpu memory available for training. Free: 28889.125 Total: 48676.75\n"
     ]
    },
    {
     "name": "stdout",
     "output_type": "stream",
     "text": [
      "Learning rate set to 0.162985\n",
      "0:\tlearn: 69026.2028214\ttotal: 962ms\tremaining: 1m 35s\n",
      "99:\tlearn: 10777.1873933\ttotal: 1m 34s\tremaining: 0us\n",
      "[CV] END bootstrap_type=Bernoulli, depth=8, iterations=100, subsample=0.4; total time= 1.7min\n"
     ]
    },
    {
     "name": "stderr",
     "output_type": "stream",
     "text": [
      "Warning: less than 75% gpu memory available for training. Free: 34514.0625 Total: 48676.75\n",
      "Warning: less than 75% gpu memory available for training. Free: 34386.0625 Total: 48676.75\n",
      "Warning: less than 75% gpu memory available for training. Free: 28889.125 Total: 48676.75\n"
     ]
    },
    {
     "name": "stdout",
     "output_type": "stream",
     "text": [
      "Learning rate set to 0.162985\n",
      "0:\tlearn: 72391.9275724\ttotal: 961ms\tremaining: 1m 35s\n",
      "99:\tlearn: 12215.7154743\ttotal: 1m 35s\tremaining: 0us\n",
      "[CV] END bootstrap_type=Bernoulli, depth=8, iterations=100, subsample=0.4; total time= 1.7min\n"
     ]
    },
    {
     "name": "stderr",
     "output_type": "stream",
     "text": [
      "Warning: less than 75% gpu memory available for training. Free: 34514.0625 Total: 48676.75\n",
      "Warning: less than 75% gpu memory available for training. Free: 34386.0625 Total: 48676.75\n",
      "Warning: less than 75% gpu memory available for training. Free: 28889.125 Total: 48676.75\n"
     ]
    },
    {
     "name": "stdout",
     "output_type": "stream",
     "text": [
      "Learning rate set to 0.162985\n",
      "0:\tlearn: 69489.7305668\ttotal: 967ms\tremaining: 1m 35s\n",
      "99:\tlearn: 12226.7789999\ttotal: 1m 34s\tremaining: 0us\n",
      "[CV] END bootstrap_type=Bernoulli, depth=8, iterations=100, subsample=0.4; total time= 1.7min\n"
     ]
    },
    {
     "name": "stderr",
     "output_type": "stream",
     "text": [
      "Warning: less than 75% gpu memory available for training. Free: 34514.0625 Total: 48676.75\n",
      "Warning: less than 75% gpu memory available for training. Free: 34386.0625 Total: 48676.75\n",
      "Warning: less than 75% gpu memory available for training. Free: 28889.125 Total: 48676.75\n"
     ]
    },
    {
     "name": "stdout",
     "output_type": "stream",
     "text": [
      "Learning rate set to 0.162985\n",
      "0:\tlearn: 72473.3954232\ttotal: 954ms\tremaining: 1m 34s\n",
      "99:\tlearn: 11241.3133928\ttotal: 1m 34s\tremaining: 0us\n",
      "[CV] END bootstrap_type=Bernoulli, depth=8, iterations=100, subsample=0.5; total time= 1.7min\n"
     ]
    },
    {
     "name": "stderr",
     "output_type": "stream",
     "text": [
      "Warning: less than 75% gpu memory available for training. Free: 34514.0625 Total: 48676.75\n",
      "Warning: less than 75% gpu memory available for training. Free: 34386.0625 Total: 48676.75\n",
      "Warning: less than 75% gpu memory available for training. Free: 28889.125 Total: 48676.75\n"
     ]
    },
    {
     "name": "stdout",
     "output_type": "stream",
     "text": [
      "Learning rate set to 0.162985\n",
      "0:\tlearn: 70388.7548678\ttotal: 959ms\tremaining: 1m 34s\n",
      "99:\tlearn: 11838.4988312\ttotal: 1m 35s\tremaining: 0us\n",
      "[CV] END bootstrap_type=Bernoulli, depth=8, iterations=100, subsample=0.5; total time= 1.7min\n"
     ]
    },
    {
     "name": "stderr",
     "output_type": "stream",
     "text": [
      "Warning: less than 75% gpu memory available for training. Free: 34514.0625 Total: 48676.75\n",
      "Warning: less than 75% gpu memory available for training. Free: 34386.0625 Total: 48676.75\n",
      "Warning: less than 75% gpu memory available for training. Free: 28889.125 Total: 48676.75\n"
     ]
    },
    {
     "name": "stdout",
     "output_type": "stream",
     "text": [
      "Learning rate set to 0.162985\n",
      "0:\tlearn: 69021.6083060\ttotal: 954ms\tremaining: 1m 34s\n",
      "99:\tlearn: 10812.3070619\ttotal: 1m 34s\tremaining: 0us\n",
      "[CV] END bootstrap_type=Bernoulli, depth=8, iterations=100, subsample=0.5; total time= 1.7min\n"
     ]
    },
    {
     "name": "stderr",
     "output_type": "stream",
     "text": [
      "Warning: less than 75% gpu memory available for training. Free: 34514.0625 Total: 48676.75\n",
      "Warning: less than 75% gpu memory available for training. Free: 34386.0625 Total: 48676.75\n",
      "Warning: less than 75% gpu memory available for training. Free: 28889.125 Total: 48676.75\n"
     ]
    },
    {
     "name": "stdout",
     "output_type": "stream",
     "text": [
      "Learning rate set to 0.162985\n",
      "0:\tlearn: 72419.9180775\ttotal: 966ms\tremaining: 1m 35s\n",
      "99:\tlearn: 11061.0768828\ttotal: 1m 35s\tremaining: 0us\n",
      "[CV] END bootstrap_type=Bernoulli, depth=8, iterations=100, subsample=0.5; total time= 1.7min\n"
     ]
    },
    {
     "name": "stderr",
     "output_type": "stream",
     "text": [
      "Warning: less than 75% gpu memory available for training. Free: 34514.0625 Total: 48676.75\n",
      "Warning: less than 75% gpu memory available for training. Free: 34386.0625 Total: 48676.75\n",
      "Warning: less than 75% gpu memory available for training. Free: 28889.125 Total: 48676.75\n"
     ]
    },
    {
     "name": "stdout",
     "output_type": "stream",
     "text": [
      "Learning rate set to 0.162985\n",
      "0:\tlearn: 70214.9777879\ttotal: 954ms\tremaining: 1m 34s\n",
      "99:\tlearn: 11591.6989477\ttotal: 1m 35s\tremaining: 0us\n",
      "[CV] END bootstrap_type=Bernoulli, depth=8, iterations=100, subsample=0.5; total time= 1.7min\n"
     ]
    },
    {
     "name": "stderr",
     "output_type": "stream",
     "text": [
      "Warning: less than 75% gpu memory available for training. Free: 34514.0625 Total: 48676.75\n",
      "Warning: less than 75% gpu memory available for training. Free: 34386.0625 Total: 48676.75\n",
      "Warning: less than 75% gpu memory available for training. Free: 28889.125 Total: 48676.75\n"
     ]
    },
    {
     "name": "stdout",
     "output_type": "stream",
     "text": [
      "Learning rate set to 0.162985\n",
      "0:\tlearn: 71749.4958608\ttotal: 953ms\tremaining: 1m 34s\n",
      "99:\tlearn: 10257.9059200\ttotal: 1m 34s\tremaining: 0us\n",
      "[CV] END bootstrap_type=Bernoulli, depth=8, iterations=100, subsample=0.6; total time= 1.7min\n"
     ]
    },
    {
     "name": "stderr",
     "output_type": "stream",
     "text": [
      "Warning: less than 75% gpu memory available for training. Free: 34514.0625 Total: 48676.75\n",
      "Warning: less than 75% gpu memory available for training. Free: 34386.0625 Total: 48676.75\n",
      "Warning: less than 75% gpu memory available for training. Free: 28889.125 Total: 48676.75\n"
     ]
    },
    {
     "name": "stdout",
     "output_type": "stream",
     "text": [
      "Learning rate set to 0.162985\n",
      "0:\tlearn: 70357.9722122\ttotal: 959ms\tremaining: 1m 34s\n",
      "99:\tlearn: 10819.1503882\ttotal: 1m 35s\tremaining: 0us\n",
      "[CV] END bootstrap_type=Bernoulli, depth=8, iterations=100, subsample=0.6; total time= 1.7min\n"
     ]
    },
    {
     "name": "stderr",
     "output_type": "stream",
     "text": [
      "Warning: less than 75% gpu memory available for training. Free: 34514.0625 Total: 48676.75\n",
      "Warning: less than 75% gpu memory available for training. Free: 34386.0625 Total: 48676.75\n",
      "Warning: less than 75% gpu memory available for training. Free: 28889.125 Total: 48676.75\n"
     ]
    },
    {
     "name": "stdout",
     "output_type": "stream",
     "text": [
      "Learning rate set to 0.162985\n",
      "0:\tlearn: 69166.6772884\ttotal: 955ms\tremaining: 1m 34s\n",
      "99:\tlearn: 9776.7387565\ttotal: 1m 35s\tremaining: 0us\n",
      "[CV] END bootstrap_type=Bernoulli, depth=8, iterations=100, subsample=0.6; total time= 1.7min\n"
     ]
    },
    {
     "name": "stderr",
     "output_type": "stream",
     "text": [
      "Warning: less than 75% gpu memory available for training. Free: 34514.0625 Total: 48676.75\n",
      "Warning: less than 75% gpu memory available for training. Free: 34386.0625 Total: 48676.75\n",
      "Warning: less than 75% gpu memory available for training. Free: 28889.125 Total: 48676.75\n"
     ]
    },
    {
     "name": "stdout",
     "output_type": "stream",
     "text": [
      "Learning rate set to 0.162985\n",
      "0:\tlearn: 72552.8043917\ttotal: 959ms\tremaining: 1m 34s\n",
      "99:\tlearn: 10911.3777993\ttotal: 1m 34s\tremaining: 0us\n",
      "[CV] END bootstrap_type=Bernoulli, depth=8, iterations=100, subsample=0.6; total time= 1.7min\n"
     ]
    },
    {
     "name": "stderr",
     "output_type": "stream",
     "text": [
      "Warning: less than 75% gpu memory available for training. Free: 34514.0625 Total: 48676.75\n",
      "Warning: less than 75% gpu memory available for training. Free: 34386.0625 Total: 48676.75\n",
      "Warning: less than 75% gpu memory available for training. Free: 28889.125 Total: 48676.75\n"
     ]
    },
    {
     "name": "stdout",
     "output_type": "stream",
     "text": [
      "Learning rate set to 0.162985\n",
      "0:\tlearn: 70100.7942128\ttotal: 963ms\tremaining: 1m 35s\n",
      "99:\tlearn: 10954.8509853\ttotal: 1m 35s\tremaining: 0us\n",
      "[CV] END bootstrap_type=Bernoulli, depth=8, iterations=100, subsample=0.6; total time= 1.7min\n"
     ]
    },
    {
     "name": "stderr",
     "output_type": "stream",
     "text": [
      "Warning: less than 75% gpu memory available for training. Free: 34514.0625 Total: 48676.75\n",
      "Warning: less than 75% gpu memory available for training. Free: 34386.0625 Total: 48676.75\n",
      "Warning: less than 75% gpu memory available for training. Free: 28889.125 Total: 48676.75\n"
     ]
    },
    {
     "name": "stdout",
     "output_type": "stream",
     "text": [
      "Learning rate set to 0.162985\n",
      "0:\tlearn: 71649.4400609\ttotal: 953ms\tremaining: 1m 34s\n",
      "99:\tlearn: 10299.9015077\ttotal: 1m 34s\tremaining: 0us\n",
      "[CV] END bootstrap_type=Bernoulli, depth=8, iterations=100, subsample=0.7; total time= 1.7min\n"
     ]
    },
    {
     "name": "stderr",
     "output_type": "stream",
     "text": [
      "Warning: less than 75% gpu memory available for training. Free: 34514.0625 Total: 48676.75\n",
      "Warning: less than 75% gpu memory available for training. Free: 34386.0625 Total: 48676.75\n",
      "Warning: less than 75% gpu memory available for training. Free: 28889.125 Total: 48676.75\n"
     ]
    },
    {
     "name": "stdout",
     "output_type": "stream",
     "text": [
      "Learning rate set to 0.162985\n",
      "0:\tlearn: 70361.6628866\ttotal: 961ms\tremaining: 1m 35s\n",
      "99:\tlearn: 10626.8288031\ttotal: 1m 35s\tremaining: 0us\n",
      "[CV] END bootstrap_type=Bernoulli, depth=8, iterations=100, subsample=0.7; total time= 1.7min\n"
     ]
    },
    {
     "name": "stderr",
     "output_type": "stream",
     "text": [
      "Warning: less than 75% gpu memory available for training. Free: 34514.0625 Total: 48676.75\n",
      "Warning: less than 75% gpu memory available for training. Free: 34386.0625 Total: 48676.75\n",
      "Warning: less than 75% gpu memory available for training. Free: 28889.125 Total: 48676.75\n"
     ]
    },
    {
     "name": "stdout",
     "output_type": "stream",
     "text": [
      "Learning rate set to 0.162985\n",
      "0:\tlearn: 69066.7435623\ttotal: 961ms\tremaining: 1m 35s\n",
      "99:\tlearn: 9748.7583136\ttotal: 1m 34s\tremaining: 0us\n",
      "[CV] END bootstrap_type=Bernoulli, depth=8, iterations=100, subsample=0.7; total time= 1.7min\n"
     ]
    },
    {
     "name": "stderr",
     "output_type": "stream",
     "text": [
      "Warning: less than 75% gpu memory available for training. Free: 34514.0625 Total: 48676.75\n",
      "Warning: less than 75% gpu memory available for training. Free: 34386.0625 Total: 48676.75\n",
      "Warning: less than 75% gpu memory available for training. Free: 28889.125 Total: 48676.75\n"
     ]
    },
    {
     "name": "stdout",
     "output_type": "stream",
     "text": [
      "Learning rate set to 0.162985\n",
      "0:\tlearn: 72642.5300628\ttotal: 958ms\tremaining: 1m 34s\n",
      "99:\tlearn: 10241.8765404\ttotal: 1m 35s\tremaining: 0us\n",
      "[CV] END bootstrap_type=Bernoulli, depth=8, iterations=100, subsample=0.7; total time= 1.7min\n"
     ]
    },
    {
     "name": "stderr",
     "output_type": "stream",
     "text": [
      "Warning: less than 75% gpu memory available for training. Free: 34514.0625 Total: 48676.75\n",
      "Warning: less than 75% gpu memory available for training. Free: 34386.0625 Total: 48676.75\n",
      "Warning: less than 75% gpu memory available for training. Free: 28889.125 Total: 48676.75\n"
     ]
    },
    {
     "name": "stdout",
     "output_type": "stream",
     "text": [
      "Learning rate set to 0.162985\n",
      "0:\tlearn: 69920.0231717\ttotal: 953ms\tremaining: 1m 34s\n",
      "99:\tlearn: 10351.1745770\ttotal: 1m 35s\tremaining: 0us\n",
      "[CV] END bootstrap_type=Bernoulli, depth=8, iterations=100, subsample=0.7; total time= 1.7min\n"
     ]
    },
    {
     "name": "stderr",
     "output_type": "stream",
     "text": [
      "Warning: less than 75% gpu memory available for training. Free: 34514.0625 Total: 48676.75\n",
      "Warning: less than 75% gpu memory available for training. Free: 34386.0625 Total: 48676.75\n",
      "Warning: less than 75% gpu memory available for training. Free: 28889.125 Total: 48676.75\n"
     ]
    },
    {
     "name": "stdout",
     "output_type": "stream",
     "text": [
      "Learning rate set to 0.162985\n",
      "0:\tlearn: 71875.5657028\ttotal: 958ms\tremaining: 1m 34s\n",
      "99:\tlearn: 9387.5539639\ttotal: 1m 34s\tremaining: 0us\n",
      "[CV] END bootstrap_type=Bernoulli, depth=8, iterations=100, subsample=0.8; total time= 1.7min\n"
     ]
    },
    {
     "name": "stderr",
     "output_type": "stream",
     "text": [
      "Warning: less than 75% gpu memory available for training. Free: 34514.0625 Total: 48676.75\n",
      "Warning: less than 75% gpu memory available for training. Free: 34386.0625 Total: 48676.75\n",
      "Warning: less than 75% gpu memory available for training. Free: 28889.125 Total: 48676.75\n"
     ]
    },
    {
     "name": "stdout",
     "output_type": "stream",
     "text": [
      "Learning rate set to 0.162985\n",
      "0:\tlearn: 70115.4786530\ttotal: 966ms\tremaining: 1m 35s\n",
      "99:\tlearn: 10386.6232202\ttotal: 1m 35s\tremaining: 0us\n",
      "[CV] END bootstrap_type=Bernoulli, depth=8, iterations=100, subsample=0.8; total time= 1.7min\n"
     ]
    },
    {
     "name": "stderr",
     "output_type": "stream",
     "text": [
      "Warning: less than 75% gpu memory available for training. Free: 34514.0625 Total: 48676.75\n",
      "Warning: less than 75% gpu memory available for training. Free: 34386.0625 Total: 48676.75\n",
      "Warning: less than 75% gpu memory available for training. Free: 28889.125 Total: 48676.75\n"
     ]
    },
    {
     "name": "stdout",
     "output_type": "stream",
     "text": [
      "Learning rate set to 0.162985\n",
      "0:\tlearn: 68914.3094734\ttotal: 957ms\tremaining: 1m 34s\n",
      "99:\tlearn: 9705.3770833\ttotal: 1m 34s\tremaining: 0us\n",
      "[CV] END bootstrap_type=Bernoulli, depth=8, iterations=100, subsample=0.8; total time= 1.7min\n"
     ]
    },
    {
     "name": "stderr",
     "output_type": "stream",
     "text": [
      "Warning: less than 75% gpu memory available for training. Free: 34514.0625 Total: 48676.75\n",
      "Warning: less than 75% gpu memory available for training. Free: 34386.0625 Total: 48676.75\n",
      "Warning: less than 75% gpu memory available for training. Free: 28889.125 Total: 48676.75\n"
     ]
    },
    {
     "name": "stdout",
     "output_type": "stream",
     "text": [
      "Learning rate set to 0.162985\n",
      "0:\tlearn: 71957.2282820\ttotal: 962ms\tremaining: 1m 35s\n",
      "99:\tlearn: 10200.6655491\ttotal: 1m 35s\tremaining: 0us\n",
      "[CV] END bootstrap_type=Bernoulli, depth=8, iterations=100, subsample=0.8; total time= 1.7min\n"
     ]
    },
    {
     "name": "stderr",
     "output_type": "stream",
     "text": [
      "Warning: less than 75% gpu memory available for training. Free: 34514.0625 Total: 48676.75\n",
      "Warning: less than 75% gpu memory available for training. Free: 34386.0625 Total: 48676.75\n",
      "Warning: less than 75% gpu memory available for training. Free: 28889.125 Total: 48676.75\n"
     ]
    },
    {
     "name": "stdout",
     "output_type": "stream",
     "text": [
      "Learning rate set to 0.162985\n",
      "0:\tlearn: 70079.3750895\ttotal: 954ms\tremaining: 1m 34s\n",
      "99:\tlearn: 10274.8281004\ttotal: 1m 35s\tremaining: 0us\n",
      "[CV] END bootstrap_type=Bernoulli, depth=8, iterations=100, subsample=0.8; total time= 1.7min\n"
     ]
    },
    {
     "name": "stderr",
     "output_type": "stream",
     "text": [
      "Warning: less than 75% gpu memory available for training. Free: 34514.0625 Total: 48676.75\n",
      "Warning: less than 75% gpu memory available for training. Free: 34386.0625 Total: 48676.75\n",
      "Warning: less than 75% gpu memory available for training. Free: 28889.125 Total: 48676.75\n"
     ]
    },
    {
     "name": "stdout",
     "output_type": "stream",
     "text": [
      "Learning rate set to 0.062354\n",
      "0:\tlearn: 77455.4503324\ttotal: 421ms\tremaining: 3m 29s\n",
      "200:\tlearn: 13835.5177792\ttotal: 1m 46s\tremaining: 2m 39s\n",
      "400:\tlearn: 7540.8045645\ttotal: 3m 20s\tremaining: 49.5s\n",
      "499:\tlearn: 5851.2579048\ttotal: 4m 8s\tremaining: 0us\n",
      "[CV] END bootstrap_type=Bernoulli, depth=8, iterations=500, subsample=0.4; total time= 4.2min\n"
     ]
    },
    {
     "name": "stderr",
     "output_type": "stream",
     "text": [
      "Warning: less than 75% gpu memory available for training. Free: 34514.0625 Total: 48676.75\n",
      "Warning: less than 75% gpu memory available for training. Free: 34386.0625 Total: 48676.75\n",
      "Warning: less than 75% gpu memory available for training. Free: 28889.125 Total: 48676.75\n"
     ]
    },
    {
     "name": "stdout",
     "output_type": "stream",
     "text": [
      "Learning rate set to 0.062354\n",
      "0:\tlearn: 75821.1550022\ttotal: 567ms\tremaining: 4m 42s\n",
      "200:\tlearn: 13637.8866960\ttotal: 1m 47s\tremaining: 2m 40s\n",
      "400:\tlearn: 7591.7287940\ttotal: 3m 23s\tremaining: 50.2s\n",
      "499:\tlearn: 5677.4974228\ttotal: 4m 10s\tremaining: 0us\n",
      "[CV] END bootstrap_type=Bernoulli, depth=8, iterations=500, subsample=0.4; total time= 4.2min\n"
     ]
    },
    {
     "name": "stderr",
     "output_type": "stream",
     "text": [
      "Warning: less than 75% gpu memory available for training. Free: 34514.0625 Total: 48676.75\n",
      "Warning: less than 75% gpu memory available for training. Free: 34386.0625 Total: 48676.75\n",
      "Warning: less than 75% gpu memory available for training. Free: 28889.125 Total: 48676.75\n"
     ]
    },
    {
     "name": "stdout",
     "output_type": "stream",
     "text": [
      "Learning rate set to 0.062354\n",
      "0:\tlearn: 74413.1844909\ttotal: 722ms\tremaining: 6m\n",
      "200:\tlearn: 13475.1363284\ttotal: 1m 46s\tremaining: 2m 39s\n",
      "400:\tlearn: 7143.1776667\ttotal: 3m 19s\tremaining: 49.4s\n",
      "499:\tlearn: 5442.9510126\ttotal: 4m 7s\tremaining: 0us\n",
      "[CV] END bootstrap_type=Bernoulli, depth=8, iterations=500, subsample=0.4; total time= 4.2min\n"
     ]
    },
    {
     "name": "stderr",
     "output_type": "stream",
     "text": [
      "Warning: less than 75% gpu memory available for training. Free: 34514.0625 Total: 48676.75\n",
      "Warning: less than 75% gpu memory available for training. Free: 34386.0625 Total: 48676.75\n",
      "Warning: less than 75% gpu memory available for training. Free: 28889.125 Total: 48676.75\n"
     ]
    },
    {
     "name": "stdout",
     "output_type": "stream",
     "text": [
      "Learning rate set to 0.062354\n",
      "0:\tlearn: 78264.0306878\ttotal: 723ms\tremaining: 6m\n",
      "200:\tlearn: 14079.1342200\ttotal: 1m 47s\tremaining: 2m 40s\n",
      "400:\tlearn: 8198.0003710\ttotal: 3m 25s\tremaining: 50.6s\n",
      "499:\tlearn: 6323.3774918\ttotal: 4m 13s\tremaining: 0us\n",
      "[CV] END bootstrap_type=Bernoulli, depth=8, iterations=500, subsample=0.4; total time= 4.3min\n"
     ]
    },
    {
     "name": "stderr",
     "output_type": "stream",
     "text": [
      "Warning: less than 75% gpu memory available for training. Free: 34514.0625 Total: 48676.75\n",
      "Warning: less than 75% gpu memory available for training. Free: 34386.0625 Total: 48676.75\n",
      "Warning: less than 75% gpu memory available for training. Free: 28889.125 Total: 48676.75\n"
     ]
    },
    {
     "name": "stdout",
     "output_type": "stream",
     "text": [
      "Learning rate set to 0.062354\n",
      "0:\tlearn: 75810.9597253\ttotal: 653ms\tremaining: 5m 25s\n",
      "200:\tlearn: 14179.5593416\ttotal: 1m 49s\tremaining: 2m 43s\n",
      "400:\tlearn: 8326.1077687\ttotal: 3m 28s\tremaining: 51.5s\n",
      "499:\tlearn: 6574.6701318\ttotal: 4m 18s\tremaining: 0us\n",
      "[CV] END bootstrap_type=Bernoulli, depth=8, iterations=500, subsample=0.4; total time= 4.4min\n"
     ]
    },
    {
     "name": "stderr",
     "output_type": "stream",
     "text": [
      "Warning: less than 75% gpu memory available for training. Free: 34514.0625 Total: 48676.75\n",
      "Warning: less than 75% gpu memory available for training. Free: 34386.0625 Total: 48676.75\n",
      "Warning: less than 75% gpu memory available for training. Free: 28889.125 Total: 48676.75\n"
     ]
    },
    {
     "name": "stdout",
     "output_type": "stream",
     "text": [
      "Learning rate set to 0.062354\n",
      "0:\tlearn: 77540.9010940\ttotal: 524ms\tremaining: 4m 21s\n",
      "200:\tlearn: 13135.9929254\ttotal: 1m 45s\tremaining: 2m 37s\n",
      "400:\tlearn: 7230.7003318\ttotal: 3m 19s\tremaining: 49.3s\n",
      "499:\tlearn: 5553.9949833\ttotal: 4m 6s\tremaining: 0us\n",
      "[CV] END bootstrap_type=Bernoulli, depth=8, iterations=500, subsample=0.5; total time= 4.2min\n"
     ]
    },
    {
     "name": "stderr",
     "output_type": "stream",
     "text": [
      "Warning: less than 75% gpu memory available for training. Free: 34514.0625 Total: 48676.75\n",
      "Warning: less than 75% gpu memory available for training. Free: 34386.0625 Total: 48676.75\n",
      "Warning: less than 75% gpu memory available for training. Free: 28889.125 Total: 48676.75\n"
     ]
    },
    {
     "name": "stdout",
     "output_type": "stream",
     "text": [
      "Learning rate set to 0.062354\n",
      "0:\tlearn: 75758.8073795\ttotal: 644ms\tremaining: 5m 21s\n",
      "200:\tlearn: 13009.3213368\ttotal: 1m 46s\tremaining: 2m 38s\n",
      "400:\tlearn: 7262.9824886\ttotal: 3m 22s\tremaining: 49.9s\n",
      "499:\tlearn: 5487.0730476\ttotal: 4m 10s\tremaining: 0us\n",
      "[CV] END bootstrap_type=Bernoulli, depth=8, iterations=500, subsample=0.5; total time= 4.2min\n"
     ]
    },
    {
     "name": "stderr",
     "output_type": "stream",
     "text": [
      "Warning: less than 75% gpu memory available for training. Free: 34514.0625 Total: 48676.75\n",
      "Warning: less than 75% gpu memory available for training. Free: 34386.0625 Total: 48676.75\n",
      "Warning: less than 75% gpu memory available for training. Free: 28889.125 Total: 48676.75\n"
     ]
    },
    {
     "name": "stdout",
     "output_type": "stream",
     "text": [
      "Learning rate set to 0.062354\n",
      "0:\tlearn: 74333.0787318\ttotal: 746ms\tremaining: 6m 12s\n",
      "200:\tlearn: 12401.5552184\ttotal: 1m 43s\tremaining: 2m 34s\n",
      "400:\tlearn: 6812.7715037\ttotal: 3m 18s\tremaining: 49s\n",
      "499:\tlearn: 5181.7952355\ttotal: 4m 5s\tremaining: 0us\n",
      "[CV] END bootstrap_type=Bernoulli, depth=8, iterations=500, subsample=0.5; total time= 4.1min\n"
     ]
    },
    {
     "name": "stderr",
     "output_type": "stream",
     "text": [
      "Warning: less than 75% gpu memory available for training. Free: 34514.0625 Total: 48676.75\n",
      "Warning: less than 75% gpu memory available for training. Free: 34386.0625 Total: 48676.75\n",
      "Warning: less than 75% gpu memory available for training. Free: 28889.125 Total: 48676.75\n"
     ]
    },
    {
     "name": "stdout",
     "output_type": "stream",
     "text": [
      "Learning rate set to 0.062354\n",
      "0:\tlearn: 77996.9297155\ttotal: 515ms\tremaining: 4m 16s\n",
      "200:\tlearn: 13233.9598688\ttotal: 1m 48s\tremaining: 2m 40s\n",
      "400:\tlearn: 7562.0685146\ttotal: 3m 25s\tremaining: 50.6s\n",
      "499:\tlearn: 5841.2879045\ttotal: 4m 13s\tremaining: 0us\n",
      "[CV] END bootstrap_type=Bernoulli, depth=8, iterations=500, subsample=0.5; total time= 4.3min\n"
     ]
    },
    {
     "name": "stderr",
     "output_type": "stream",
     "text": [
      "Warning: less than 75% gpu memory available for training. Free: 34514.0625 Total: 48676.75\n",
      "Warning: less than 75% gpu memory available for training. Free: 34386.0625 Total: 48676.75\n",
      "Warning: less than 75% gpu memory available for training. Free: 28889.125 Total: 48676.75\n"
     ]
    },
    {
     "name": "stdout",
     "output_type": "stream",
     "text": [
      "Learning rate set to 0.062354\n",
      "0:\tlearn: 75652.6919714\ttotal: 642ms\tremaining: 5m 20s\n",
      "200:\tlearn: 13434.4870624\ttotal: 1m 46s\tremaining: 2m 39s\n",
      "400:\tlearn: 7886.1505515\ttotal: 3m 26s\tremaining: 50.9s\n",
      "499:\tlearn: 5989.2503522\ttotal: 4m 14s\tremaining: 0us\n",
      "[CV] END bootstrap_type=Bernoulli, depth=8, iterations=500, subsample=0.5; total time= 4.3min\n"
     ]
    },
    {
     "name": "stderr",
     "output_type": "stream",
     "text": [
      "Warning: less than 75% gpu memory available for training. Free: 34514.0625 Total: 48676.75\n",
      "Warning: less than 75% gpu memory available for training. Free: 34386.0625 Total: 48676.75\n",
      "Warning: less than 75% gpu memory available for training. Free: 28889.125 Total: 48676.75\n"
     ]
    },
    {
     "name": "stdout",
     "output_type": "stream",
     "text": [
      "Learning rate set to 0.062354\n",
      "0:\tlearn: 77634.0753881\ttotal: 627ms\tremaining: 5m 13s\n",
      "200:\tlearn: 12690.0460960\ttotal: 1m 45s\tremaining: 2m 36s\n",
      "400:\tlearn: 6978.1783705\ttotal: 3m 23s\tremaining: 50.2s\n",
      "499:\tlearn: 5399.7914521\ttotal: 4m 12s\tremaining: 0us\n",
      "[CV] END bootstrap_type=Bernoulli, depth=8, iterations=500, subsample=0.6; total time= 4.3min\n"
     ]
    },
    {
     "name": "stderr",
     "output_type": "stream",
     "text": [
      "Warning: less than 75% gpu memory available for training. Free: 34514.0625 Total: 48676.75\n",
      "Warning: less than 75% gpu memory available for training. Free: 34386.0625 Total: 48676.75\n",
      "Warning: less than 75% gpu memory available for training. Free: 28889.125 Total: 48676.75\n"
     ]
    },
    {
     "name": "stdout",
     "output_type": "stream",
     "text": [
      "Learning rate set to 0.062354\n",
      "0:\tlearn: 75703.5329162\ttotal: 474ms\tremaining: 3m 56s\n",
      "200:\tlearn: 12580.2172161\ttotal: 1m 48s\tremaining: 2m 40s\n",
      "400:\tlearn: 6924.6966088\ttotal: 3m 25s\tremaining: 50.8s\n",
      "499:\tlearn: 5272.9164606\ttotal: 4m 14s\tremaining: 0us\n",
      "[CV] END bootstrap_type=Bernoulli, depth=8, iterations=500, subsample=0.6; total time= 4.3min\n"
     ]
    },
    {
     "name": "stderr",
     "output_type": "stream",
     "text": [
      "Warning: less than 75% gpu memory available for training. Free: 34514.0625 Total: 48676.75\n",
      "Warning: less than 75% gpu memory available for training. Free: 34386.0625 Total: 48676.75\n",
      "Warning: less than 75% gpu memory available for training. Free: 28889.125 Total: 48676.75\n"
     ]
    },
    {
     "name": "stdout",
     "output_type": "stream",
     "text": [
      "Learning rate set to 0.062354\n",
      "0:\tlearn: 74470.2967474\ttotal: 649ms\tremaining: 5m 23s\n",
      "200:\tlearn: 12365.5838431\ttotal: 1m 44s\tremaining: 2m 35s\n",
      "400:\tlearn: 6647.1297586\ttotal: 3m 19s\tremaining: 49.3s\n",
      "499:\tlearn: 4973.6431013\ttotal: 4m 6s\tremaining: 0us\n",
      "[CV] END bootstrap_type=Bernoulli, depth=8, iterations=500, subsample=0.6; total time= 4.2min\n"
     ]
    },
    {
     "name": "stderr",
     "output_type": "stream",
     "text": [
      "Warning: less than 75% gpu memory available for training. Free: 34514.0625 Total: 48676.75\n",
      "Warning: less than 75% gpu memory available for training. Free: 34386.0625 Total: 48676.75\n",
      "Warning: less than 75% gpu memory available for training. Free: 28889.125 Total: 48676.75\n"
     ]
    },
    {
     "name": "stdout",
     "output_type": "stream",
     "text": [
      "Learning rate set to 0.062354\n",
      "0:\tlearn: 78188.6396233\ttotal: 722ms\tremaining: 6m\n",
      "200:\tlearn: 12934.0585288\ttotal: 1m 47s\tremaining: 2m 39s\n",
      "400:\tlearn: 7325.1570725\ttotal: 3m 23s\tremaining: 50.3s\n",
      "499:\tlearn: 5710.2957436\ttotal: 4m 13s\tremaining: 0us\n",
      "[CV] END bootstrap_type=Bernoulli, depth=8, iterations=500, subsample=0.6; total time= 4.3min\n"
     ]
    },
    {
     "name": "stderr",
     "output_type": "stream",
     "text": [
      "Warning: less than 75% gpu memory available for training. Free: 34514.0625 Total: 48676.75\n",
      "Warning: less than 75% gpu memory available for training. Free: 34386.0625 Total: 48676.75\n",
      "Warning: less than 75% gpu memory available for training. Free: 28889.125 Total: 48676.75\n"
     ]
    },
    {
     "name": "stdout",
     "output_type": "stream",
     "text": [
      "Learning rate set to 0.062354\n",
      "0:\tlearn: 75685.5617291\ttotal: 625ms\tremaining: 5m 11s\n",
      "200:\tlearn: 12886.9180434\ttotal: 1m 47s\tremaining: 2m 40s\n",
      "400:\tlearn: 7244.3209387\ttotal: 3m 26s\tremaining: 50.9s\n",
      "499:\tlearn: 5465.1832891\ttotal: 4m 14s\tremaining: 0us\n",
      "[CV] END bootstrap_type=Bernoulli, depth=8, iterations=500, subsample=0.6; total time= 4.3min\n"
     ]
    },
    {
     "name": "stderr",
     "output_type": "stream",
     "text": [
      "Warning: less than 75% gpu memory available for training. Free: 34514.0625 Total: 48676.75\n",
      "Warning: less than 75% gpu memory available for training. Free: 34386.0625 Total: 48676.75\n",
      "Warning: less than 75% gpu memory available for training. Free: 28889.125 Total: 48676.75\n"
     ]
    },
    {
     "name": "stdout",
     "output_type": "stream",
     "text": [
      "Learning rate set to 0.062354\n",
      "0:\tlearn: 77391.7687004\ttotal: 511ms\tremaining: 4m 15s\n",
      "200:\tlearn: 12191.8953003\ttotal: 1m 44s\tremaining: 2m 35s\n",
      "400:\tlearn: 6623.9989412\ttotal: 3m 21s\tremaining: 49.9s\n",
      "499:\tlearn: 5041.6786941\ttotal: 4m 11s\tremaining: 0us\n",
      "[CV] END bootstrap_type=Bernoulli, depth=8, iterations=500, subsample=0.7; total time= 4.2min\n"
     ]
    },
    {
     "name": "stderr",
     "output_type": "stream",
     "text": [
      "Warning: less than 75% gpu memory available for training. Free: 34514.0625 Total: 48676.75\n",
      "Warning: less than 75% gpu memory available for training. Free: 34386.0625 Total: 48676.75\n",
      "Warning: less than 75% gpu memory available for training. Free: 28889.125 Total: 48676.75\n"
     ]
    },
    {
     "name": "stdout",
     "output_type": "stream",
     "text": [
      "Learning rate set to 0.062354\n",
      "0:\tlearn: 76051.6275574\ttotal: 667ms\tremaining: 5m 32s\n",
      "200:\tlearn: 12172.4832824\ttotal: 1m 46s\tremaining: 2m 37s\n",
      "400:\tlearn: 6678.2945899\ttotal: 3m 24s\tremaining: 50.6s\n",
      "499:\tlearn: 5049.1625347\ttotal: 4m 13s\tremaining: 0us\n",
      "[CV] END bootstrap_type=Bernoulli, depth=8, iterations=500, subsample=0.7; total time= 4.3min\n"
     ]
    },
    {
     "name": "stderr",
     "output_type": "stream",
     "text": [
      "Warning: less than 75% gpu memory available for training. Free: 34514.0625 Total: 48676.75\n",
      "Warning: less than 75% gpu memory available for training. Free: 34386.0625 Total: 48676.75\n",
      "Warning: less than 75% gpu memory available for training. Free: 28889.125 Total: 48676.75\n"
     ]
    },
    {
     "name": "stdout",
     "output_type": "stream",
     "text": [
      "Learning rate set to 0.062354\n",
      "0:\tlearn: 74296.0068383\ttotal: 505ms\tremaining: 4m 12s\n",
      "200:\tlearn: 11889.3697104\ttotal: 1m 42s\tremaining: 2m 32s\n",
      "400:\tlearn: 6342.0599220\ttotal: 3m 18s\tremaining: 49s\n",
      "499:\tlearn: 4884.5754432\ttotal: 4m 7s\tremaining: 0us\n",
      "[CV] END bootstrap_type=Bernoulli, depth=8, iterations=500, subsample=0.7; total time= 4.2min\n"
     ]
    },
    {
     "name": "stderr",
     "output_type": "stream",
     "text": [
      "Warning: less than 75% gpu memory available for training. Free: 34514.0625 Total: 48676.75\n",
      "Warning: less than 75% gpu memory available for training. Free: 34386.0625 Total: 48676.75\n",
      "Warning: less than 75% gpu memory available for training. Free: 28889.125 Total: 48676.75\n"
     ]
    },
    {
     "name": "stdout",
     "output_type": "stream",
     "text": [
      "Learning rate set to 0.062354\n",
      "0:\tlearn: 78084.6133827\ttotal: 569ms\tremaining: 4m 43s\n",
      "200:\tlearn: 12658.4147463\ttotal: 1m 46s\tremaining: 2m 39s\n",
      "400:\tlearn: 7149.0105609\ttotal: 3m 25s\tremaining: 50.6s\n",
      "499:\tlearn: 5506.2145911\ttotal: 4m 15s\tremaining: 0us\n",
      "[CV] END bootstrap_type=Bernoulli, depth=8, iterations=500, subsample=0.7; total time= 4.3min\n"
     ]
    },
    {
     "name": "stderr",
     "output_type": "stream",
     "text": [
      "Warning: less than 75% gpu memory available for training. Free: 34514.0625 Total: 48676.75\n",
      "Warning: less than 75% gpu memory available for training. Free: 34386.0625 Total: 48676.75\n",
      "Warning: less than 75% gpu memory available for training. Free: 28889.125 Total: 48676.75\n"
     ]
    },
    {
     "name": "stdout",
     "output_type": "stream",
     "text": [
      "Learning rate set to 0.062354\n",
      "0:\tlearn: 75594.2314535\ttotal: 722ms\tremaining: 6m\n",
      "200:\tlearn: 12374.0933793\ttotal: 1m 46s\tremaining: 2m 38s\n",
      "400:\tlearn: 7119.3412039\ttotal: 3m 25s\tremaining: 50.8s\n",
      "499:\tlearn: 5354.1006996\ttotal: 4m 14s\tremaining: 0us\n",
      "[CV] END bootstrap_type=Bernoulli, depth=8, iterations=500, subsample=0.7; total time= 4.3min\n"
     ]
    },
    {
     "name": "stderr",
     "output_type": "stream",
     "text": [
      "Warning: less than 75% gpu memory available for training. Free: 34514.0625 Total: 48676.75\n",
      "Warning: less than 75% gpu memory available for training. Free: 34386.0625 Total: 48676.75\n",
      "Warning: less than 75% gpu memory available for training. Free: 28889.125 Total: 48676.75\n"
     ]
    },
    {
     "name": "stdout",
     "output_type": "stream",
     "text": [
      "Learning rate set to 0.062354\n",
      "0:\tlearn: 77344.6898139\ttotal: 506ms\tremaining: 4m 12s\n",
      "200:\tlearn: 11183.5915813\ttotal: 1m 42s\tremaining: 2m 32s\n",
      "400:\tlearn: 6016.5304342\ttotal: 3m 22s\tremaining: 50s\n",
      "499:\tlearn: 4655.5369539\ttotal: 4m 12s\tremaining: 0us\n",
      "[CV] END bootstrap_type=Bernoulli, depth=8, iterations=500, subsample=0.8; total time= 4.3min\n"
     ]
    },
    {
     "name": "stderr",
     "output_type": "stream",
     "text": [
      "Warning: less than 75% gpu memory available for training. Free: 34514.0625 Total: 48676.75\n",
      "Warning: less than 75% gpu memory available for training. Free: 34386.0625 Total: 48676.75\n",
      "Warning: less than 75% gpu memory available for training. Free: 28889.125 Total: 48676.75\n"
     ]
    },
    {
     "name": "stdout",
     "output_type": "stream",
     "text": [
      "Learning rate set to 0.062354\n",
      "0:\tlearn: 76057.1076113\ttotal: 566ms\tremaining: 4m 42s\n",
      "200:\tlearn: 12206.5083201\ttotal: 1m 44s\tremaining: 2m 35s\n",
      "400:\tlearn: 6702.1725694\ttotal: 3m 23s\tremaining: 50.3s\n",
      "499:\tlearn: 5106.8471468\ttotal: 4m 13s\tremaining: 0us\n",
      "[CV] END bootstrap_type=Bernoulli, depth=8, iterations=500, subsample=0.8; total time= 4.3min\n"
     ]
    },
    {
     "name": "stderr",
     "output_type": "stream",
     "text": [
      "Warning: less than 75% gpu memory available for training. Free: 34514.0625 Total: 48676.75\n",
      "Warning: less than 75% gpu memory available for training. Free: 34386.0625 Total: 48676.75\n",
      "Warning: less than 75% gpu memory available for training. Free: 28889.125 Total: 48676.75\n"
     ]
    },
    {
     "name": "stdout",
     "output_type": "stream",
     "text": [
      "Learning rate set to 0.062354\n",
      "0:\tlearn: 74219.6816787\ttotal: 510ms\tremaining: 4m 14s\n",
      "200:\tlearn: 11335.0597922\ttotal: 1m 42s\tremaining: 2m 33s\n",
      "400:\tlearn: 6192.3819924\ttotal: 3m 19s\tremaining: 49.3s\n",
      "499:\tlearn: 4732.1533805\ttotal: 4m 8s\tremaining: 0us\n",
      "[CV] END bootstrap_type=Bernoulli, depth=8, iterations=500, subsample=0.8; total time= 4.2min\n"
     ]
    },
    {
     "name": "stderr",
     "output_type": "stream",
     "text": [
      "Warning: less than 75% gpu memory available for training. Free: 34514.0625 Total: 48676.75\n",
      "Warning: less than 75% gpu memory available for training. Free: 34386.0625 Total: 48676.75\n",
      "Warning: less than 75% gpu memory available for training. Free: 28889.125 Total: 48676.75\n"
     ]
    },
    {
     "name": "stdout",
     "output_type": "stream",
     "text": [
      "Learning rate set to 0.062354\n",
      "0:\tlearn: 77974.3205779\ttotal: 615ms\tremaining: 5m 6s\n",
      "200:\tlearn: 12473.2041912\ttotal: 1m 47s\tremaining: 2m 39s\n",
      "400:\tlearn: 7070.5176653\ttotal: 3m 26s\tremaining: 51.1s\n",
      "499:\tlearn: 5487.3766170\ttotal: 4m 17s\tremaining: 0us\n",
      "[CV] END bootstrap_type=Bernoulli, depth=8, iterations=500, subsample=0.8; total time= 4.3min\n"
     ]
    },
    {
     "name": "stderr",
     "output_type": "stream",
     "text": [
      "Warning: less than 75% gpu memory available for training. Free: 34514.0625 Total: 48676.75\n",
      "Warning: less than 75% gpu memory available for training. Free: 34386.0625 Total: 48676.75\n",
      "Warning: less than 75% gpu memory available for training. Free: 28889.125 Total: 48676.75\n"
     ]
    },
    {
     "name": "stdout",
     "output_type": "stream",
     "text": [
      "Learning rate set to 0.062354\n",
      "0:\tlearn: 75650.7991972\ttotal: 506ms\tremaining: 4m 12s\n",
      "200:\tlearn: 12095.4253687\ttotal: 1m 46s\tremaining: 2m 38s\n",
      "400:\tlearn: 7039.9828144\ttotal: 3m 26s\tremaining: 51.1s\n",
      "499:\tlearn: 5290.4096638\ttotal: 4m 16s\tremaining: 0us\n",
      "[CV] END bootstrap_type=Bernoulli, depth=8, iterations=500, subsample=0.8; total time= 4.3min\n"
     ]
    },
    {
     "name": "stderr",
     "output_type": "stream",
     "text": [
      "Warning: less than 75% gpu memory available for training. Free: 34514.0625 Total: 48676.75\n",
      "Warning: less than 75% gpu memory available for training. Free: 34386.0625 Total: 48676.75\n",
      "Warning: less than 75% gpu memory available for training. Free: 28889.125 Total: 48676.75\n"
     ]
    },
    {
     "name": "stdout",
     "output_type": "stream",
     "text": [
      "Learning rate set to 0.041224\n",
      "0:\tlearn: 78523.4208845\ttotal: 421ms\tremaining: 7m\n",
      "200:\tlearn: 17001.3263367\ttotal: 1m 54s\tremaining: 7m 35s\n",
      "400:\tlearn: 10672.3067463\ttotal: 3m 27s\tremaining: 5m 9s\n",
      "600:\tlearn: 7270.5345058\ttotal: 5m 1s\tremaining: 3m 20s\n",
      "800:\tlearn: 5020.9206163\ttotal: 6m 38s\tremaining: 1m 39s\n",
      "999:\tlearn: 3624.2062296\ttotal: 8m 15s\tremaining: 0us\n",
      "[CV] END bootstrap_type=Bernoulli, depth=8, iterations=1000, subsample=0.4; total time= 8.3min\n"
     ]
    },
    {
     "name": "stderr",
     "output_type": "stream",
     "text": [
      "Warning: less than 75% gpu memory available for training. Free: 34514.0625 Total: 48676.75\n",
      "Warning: less than 75% gpu memory available for training. Free: 34386.0625 Total: 48676.75\n",
      "Warning: less than 75% gpu memory available for training. Free: 28889.125 Total: 48676.75\n"
     ]
    },
    {
     "name": "stdout",
     "output_type": "stream",
     "text": [
      "Learning rate set to 0.041224\n",
      "0:\tlearn: 76889.4193594\ttotal: 565ms\tremaining: 9m 24s\n",
      "200:\tlearn: 16936.7329676\ttotal: 1m 55s\tremaining: 7m 39s\n",
      "400:\tlearn: 11088.3660814\ttotal: 3m 29s\tremaining: 5m 12s\n",
      "600:\tlearn: 7328.0815931\ttotal: 5m 5s\tremaining: 3m 22s\n",
      "800:\tlearn: 5005.2097790\ttotal: 6m 40s\tremaining: 1m 39s\n",
      "999:\tlearn: 3531.8515304\ttotal: 8m 18s\tremaining: 0us\n",
      "[CV] END bootstrap_type=Bernoulli, depth=8, iterations=1000, subsample=0.4; total time= 8.4min\n"
     ]
    },
    {
     "name": "stderr",
     "output_type": "stream",
     "text": [
      "Warning: less than 75% gpu memory available for training. Free: 34514.0625 Total: 48676.75\n",
      "Warning: less than 75% gpu memory available for training. Free: 34386.0625 Total: 48676.75\n",
      "Warning: less than 75% gpu memory available for training. Free: 28889.125 Total: 48676.75\n"
     ]
    },
    {
     "name": "stdout",
     "output_type": "stream",
     "text": [
      "Learning rate set to 0.041224\n",
      "0:\tlearn: 75406.2686686\ttotal: 722ms\tremaining: 12m 1s\n"
     ]
    }
   ],
   "source": [
    "# Grid Search\n",
    "from sklearn.model_selection import GridSearchCV\n",
    "\n",
    "# Define the model\n",
    "model = CatBoostRegressor(\n",
    "    boosting_type='Plain',         # Use random forest mode\n",
    "    bootstrap_type='Poisson',    # Random sampling of data points\n",
    "    task_type='GPU',               # needed for Poisson\n",
    "    verbose=200,                    # Output training progress every 100 iterations\n",
    "    cat_features=categorical_columns.to_list()\n",
    ")\n",
    "\n",
    "# Set up the parameter grid\n",
    "param_grid = {\n",
    "    'bootstrap_type': ['Bernoulli', 'Poisson'],\n",
    "    'depth': [4, 6, 8],\n",
    "    'iterations': [100, 500, 1000],\n",
    "    'subsample': [0.4,0.5,0.6,0.7,0.8],\n",
    "}\n",
    "\n",
    "# Configure GridSearchCV\n",
    "# When cv=None, default is 5-fold cross validation\n",
    "grid_search = GridSearchCV(estimator=model, param_grid=param_grid, \n",
    "                           cv=None, scoring='neg_mean_squared_error', verbose=2)\n",
    "\n",
    "# Fit GridSearchCV\n",
    "grid_search.fit(X, y)\n",
    "\n",
    "# Best parameters and best score\n",
    "print(\"Best parameters:\", grid_search.best_params_)\n",
    "print(\"Best RMSE:\", (-grid_search.best_score_) ** 0.5)"
   ]
  }
 ],
 "metadata": {
  "kernelspec": {
   "display_name": "py311",
   "language": "python",
   "name": "python3"
  },
  "language_info": {
   "codemirror_mode": {
    "name": "ipython",
    "version": 3
   },
   "file_extension": ".py",
   "mimetype": "text/x-python",
   "name": "python",
   "nbconvert_exporter": "python",
   "pygments_lexer": "ipython3",
   "version": "3.11.0"
  }
 },
 "nbformat": 4,
 "nbformat_minor": 2
}
