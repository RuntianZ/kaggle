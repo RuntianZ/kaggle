{
 "cells": [
  {
   "cell_type": "code",
   "execution_count": 1,
   "id": "319ad930",
   "metadata": {},
   "outputs": [],
   "source": [
    "import torch\n",
    "import torch.nn.functional as F\n",
    "\n",
    "batch_size = 10\n",
    "seq_len = 1000\n",
    "max_id = 10\n",
    "id_embed_dim = 8"
   ]
  },
  {
   "cell_type": "code",
   "execution_count": 2,
   "id": "5c9ab0d9",
   "metadata": {},
   "outputs": [
    {
     "name": "stdout",
     "output_type": "stream",
     "text": [
      "Max dot product: 0.22959309816360474\n"
     ]
    }
   ],
   "source": [
    "def generate_embedding_vectors(n_vectors=100, dim=8, lr=0.01, n_iterations=10000):\n",
    "    # Initialize random vectors\n",
    "    vectors = torch.randn(n_vectors, dim, requires_grad=True)\n",
    "    optimizer = torch.optim.Adam([vectors], lr=lr)\n",
    "    \n",
    "    best_loss = float('inf')\n",
    "    best_vectors = None\n",
    "    \n",
    "    for iteration in range(n_iterations):\n",
    "        optimizer.zero_grad()\n",
    "        \n",
    "        # Normalize vectors\n",
    "        normalized_vectors = F.normalize(vectors, dim=1)\n",
    "        \n",
    "        # Compute all pairwise dot products\n",
    "        dot_products = torch.mm(normalized_vectors, normalized_vectors.t())\n",
    "        \n",
    "        # Mask out diagonal (self dot products)\n",
    "        mask = ~torch.eye(n_vectors, dtype=torch.bool, device=vectors.device)\n",
    "        off_diagonal_dots = dot_products[mask]\n",
    "        \n",
    "        # Loss: minimize maximum absolute dot product\n",
    "        # We use a smooth approximation of max using log-sum-exp\n",
    "        abs_dots = torch.abs(off_diagonal_dots)\n",
    "        loss = torch.logsumexp(abs_dots * 10, dim=0) / 10  # Temperature=10\n",
    "        \n",
    "        loss.backward()\n",
    "        optimizer.step()\n",
    "        \n",
    "        if loss.item() < best_loss:\n",
    "            best_loss = loss.item()\n",
    "            best_vectors = normalized_vectors.detach().clone()\n",
    "    \n",
    "    print('Max dot product:', torch.abs(torch.mm(best_vectors, best_vectors.t())[mask]).max().item())\n",
    "    return best_vectors\n",
    "\n",
    "\n",
    "id_embeddings = generate_embedding_vectors(max_id, id_embed_dim)"
   ]
  },
  {
   "cell_type": "code",
   "execution_count": 3,
   "id": "92c542f5",
   "metadata": {},
   "outputs": [
    {
     "data": {
      "text/plain": [
       "torch.Size([10, 1000, 8])"
      ]
     },
     "execution_count": 3,
     "metadata": {},
     "output_type": "execute_result"
    }
   ],
   "source": [
    "indices = torch.randint(0, max_id, (batch_size, seq_len), dtype=torch.int64)\n",
    "id_tensor = id_embeddings[indices].view(batch_size, seq_len, id_embed_dim)\n",
    "id_tensor.shape"
   ]
  },
  {
   "cell_type": "markdown",
   "id": "e0c45147",
   "metadata": {},
   "source": [
    "# Retrieval"
   ]
  },
  {
   "cell_type": "code",
   "execution_count": 17,
   "id": "30dc641d",
   "metadata": {},
   "outputs": [
    {
     "name": "stdout",
     "output_type": "stream",
     "text": [
      "Initial evaluation:\n",
      "Accuracy of 1: 0.9518 (484351.0/508886)\n",
      "Accuracy of 0: 0.0426 (191332.0/4496114)\n"
     ]
    },
    {
     "name": "stderr",
     "output_type": "stream",
     "text": [
      "100%|██████████| 100/100 [00:20<00:00,  4.88it/s]\n"
     ]
    },
    {
     "name": "stdout",
     "output_type": "stream",
     "text": [
      "Final evaluation:\n",
      "Accuracy of 1: 1.0000 (508886.0/508886)\n",
      "Accuracy of 0: 0.9998 (4495114.0/4496114)\n"
     ]
    },
    {
     "data": {
      "image/png": "[encoded data removed]",
      "text/plain": [
       "<Figure size 640x480 with 1 Axes>"
      ]
     },
     "metadata": {},
     "output_type": "display_data"
    }
   ],
   "source": [
    "from torch.nn import MultiheadAttention, Linear\n",
    "from tqdm import tqdm\n",
    "import numpy as np\n",
    "import matplotlib.pyplot as plt\n",
    "\n",
    "num_heads = 1\n",
    "attn_model = MultiheadAttention(embed_dim=id_embed_dim, num_heads=num_heads, batch_first=True)\n",
    "def get_attn_score(X_train, start, end):\n",
    "    target_len = end - start\n",
    "    attn_mask = torch.triu(torch.ones(target_len, X_train.shape[1]), diagonal=start+1).bool()\n",
    "    # attn_mask = attn_mask.unsqueeze(0).repeat(num_heads, 1, 1)\n",
    "    score = attn_model(X_train[:, start:end, :], X_train, X_train, attn_mask=attn_mask)\n",
    "    return score \n",
    "\n",
    "\n",
    "def get_retrieval_target(idx, start, end):\n",
    "    target_indices = torch.arange(start, end).unsqueeze(1)\n",
    "    source_indices = torch.arange(0, seq_len).unsqueeze(0)\n",
    "    cond1 = (target_indices > source_indices - start).unsqueeze(0).repeat(idx.shape[0], 1, 1)\n",
    "    a_target = idx[:, target_indices]\n",
    "    a_source = idx[:, source_indices]\n",
    "    cond2 = (a_target == a_source)\n",
    "    ans = (cond1 & cond2).long()\n",
    "    return ans\n",
    "\n",
    "\n",
    "def get_score_and_target(idx, X_train, start, end):\n",
    "    \"\"\"\n",
    "    This score is the attention weight. The sum must be 1.\n",
    "    \"\"\"\n",
    "    target_len = end - start\n",
    "    attn_score = get_attn_score(X_train, start, end)[1]\n",
    "    attn_mask = ~torch.triu(torch.ones(target_len, X_train.shape[1]), diagonal=start+1).bool()\n",
    "    x = attn_score[:, attn_mask]\n",
    "    # attn_score[:, ~attn_mask] is always 0 \n",
    "    # print(x.shape) == [batch_size, 55]  (55 is the num of non-masked elements)\n",
    "    target = get_retrieval_target(idx, start, end)\n",
    "    target = target[:, attn_mask]\n",
    "    # print(target.shape)  # [batch_size, 55]\n",
    "    # loss = criterion(x, target.float())\n",
    "    return x, target\n",
    "\n",
    "\n",
    "class ExponentialMovingAverage:\n",
    "    def __init__(self, alpha=0.01):\n",
    "        self.alpha = alpha\n",
    "        self.moving_avg = None\n",
    "        self.history = []\n",
    "    \n",
    "    def update(self, value):\n",
    "        if self.moving_avg is None:\n",
    "            self.moving_avg = value\n",
    "        else:\n",
    "            self.moving_avg = self.alpha * value + (1 - self.alpha) * self.moving_avg\n",
    "        self.history.append(self.moving_avg)\n",
    "    \n",
    "    def get_average(self):\n",
    "        return self.moving_avg\n",
    "\n",
    "\n",
    "def evaluation(idx, X):\n",
    "    cnt_0 = 0\n",
    "    cnt_1 = 0\n",
    "    acc_0 = 0.0\n",
    "    acc_1 = 0.0\n",
    "    with torch.no_grad():\n",
    "        for start in range(0, seq_len, 100):\n",
    "            end = min(start + 100, seq_len)\n",
    "            avg = 1.0 / seq_len\n",
    "            score, target = get_score_and_target(idx, X, start, end)\n",
    "            # We set the threshold to be random guess (1 / seq_len)\n",
    "            x = (score > avg).long().view(-1)\n",
    "            y = target.long().view(-1)\n",
    "            acc_0 += ((x == y) & (y == 0)).float().sum().item()\n",
    "            acc_1 += ((x == y) & (y == 1)).float().sum().item()\n",
    "            cnt_0 += (y == 0).int().sum().item()\n",
    "            cnt_1 += (y == 1).int().sum().item()\n",
    "    print(f'Accuracy of 1: {acc_1 / cnt_1:.4f} ({acc_1}/{cnt_1})')\n",
    "    print(f'Accuracy of 0: {acc_0 / cnt_0:.4f} ({acc_0}/{cnt_0})')\n",
    "\n",
    "\n",
    "print('Initial evaluation:')\n",
    "evaluation(indices, id_tensor)\n",
    "# criterion = torch.nn.BCEWithLogitsLoss(pos_weight=torch.tensor(1000.0))\n",
    "criterion = torch.nn.BCEWithLogitsLoss()\n",
    "loss_ema = ExponentialMovingAverage(alpha=0.001)\n",
    "\n",
    "n_epochs = 100\n",
    "optimizer = torch.optim.Adam(attn_model.parameters(), lr=0.1)\n",
    "scheduler = torch.optim.lr_scheduler.StepLR(optimizer, step_size=40, gamma=0.1)\n",
    "\n",
    "for _ in tqdm(range(n_epochs)):\n",
    "    start = 0\n",
    "    while start < seq_len:\n",
    "        ss = 5000 // (start + 1)\n",
    "        assert ss > 0\n",
    "        end = min(start + ss, seq_len)\n",
    "        score, target = get_score_and_target(indices, id_tensor, start, end)\n",
    "        score, target = score.view(-1), target.view(-1)\n",
    "        # print(score.shape, target.shape)\n",
    "        a = np.arange(score.shape[0])\n",
    "        a = np.random.permutation(a)\n",
    "        score = score[a]\n",
    "        target = target[a]\n",
    "        idx_0 = np.arange(score.shape[0])[target == 0]\n",
    "        idx_1 = np.arange(score.shape[0])[target == 1]\n",
    "        if len(idx_0) < len(idx_1):\n",
    "            idx_0 = np.random.choice(idx_0, len(idx_1), replace=True)\n",
    "        elif len(idx_1) < len(idx_0):\n",
    "            idx_1 = np.random.choice(idx_1, len(idx_0), replace=True)\n",
    "        score_0 = score[idx_0]\n",
    "        score_1 = score[idx_1]\n",
    "        target_0 = target[idx_0]\n",
    "        target_1 = target[idx_1]\n",
    "        # loss = criterion(score_1.float(), target_1.float()) \n",
    "        # loss = criterion(score_0.float(), target_0.float())\n",
    "        loss = criterion(score_0.float(), target_0.float()) + criterion(score_1.float(), target_1.float())\n",
    "\n",
    "        # loss = criterion(score.float().view(-1), target.float().view(-1))\n",
    "        loss_ema.update(loss.item())\n",
    "        optimizer.zero_grad()\n",
    "        loss.backward()\n",
    "        optimizer.step()\n",
    "        \n",
    "        # while score.shape[1] > 0:\n",
    "        #     bsz = min(score.shape[1], 100)\n",
    "        #     x = score[:, :bsz].float().view(-1)\n",
    "        #     y = target[:, :bsz].float().view(-1)\n",
    "        #     loss = criterion(x, y)\n",
    "        #     score = score[:, bsz:]\n",
    "        #     target = target[:, bsz:]\n",
    "        #     loss_ema.update(loss.item())\n",
    "        #     optimizer.zero_grad()\n",
    "        #     loss.backward()\n",
    "        #     optimizer.step()\n",
    "        start = end\n",
    "    scheduler.step()\n",
    "\n",
    "plt.plot(loss_ema.history)\n",
    "print('Final evaluation:')\n",
    "evaluation(indices, id_tensor)\n"
   ]
  },
  {
   "cell_type": "code",
   "execution_count": 18,
   "id": "f3083caf",
   "metadata": {},
   "outputs": [
    {
     "name": "stdout",
     "output_type": "stream",
     "text": [
      "OOS evaluation:\n",
      "Accuracy of 1: 1.0000 (152291.0/152291)\n",
      "Accuracy of 0: 0.9998 (1348909.0/1349209)\n"
     ]
    }
   ],
   "source": [
    "# Test on OOS\n",
    "test_batch_size = 3\n",
    "test_seq_len = 1000\n",
    "indices_test = torch.randint(0, max_id, (test_batch_size, test_seq_len), dtype=torch.int64)\n",
    "id_tensor_test = id_embeddings[indices_test].view(test_batch_size, test_seq_len, id_embed_dim)\n",
    "print('OOS evaluation:')\n",
    "evaluation(indices_test, id_tensor_test)"
   ]
  },
  {
   "cell_type": "code",
   "execution_count": null,
   "id": "8c7e9ab9",
   "metadata": {},
   "outputs": [],
   "source": []
  },
  {
   "cell_type": "markdown",
   "id": "88b0ca02",
   "metadata": {},
   "source": [
    "## Scratch"
   ]
  },
  {
   "cell_type": "code",
   "execution_count": null,
   "id": "b6be7a52",
   "metadata": {},
   "outputs": [],
   "source": [
    "indices[:20]"
   ]
  },
  {
   "cell_type": "code",
   "execution_count": null,
   "id": "eb3b2d5b",
   "metadata": {},
   "outputs": [],
   "source": [
    "\n",
    "\n",
    "start = 0\n",
    "end = 25\n",
    "target_len = end - start\n",
    "attn_score = get_attn_score(id_tensor, start, end)[1]\n",
    "attn_score[0, 10, :15]\n",
    "# attn_mask = ~torch.triu(torch.ones(target_len, id_tensor.shape[1]), diagonal=start+1).bool()\n",
    "# x = attn_score[:, attn_mask]\n",
    "# target = get_retrieval_target(start, end)\n",
    "# target = target[:, attn_mask]\n",
    "\n",
    "prob = attn_score[0, 10, :11]\n",
    "prob\n",
    "\n"
   ]
  },
  {
   "cell_type": "code",
   "execution_count": null,
   "id": "11b1cc3c",
   "metadata": {},
   "outputs": [],
   "source": []
  }
 ],
 "metadata": {
  "kernelspec": {
   "display_name": "ml",
   "language": "python",
   "name": "python3"
  },
  "language_info": {
   "codemirror_mode": {
    "name": "ipython",
    "version": 3
   },
   "file_extension": ".py",
   "mimetype": "text/x-python",
   "name": "python",
   "nbconvert_exporter": "python",
   "pygments_lexer": "ipython3",
   "version": "3.11.6"
  }
 },
 "nbformat": 4,
 "nbformat_minor": 5
}
